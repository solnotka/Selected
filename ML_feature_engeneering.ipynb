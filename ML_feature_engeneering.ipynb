{
 "cells": [
  {
   "cell_type": "markdown",
   "id": "7e516696",
   "metadata": {},
   "source": [
    "Потренируем навыки, полученные на практическом занятии. Пользуясь новыми знаниями, проведите эксплоративный анализ данных на данных недвижимости Бостона, и попытайтесь обучить линейную модель наиболее качественно. Все ваши действия и решения описывайте в markdown.\n",
    "\n",
    "Данные вы сможете получить исполнив следующий код:\n",
    "\n",
    "```\n",
    "from sklearn.datasets import load_boston\n",
    "import pandas as pd\n",
    "data = pd.read_csv(load_boston()[‘filename’], skiprows=1)\n",
    "```\n",
    "\n",
    "Переменная, которую надо предсказать - ’MEDV’.\n",
    "\n",
    "Прочитать информацию о содержимом датасета:\n",
    "\n",
    "```\n",
    "print(load_boston()[‘DESCR’])\n",
    "```\n",
    "\n",
    "Если вы не удовлетворены результатом, но лучшего решения предложить не можете, то высылайте задание на проверку.\n",
    "Цель задания - закрепить полученные навыки."
   ]
  },
  {
   "cell_type": "code",
   "execution_count": 1,
   "id": "3307a3be",
   "metadata": {},
   "outputs": [],
   "source": [
    "from sklearn.datasets import load_boston\n",
    "from sklearn.linear_model import LinearRegression\n",
    "from sklearn.metrics import mean_squared_error\n",
    "from sklearn.model_selection import train_test_split\n",
    "from sklearn.preprocessing import LabelEncoder\n",
    "from sklearn.preprocessing import StandardScaler\n",
    "\n",
    "import matplotlib.pyplot as plt\n",
    "import pandas as pd\n",
    "import seaborn as sns\n",
    "\n",
    "import warnings\n",
    "warnings.filterwarnings(\"ignore\")"
   ]
  },
  {
   "cell_type": "code",
   "execution_count": 2,
   "id": "bf64a92d",
   "metadata": {},
   "outputs": [],
   "source": [
    "data = pd.read_csv(load_boston()['filename'], skiprows=1)"
   ]
  },
  {
   "cell_type": "code",
   "execution_count": 3,
   "id": "24740db2",
   "metadata": {},
   "outputs": [
    {
     "data": {
      "text/html": [
       "<div>\n",
       "<style scoped>\n",
       "    .dataframe tbody tr th:only-of-type {\n",
       "        vertical-align: middle;\n",
       "    }\n",
       "\n",
       "    .dataframe tbody tr th {\n",
       "        vertical-align: top;\n",
       "    }\n",
       "\n",
       "    .dataframe thead th {\n",
       "        text-align: right;\n",
       "    }\n",
       "</style>\n",
       "<table border=\"1\" class=\"dataframe\">\n",
       "  <thead>\n",
       "    <tr style=\"text-align: right;\">\n",
       "      <th></th>\n",
       "      <th>CRIM</th>\n",
       "      <th>ZN</th>\n",
       "      <th>INDUS</th>\n",
       "      <th>CHAS</th>\n",
       "      <th>NOX</th>\n",
       "      <th>RM</th>\n",
       "      <th>AGE</th>\n",
       "      <th>DIS</th>\n",
       "      <th>RAD</th>\n",
       "      <th>TAX</th>\n",
       "      <th>PTRATIO</th>\n",
       "      <th>B</th>\n",
       "      <th>LSTAT</th>\n",
       "      <th>MEDV</th>\n",
       "    </tr>\n",
       "  </thead>\n",
       "  <tbody>\n",
       "    <tr>\n",
       "      <th>0</th>\n",
       "      <td>0.00632</td>\n",
       "      <td>18.0</td>\n",
       "      <td>2.31</td>\n",
       "      <td>0</td>\n",
       "      <td>0.538</td>\n",
       "      <td>6.575</td>\n",
       "      <td>65.2</td>\n",
       "      <td>4.0900</td>\n",
       "      <td>1</td>\n",
       "      <td>296</td>\n",
       "      <td>15.3</td>\n",
       "      <td>396.90</td>\n",
       "      <td>4.98</td>\n",
       "      <td>24.0</td>\n",
       "    </tr>\n",
       "    <tr>\n",
       "      <th>1</th>\n",
       "      <td>0.02731</td>\n",
       "      <td>0.0</td>\n",
       "      <td>7.07</td>\n",
       "      <td>0</td>\n",
       "      <td>0.469</td>\n",
       "      <td>6.421</td>\n",
       "      <td>78.9</td>\n",
       "      <td>4.9671</td>\n",
       "      <td>2</td>\n",
       "      <td>242</td>\n",
       "      <td>17.8</td>\n",
       "      <td>396.90</td>\n",
       "      <td>9.14</td>\n",
       "      <td>21.6</td>\n",
       "    </tr>\n",
       "    <tr>\n",
       "      <th>2</th>\n",
       "      <td>0.02729</td>\n",
       "      <td>0.0</td>\n",
       "      <td>7.07</td>\n",
       "      <td>0</td>\n",
       "      <td>0.469</td>\n",
       "      <td>7.185</td>\n",
       "      <td>61.1</td>\n",
       "      <td>4.9671</td>\n",
       "      <td>2</td>\n",
       "      <td>242</td>\n",
       "      <td>17.8</td>\n",
       "      <td>392.83</td>\n",
       "      <td>4.03</td>\n",
       "      <td>34.7</td>\n",
       "    </tr>\n",
       "    <tr>\n",
       "      <th>3</th>\n",
       "      <td>0.03237</td>\n",
       "      <td>0.0</td>\n",
       "      <td>2.18</td>\n",
       "      <td>0</td>\n",
       "      <td>0.458</td>\n",
       "      <td>6.998</td>\n",
       "      <td>45.8</td>\n",
       "      <td>6.0622</td>\n",
       "      <td>3</td>\n",
       "      <td>222</td>\n",
       "      <td>18.7</td>\n",
       "      <td>394.63</td>\n",
       "      <td>2.94</td>\n",
       "      <td>33.4</td>\n",
       "    </tr>\n",
       "    <tr>\n",
       "      <th>4</th>\n",
       "      <td>0.06905</td>\n",
       "      <td>0.0</td>\n",
       "      <td>2.18</td>\n",
       "      <td>0</td>\n",
       "      <td>0.458</td>\n",
       "      <td>7.147</td>\n",
       "      <td>54.2</td>\n",
       "      <td>6.0622</td>\n",
       "      <td>3</td>\n",
       "      <td>222</td>\n",
       "      <td>18.7</td>\n",
       "      <td>396.90</td>\n",
       "      <td>5.33</td>\n",
       "      <td>36.2</td>\n",
       "    </tr>\n",
       "  </tbody>\n",
       "</table>\n",
       "</div>"
      ],
      "text/plain": [
       "      CRIM    ZN  INDUS  CHAS    NOX     RM   AGE     DIS  RAD  TAX  PTRATIO  \\\n",
       "0  0.00632  18.0   2.31     0  0.538  6.575  65.2  4.0900    1  296     15.3   \n",
       "1  0.02731   0.0   7.07     0  0.469  6.421  78.9  4.9671    2  242     17.8   \n",
       "2  0.02729   0.0   7.07     0  0.469  7.185  61.1  4.9671    2  242     17.8   \n",
       "3  0.03237   0.0   2.18     0  0.458  6.998  45.8  6.0622    3  222     18.7   \n",
       "4  0.06905   0.0   2.18     0  0.458  7.147  54.2  6.0622    3  222     18.7   \n",
       "\n",
       "        B  LSTAT  MEDV  \n",
       "0  396.90   4.98  24.0  \n",
       "1  396.90   9.14  21.6  \n",
       "2  392.83   4.03  34.7  \n",
       "3  394.63   2.94  33.4  \n",
       "4  396.90   5.33  36.2  "
      ]
     },
     "execution_count": 3,
     "metadata": {},
     "output_type": "execute_result"
    }
   ],
   "source": [
    "data.head()"
   ]
  },
  {
   "cell_type": "code",
   "execution_count": 4,
   "id": "0d905572",
   "metadata": {},
   "outputs": [
    {
     "name": "stdout",
     "output_type": "stream",
     "text": [
      ".. _boston_dataset:\n",
      "\n",
      "Boston house prices dataset\n",
      "---------------------------\n",
      "\n",
      "**Data Set Characteristics:**  \n",
      "\n",
      "    :Number of Instances: 506 \n",
      "\n",
      "    :Number of Attributes: 13 numeric/categorical predictive. Median Value (attribute 14) is usually the target.\n",
      "\n",
      "    :Attribute Information (in order):\n",
      "        - CRIM     per capita crime rate by town\n",
      "        - ZN       proportion of residential land zoned for lots over 25,000 sq.ft.\n",
      "        - INDUS    proportion of non-retail business acres per town\n",
      "        - CHAS     Charles River dummy variable (= 1 if tract bounds river; 0 otherwise)\n",
      "        - NOX      nitric oxides concentration (parts per 10 million)\n",
      "        - RM       average number of rooms per dwelling\n",
      "        - AGE      proportion of owner-occupied units built prior to 1940\n",
      "        - DIS      weighted distances to five Boston employment centres\n",
      "        - RAD      index of accessibility to radial highways\n",
      "        - TAX      full-value property-tax rate per $10,000\n",
      "        - PTRATIO  pupil-teacher ratio by town\n",
      "        - B        1000(Bk - 0.63)^2 where Bk is the proportion of blacks by town\n",
      "        - LSTAT    % lower status of the population\n",
      "        - MEDV     Median value of owner-occupied homes in $1000's\n",
      "\n",
      "    :Missing Attribute Values: None\n",
      "\n",
      "    :Creator: Harrison, D. and Rubinfeld, D.L.\n",
      "\n",
      "This is a copy of UCI ML housing dataset.\n",
      "https://archive.ics.uci.edu/ml/machine-learning-databases/housing/\n",
      "\n",
      "\n",
      "This dataset was taken from the StatLib library which is maintained at Carnegie Mellon University.\n",
      "\n",
      "The Boston house-price data of Harrison, D. and Rubinfeld, D.L. 'Hedonic\n",
      "prices and the demand for clean air', J. Environ. Economics & Management,\n",
      "vol.5, 81-102, 1978.   Used in Belsley, Kuh & Welsch, 'Regression diagnostics\n",
      "...', Wiley, 1980.   N.B. Various transformations are used in the table on\n",
      "pages 244-261 of the latter.\n",
      "\n",
      "The Boston house-price data has been used in many machine learning papers that address regression\n",
      "problems.   \n",
      "     \n",
      ".. topic:: References\n",
      "\n",
      "   - Belsley, Kuh & Welsch, 'Regression diagnostics: Identifying Influential Data and Sources of Collinearity', Wiley, 1980. 244-261.\n",
      "   - Quinlan,R. (1993). Combining Instance-Based and Model-Based Learning. In Proceedings on the Tenth International Conference of Machine Learning, 236-243, University of Massachusetts, Amherst. Morgan Kaufmann.\n",
      "\n"
     ]
    }
   ],
   "source": [
    "print(load_boston()['DESCR'])"
   ]
  },
  {
   "cell_type": "code",
   "execution_count": 5,
   "id": "e5754ce3",
   "metadata": {},
   "outputs": [
    {
     "name": "stdout",
     "output_type": "stream",
     "text": [
      "<class 'pandas.core.frame.DataFrame'>\n",
      "RangeIndex: 506 entries, 0 to 505\n",
      "Data columns (total 14 columns):\n",
      " #   Column   Non-Null Count  Dtype  \n",
      "---  ------   --------------  -----  \n",
      " 0   CRIM     506 non-null    float64\n",
      " 1   ZN       506 non-null    float64\n",
      " 2   INDUS    506 non-null    float64\n",
      " 3   CHAS     506 non-null    int64  \n",
      " 4   NOX      506 non-null    float64\n",
      " 5   RM       506 non-null    float64\n",
      " 6   AGE      506 non-null    float64\n",
      " 7   DIS      506 non-null    float64\n",
      " 8   RAD      506 non-null    int64  \n",
      " 9   TAX      506 non-null    int64  \n",
      " 10  PTRATIO  506 non-null    float64\n",
      " 11  B        506 non-null    float64\n",
      " 12  LSTAT    506 non-null    float64\n",
      " 13  MEDV     506 non-null    float64\n",
      "dtypes: float64(11), int64(3)\n",
      "memory usage: 55.5 KB\n"
     ]
    }
   ],
   "source": [
    "data.info()"
   ]
  },
  {
   "cell_type": "code",
   "execution_count": 6,
   "id": "9a7e8357",
   "metadata": {},
   "outputs": [
    {
     "data": {
      "text/html": [
       "<div>\n",
       "<style scoped>\n",
       "    .dataframe tbody tr th:only-of-type {\n",
       "        vertical-align: middle;\n",
       "    }\n",
       "\n",
       "    .dataframe tbody tr th {\n",
       "        vertical-align: top;\n",
       "    }\n",
       "\n",
       "    .dataframe thead th {\n",
       "        text-align: right;\n",
       "    }\n",
       "</style>\n",
       "<table border=\"1\" class=\"dataframe\">\n",
       "  <thead>\n",
       "    <tr style=\"text-align: right;\">\n",
       "      <th></th>\n",
       "      <th>CRIM</th>\n",
       "      <th>ZN</th>\n",
       "      <th>INDUS</th>\n",
       "      <th>CHAS</th>\n",
       "      <th>NOX</th>\n",
       "      <th>RM</th>\n",
       "      <th>AGE</th>\n",
       "      <th>DIS</th>\n",
       "      <th>RAD</th>\n",
       "      <th>TAX</th>\n",
       "      <th>PTRATIO</th>\n",
       "      <th>B</th>\n",
       "      <th>LSTAT</th>\n",
       "      <th>MEDV</th>\n",
       "    </tr>\n",
       "  </thead>\n",
       "  <tbody>\n",
       "    <tr>\n",
       "      <th>count</th>\n",
       "      <td>506.000000</td>\n",
       "      <td>506.000000</td>\n",
       "      <td>506.000000</td>\n",
       "      <td>506.000000</td>\n",
       "      <td>506.000000</td>\n",
       "      <td>506.000000</td>\n",
       "      <td>506.000000</td>\n",
       "      <td>506.000000</td>\n",
       "      <td>506.000000</td>\n",
       "      <td>506.000000</td>\n",
       "      <td>506.000000</td>\n",
       "      <td>506.000000</td>\n",
       "      <td>506.000000</td>\n",
       "      <td>506.000000</td>\n",
       "    </tr>\n",
       "    <tr>\n",
       "      <th>mean</th>\n",
       "      <td>3.613524</td>\n",
       "      <td>11.363636</td>\n",
       "      <td>11.136779</td>\n",
       "      <td>0.069170</td>\n",
       "      <td>0.554695</td>\n",
       "      <td>6.284634</td>\n",
       "      <td>68.574901</td>\n",
       "      <td>3.795043</td>\n",
       "      <td>9.549407</td>\n",
       "      <td>408.237154</td>\n",
       "      <td>18.455534</td>\n",
       "      <td>356.674032</td>\n",
       "      <td>12.653063</td>\n",
       "      <td>22.532806</td>\n",
       "    </tr>\n",
       "    <tr>\n",
       "      <th>std</th>\n",
       "      <td>8.601545</td>\n",
       "      <td>23.322453</td>\n",
       "      <td>6.860353</td>\n",
       "      <td>0.253994</td>\n",
       "      <td>0.115878</td>\n",
       "      <td>0.702617</td>\n",
       "      <td>28.148861</td>\n",
       "      <td>2.105710</td>\n",
       "      <td>8.707259</td>\n",
       "      <td>168.537116</td>\n",
       "      <td>2.164946</td>\n",
       "      <td>91.294864</td>\n",
       "      <td>7.141062</td>\n",
       "      <td>9.197104</td>\n",
       "    </tr>\n",
       "    <tr>\n",
       "      <th>min</th>\n",
       "      <td>0.006320</td>\n",
       "      <td>0.000000</td>\n",
       "      <td>0.460000</td>\n",
       "      <td>0.000000</td>\n",
       "      <td>0.385000</td>\n",
       "      <td>3.561000</td>\n",
       "      <td>2.900000</td>\n",
       "      <td>1.129600</td>\n",
       "      <td>1.000000</td>\n",
       "      <td>187.000000</td>\n",
       "      <td>12.600000</td>\n",
       "      <td>0.320000</td>\n",
       "      <td>1.730000</td>\n",
       "      <td>5.000000</td>\n",
       "    </tr>\n",
       "    <tr>\n",
       "      <th>25%</th>\n",
       "      <td>0.082045</td>\n",
       "      <td>0.000000</td>\n",
       "      <td>5.190000</td>\n",
       "      <td>0.000000</td>\n",
       "      <td>0.449000</td>\n",
       "      <td>5.885500</td>\n",
       "      <td>45.025000</td>\n",
       "      <td>2.100175</td>\n",
       "      <td>4.000000</td>\n",
       "      <td>279.000000</td>\n",
       "      <td>17.400000</td>\n",
       "      <td>375.377500</td>\n",
       "      <td>6.950000</td>\n",
       "      <td>17.025000</td>\n",
       "    </tr>\n",
       "    <tr>\n",
       "      <th>50%</th>\n",
       "      <td>0.256510</td>\n",
       "      <td>0.000000</td>\n",
       "      <td>9.690000</td>\n",
       "      <td>0.000000</td>\n",
       "      <td>0.538000</td>\n",
       "      <td>6.208500</td>\n",
       "      <td>77.500000</td>\n",
       "      <td>3.207450</td>\n",
       "      <td>5.000000</td>\n",
       "      <td>330.000000</td>\n",
       "      <td>19.050000</td>\n",
       "      <td>391.440000</td>\n",
       "      <td>11.360000</td>\n",
       "      <td>21.200000</td>\n",
       "    </tr>\n",
       "    <tr>\n",
       "      <th>75%</th>\n",
       "      <td>3.677083</td>\n",
       "      <td>12.500000</td>\n",
       "      <td>18.100000</td>\n",
       "      <td>0.000000</td>\n",
       "      <td>0.624000</td>\n",
       "      <td>6.623500</td>\n",
       "      <td>94.075000</td>\n",
       "      <td>5.188425</td>\n",
       "      <td>24.000000</td>\n",
       "      <td>666.000000</td>\n",
       "      <td>20.200000</td>\n",
       "      <td>396.225000</td>\n",
       "      <td>16.955000</td>\n",
       "      <td>25.000000</td>\n",
       "    </tr>\n",
       "    <tr>\n",
       "      <th>max</th>\n",
       "      <td>88.976200</td>\n",
       "      <td>100.000000</td>\n",
       "      <td>27.740000</td>\n",
       "      <td>1.000000</td>\n",
       "      <td>0.871000</td>\n",
       "      <td>8.780000</td>\n",
       "      <td>100.000000</td>\n",
       "      <td>12.126500</td>\n",
       "      <td>24.000000</td>\n",
       "      <td>711.000000</td>\n",
       "      <td>22.000000</td>\n",
       "      <td>396.900000</td>\n",
       "      <td>37.970000</td>\n",
       "      <td>50.000000</td>\n",
       "    </tr>\n",
       "  </tbody>\n",
       "</table>\n",
       "</div>"
      ],
      "text/plain": [
       "             CRIM          ZN       INDUS        CHAS         NOX          RM  \\\n",
       "count  506.000000  506.000000  506.000000  506.000000  506.000000  506.000000   \n",
       "mean     3.613524   11.363636   11.136779    0.069170    0.554695    6.284634   \n",
       "std      8.601545   23.322453    6.860353    0.253994    0.115878    0.702617   \n",
       "min      0.006320    0.000000    0.460000    0.000000    0.385000    3.561000   \n",
       "25%      0.082045    0.000000    5.190000    0.000000    0.449000    5.885500   \n",
       "50%      0.256510    0.000000    9.690000    0.000000    0.538000    6.208500   \n",
       "75%      3.677083   12.500000   18.100000    0.000000    0.624000    6.623500   \n",
       "max     88.976200  100.000000   27.740000    1.000000    0.871000    8.780000   \n",
       "\n",
       "              AGE         DIS         RAD         TAX     PTRATIO           B  \\\n",
       "count  506.000000  506.000000  506.000000  506.000000  506.000000  506.000000   \n",
       "mean    68.574901    3.795043    9.549407  408.237154   18.455534  356.674032   \n",
       "std     28.148861    2.105710    8.707259  168.537116    2.164946   91.294864   \n",
       "min      2.900000    1.129600    1.000000  187.000000   12.600000    0.320000   \n",
       "25%     45.025000    2.100175    4.000000  279.000000   17.400000  375.377500   \n",
       "50%     77.500000    3.207450    5.000000  330.000000   19.050000  391.440000   \n",
       "75%     94.075000    5.188425   24.000000  666.000000   20.200000  396.225000   \n",
       "max    100.000000   12.126500   24.000000  711.000000   22.000000  396.900000   \n",
       "\n",
       "            LSTAT        MEDV  \n",
       "count  506.000000  506.000000  \n",
       "mean    12.653063   22.532806  \n",
       "std      7.141062    9.197104  \n",
       "min      1.730000    5.000000  \n",
       "25%      6.950000   17.025000  \n",
       "50%     11.360000   21.200000  \n",
       "75%     16.955000   25.000000  \n",
       "max     37.970000   50.000000  "
      ]
     },
     "execution_count": 6,
     "metadata": {},
     "output_type": "execute_result"
    }
   ],
   "source": [
    "data.describe()"
   ]
  },
  {
   "cell_type": "code",
   "execution_count": 7,
   "id": "ec60a0c8",
   "metadata": {},
   "outputs": [],
   "source": [
    "X = data[load_boston()['feature_names']]\n",
    "y = data['MEDV']"
   ]
  },
  {
   "cell_type": "markdown",
   "id": "6314078a",
   "metadata": {},
   "source": [
    "Для начала мне нужна функция, чтобы измерять успешность модели. Метрикой будет MSE. Я буду смотреть ее значение на обучающей и тестовой выборке, а также на выборке целиком.\n",
    "\n",
    "При обучении модели я больше всего опиралась на MSE тестовой выборки."
   ]
  },
  {
   "cell_type": "code",
   "execution_count": 8,
   "id": "986a084e",
   "metadata": {},
   "outputs": [
    {
     "name": "stdout",
     "output_type": "stream",
     "text": [
      "learning error: 22.545481487421426\n",
      "generalization Error: 21.517444231177432\n",
      "Error: 22.236663971711767\n"
     ]
    }
   ],
   "source": [
    "def training(X, y):\n",
    "    X_train, X_test, y_train, y_test = train_test_split(X, y, test_size=0.3, random_state=42)\n",
    "    model = LinearRegression().fit(X_train, y_train)\n",
    "    model_2 = LinearRegression().fit(X, y)\n",
    "    predicted_0 = model.predict(X_train)\n",
    "    predicted = model.predict(X_test)\n",
    "    predicted_2 = model.predict(X)\n",
    "    print(f'learning error: {mean_squared_error(predicted_0, y_train)}')\n",
    "    print(f'generalization Error: {mean_squared_error(predicted, y_test)}')\n",
    "    print(f'Error: {mean_squared_error(predicted_2, y)}')\n",
    "    \n",
    "#Контрольные значения: линейная регрессия на исходных данных\n",
    "training(X, y)"
   ]
  },
  {
   "cell_type": "markdown",
   "id": "da3cfd5f",
   "metadata": {},
   "source": [
    "Сразу показываю результат, который получился. Дальше объясню ход своих мыслей подробнее, по пунктам"
   ]
  },
  {
   "cell_type": "code",
   "execution_count": 160,
   "id": "3484c227",
   "metadata": {},
   "outputs": [],
   "source": [
    "def best_dataset(data=pd.read_csv(load_boston()['filename'], skiprows=1)):\n",
    "    columns = list(load_boston()['feature_names'])\n",
    "    the_data = data[ (data['CRIM'] < 17) ]\n",
    "    \n",
    "    for col in ['RM', 'LSTAT', 'ZN', 'INDUS', 'PTRATIO', 'NOX', 'RAD', 'AGE', 'TAX']:\n",
    "        the_data[col + '2'] = the_data[col] ** 2\n",
    "        columns.append(col + '2')\n",
    "    \n",
    "    for col in ['RAD', 'INDUS', 'PTRATIO', 'NOX']:\n",
    "        the_data [col + '3'] = the_data[col] ** 3\n",
    "        columns.append(col + '3')\n",
    "        \n",
    "    for i in range(4, 7):\n",
    "        the_data['PTRATIO' + str(i)] = the_data.PTRATIO ** i\n",
    "        columns.append('PTRATIO' + str(i))\n",
    "    \n",
    "    the_data['NOX_INDUS'] = the_data['INDUS'] / (the_data['NOX'] ** 7)\n",
    "    the_data['B_LSTAT'] = 1 / the_data['B'] / the_data['LSTAT']\n",
    "    the_data['CRIM_RM'] = 1 / the_data['CRIM'] / the_data['RM']\n",
    "    the_data['CRIM_AGE'] = the_data['AGE'] / the_data['CRIM']\n",
    "    the_data['CRIM_PTRATIO'] = (the_data['PTRATIO'] ** 8) * the_data['CRIM']\n",
    "    the_data['CHAS_INDUS'] = the_data['CHAS'] * (the_data['INDUS3'] ** 3)\n",
    "    the_data['CHAS_NOX'] = the_data['CHAS'] * (the_data['NOX2'] ** 22)\n",
    "    the_data['CHAS_AGE'] = the_data['CHAS'] * (the_data['AGE'] ** 5)\n",
    "    the_data['CHAS_LSTAT'] = the_data['CHAS'] * the_data['LSTAT']\n",
    "    the_data['LSTAT_AGE'] = the_data['LSTAT'] * (the_data['AGE'] ** 2)\n",
    "    the_data['LSTAT_INDUS'] = the_data['LSTAT'] * (the_data['INDUS'] ** 3)\n",
    "    the_data['LSTAT_NOX'] = 1 / the_data['LSTAT'] / the_data['NOX']\n",
    "    the_data['LSTAT_RM'] = 1 / the_data['LSTAT'] / the_data['RM']\n",
    "    the_data['LSTAT_DIS'] = (the_data['DIS'] ** 2) / the_data['LSTAT']\n",
    "    the_data['LSTAT_RAD'] = the_data['RAD'] / the_data['LSTAT']\n",
    "    the_data['LSTAT_PTRATIO'] = the_data['PTRATIO6'] * the_data['LSTAT']\n",
    "    the_data['RM_ZN'] = the_data['ZN'] / the_data['RM']\n",
    "    the_data['RM_INDUS'] = (the_data['INDUS'] ** 2) / the_data['RM']\n",
    "    the_data['INDUS_TAX'] = the_data['INDUS'] / the_data['TAX']\n",
    "    the_data['INDUS_PTRATIO'] = the_data['INDUS'] / the_data['PTRATIO']\n",
    "    the_data['ZN_TAX'] = the_data['ZN'] * the_data['TAX']\n",
    "    the_data['ZN_PTRATIO'] = the_data['ZN'] / (the_data['PTRATIO'] ** 2)\n",
    "    the_data['ZN_B'] = (the_data['ZN'] ** 2) / (the_data['B'] ** 2)\n",
    "    the_data['AGE_DIS'] = the_data['DIS'] * (the_data['AGE'] ** 5)\n",
    "    the_data['AGE_RAD'] = the_data['AGE'] * (the_data['RAD'] ** 3)\n",
    "    the_data['DIS_B'] = (the_data['DIS'] ** 3) / the_data['B']\n",
    "    the_data['RAD_TAX'] = the_data['TAX'] * (the_data['RAD'] ** 2)\n",
    "    the_data['RAD_B'] = (the_data['B'] ** 4) / the_data['RAD']\n",
    "    the_data['CRIM_B_LSTAT'] = 1 / the_data['CRIM'] / the_data['B'] / (the_data['LSTAT'] ** 2)\n",
    "    \n",
    "    columns.extend(['NOX_INDUS', 'B_LSTAT', 'CRIM_RM', 'CRIM_AGE', 'CRIM_PTRATIO', 'CHAS_INDUS', 'CHAS_NOX','CHAS_AGE', \n",
    "                    'CHAS_LSTAT', 'LSTAT_AGE', 'LSTAT_INDUS', 'LSTAT_NOX', 'LSTAT_RM', 'LSTAT_DIS', 'LSTAT_RAD', \n",
    "                    'LSTAT_PTRATIO', 'RM_ZN', 'RM_INDUS', 'INDUS_TAX', 'INDUS_PTRATIO', 'ZN_TAX', 'ZN_PTRATIO', 'ZN_B', \n",
    "                    'AGE_DIS', 'AGE_RAD', 'DIS_B', 'RAD_TAX', 'RAD_B', 'CRIM_B_LSTAT'])\n",
    "    \n",
    "    return the_data, columns"
   ]
  },
  {
   "cell_type": "markdown",
   "id": "7a06f4b4",
   "metadata": {},
   "source": [
    "В финальную версию вошли не все переменные, которые я нашла. В результате повторной проверки оказалось, что некоторые из них плохо влияют на результат, пришлось их изменять и удалять."
   ]
  },
  {
   "cell_type": "code",
   "execution_count": 161,
   "id": "a2c64f22",
   "metadata": {},
   "outputs": [
    {
     "data": {
      "text/plain": [
       "58"
      ]
     },
     "execution_count": 161,
     "metadata": {},
     "output_type": "execute_result"
    }
   ],
   "source": [
    "the_data, the_columns = best_dataset()\n",
    "len(the_columns)"
   ]
  },
  {
   "cell_type": "code",
   "execution_count": 162,
   "id": "75030c69",
   "metadata": {},
   "outputs": [
    {
     "name": "stdout",
     "output_type": "stream",
     "text": [
      "learning error: 11.98358013474167\n",
      "generalization Error: 5.210511788832019\n",
      "Error: 9.950257339385768\n"
     ]
    }
   ],
   "source": [
    "X = the_data[the_columns]\n",
    "y = the_data['MEDV']\n",
    "\n",
    "# В результате удалось снизить MSE в два раза, на тестовой выборке - в 4 раза.\n",
    "training(X, y)"
   ]
  },
  {
   "cell_type": "markdown",
   "id": "16ac9831",
   "metadata": {},
   "source": [
    "Теперь собственно как я пришла к такому составу переменных.\n",
    "\n",
    "Во-первых, анализ датасета показал выбросы в трех столбцах. Оказалось, что выбросы в столбце 'CRIM' сильно влияют на итоговый результат. Я нашла пороговое значение CRIM, при котором ошибка на тестовой выборке была минимальной."
   ]
  },
  {
   "cell_type": "code",
   "execution_count": 19,
   "id": "9d76749d",
   "metadata": {},
   "outputs": [
    {
     "data": {
      "text/plain": [
       "<AxesSubplot:xlabel='CRIM'>"
      ]
     },
     "execution_count": 19,
     "metadata": {},
     "output_type": "execute_result"
    },
    {
     "data": {
      "image/png": "[encoded data removed]",
      "text/plain": [
       "<Figure size 432x288 with 1 Axes>"
      ]
     },
     "metadata": {
      "needs_background": "light"
     },
     "output_type": "display_data"
    }
   ],
   "source": [
    "sns.boxplot(data['CRIM'])"
   ]
  },
  {
   "cell_type": "code",
   "execution_count": 20,
   "id": "a76f0064",
   "metadata": {},
   "outputs": [
    {
     "name": "stdout",
     "output_type": "stream",
     "text": [
      "14\n",
      "36\n",
      "learning error: 20.97843693844168\n",
      "generalization Error: 20.671036342003756\n",
      "Error: 20.886216759510297\n",
      "15\n",
      "30\n",
      "learning error: 23.48944866330632\n",
      "generalization Error: 15.393684109881782\n",
      "Error: 21.05731771553382\n",
      "16\n",
      "24\n",
      "learning error: 24.09962265412695\n",
      "generalization Error: 13.498111899842202\n",
      "Error: 20.910371493605602\n",
      "17\n",
      "23\n",
      "learning error: 24.154321815291524\n",
      "generalization Error: 13.185242209850474\n",
      "Error: 20.861326902684993\n",
      "18\n",
      "22\n",
      "learning error: 24.013458922874587\n",
      "generalization Error: 13.952539423214924\n",
      "Error: 20.97855345396899\n",
      "19\n",
      "19\n",
      "learning error: 23.366329207362938\n",
      "generalization Error: 18.410113508523025\n",
      "Error: 21.870305166850684\n"
     ]
    }
   ],
   "source": [
    "for i in range(14, 20):\n",
    "    dwo_crim = data[ (data['CRIM'] < i) ]\n",
    "    print(i)\n",
    "    print(len(data) - len(dwo_crim))\n",
    "    X = dwo_crim.iloc[:, :13]\n",
    "    y = dwo_crim['MEDV']\n",
    "    training(X, y)"
   ]
  },
  {
   "cell_type": "markdown",
   "id": "4b8926df",
   "metadata": {},
   "source": [
    "Выбросы в следующих двух столбцах убрать не удалось, потому что это повышало ошибку."
   ]
  },
  {
   "cell_type": "code",
   "execution_count": 21,
   "id": "12d48124",
   "metadata": {},
   "outputs": [
    {
     "data": {
      "text/plain": [
       "<AxesSubplot:xlabel='DIS'>"
      ]
     },
     "execution_count": 21,
     "metadata": {},
     "output_type": "execute_result"
    },
    {
     "data": {
      "image/png": "[encoded data removed]",
      "text/plain": [
       "<Figure size 432x288 with 1 Axes>"
      ]
     },
     "metadata": {
      "needs_background": "light"
     },
     "output_type": "display_data"
    }
   ],
   "source": [
    "sns.boxplot(data['DIS'])"
   ]
  },
  {
   "cell_type": "code",
   "execution_count": 22,
   "id": "37d7dfe7",
   "metadata": {},
   "outputs": [
    {
     "data": {
      "text/html": [
       "<div>\n",
       "<style scoped>\n",
       "    .dataframe tbody tr th:only-of-type {\n",
       "        vertical-align: middle;\n",
       "    }\n",
       "\n",
       "    .dataframe tbody tr th {\n",
       "        vertical-align: top;\n",
       "    }\n",
       "\n",
       "    .dataframe thead th {\n",
       "        text-align: right;\n",
       "    }\n",
       "</style>\n",
       "<table border=\"1\" class=\"dataframe\">\n",
       "  <thead>\n",
       "    <tr style=\"text-align: right;\">\n",
       "      <th></th>\n",
       "      <th>CRIM</th>\n",
       "      <th>ZN</th>\n",
       "      <th>INDUS</th>\n",
       "      <th>CHAS</th>\n",
       "      <th>NOX</th>\n",
       "      <th>RM</th>\n",
       "      <th>AGE</th>\n",
       "      <th>DIS</th>\n",
       "      <th>RAD</th>\n",
       "      <th>TAX</th>\n",
       "      <th>PTRATIO</th>\n",
       "      <th>B</th>\n",
       "      <th>LSTAT</th>\n",
       "      <th>MEDV</th>\n",
       "    </tr>\n",
       "  </thead>\n",
       "  <tbody>\n",
       "    <tr>\n",
       "      <th>351</th>\n",
       "      <td>0.07950</td>\n",
       "      <td>60.0</td>\n",
       "      <td>1.69</td>\n",
       "      <td>0</td>\n",
       "      <td>0.411</td>\n",
       "      <td>6.579</td>\n",
       "      <td>35.9</td>\n",
       "      <td>10.7103</td>\n",
       "      <td>4</td>\n",
       "      <td>411</td>\n",
       "      <td>18.3</td>\n",
       "      <td>370.78</td>\n",
       "      <td>5.49</td>\n",
       "      <td>24.1</td>\n",
       "    </tr>\n",
       "    <tr>\n",
       "      <th>352</th>\n",
       "      <td>0.07244</td>\n",
       "      <td>60.0</td>\n",
       "      <td>1.69</td>\n",
       "      <td>0</td>\n",
       "      <td>0.411</td>\n",
       "      <td>5.884</td>\n",
       "      <td>18.5</td>\n",
       "      <td>10.7103</td>\n",
       "      <td>4</td>\n",
       "      <td>411</td>\n",
       "      <td>18.3</td>\n",
       "      <td>392.33</td>\n",
       "      <td>7.79</td>\n",
       "      <td>18.6</td>\n",
       "    </tr>\n",
       "    <tr>\n",
       "      <th>353</th>\n",
       "      <td>0.01709</td>\n",
       "      <td>90.0</td>\n",
       "      <td>2.02</td>\n",
       "      <td>0</td>\n",
       "      <td>0.410</td>\n",
       "      <td>6.728</td>\n",
       "      <td>36.1</td>\n",
       "      <td>12.1265</td>\n",
       "      <td>5</td>\n",
       "      <td>187</td>\n",
       "      <td>17.0</td>\n",
       "      <td>384.46</td>\n",
       "      <td>4.50</td>\n",
       "      <td>30.1</td>\n",
       "    </tr>\n",
       "    <tr>\n",
       "      <th>354</th>\n",
       "      <td>0.04301</td>\n",
       "      <td>80.0</td>\n",
       "      <td>1.91</td>\n",
       "      <td>0</td>\n",
       "      <td>0.413</td>\n",
       "      <td>5.663</td>\n",
       "      <td>21.9</td>\n",
       "      <td>10.5857</td>\n",
       "      <td>4</td>\n",
       "      <td>334</td>\n",
       "      <td>22.0</td>\n",
       "      <td>382.80</td>\n",
       "      <td>8.05</td>\n",
       "      <td>18.2</td>\n",
       "    </tr>\n",
       "    <tr>\n",
       "      <th>355</th>\n",
       "      <td>0.10659</td>\n",
       "      <td>80.0</td>\n",
       "      <td>1.91</td>\n",
       "      <td>0</td>\n",
       "      <td>0.413</td>\n",
       "      <td>5.936</td>\n",
       "      <td>19.5</td>\n",
       "      <td>10.5857</td>\n",
       "      <td>4</td>\n",
       "      <td>334</td>\n",
       "      <td>22.0</td>\n",
       "      <td>376.04</td>\n",
       "      <td>5.57</td>\n",
       "      <td>20.6</td>\n",
       "    </tr>\n",
       "  </tbody>\n",
       "</table>\n",
       "</div>"
      ],
      "text/plain": [
       "        CRIM    ZN  INDUS  CHAS    NOX     RM   AGE      DIS  RAD  TAX  \\\n",
       "351  0.07950  60.0   1.69     0  0.411  6.579  35.9  10.7103    4  411   \n",
       "352  0.07244  60.0   1.69     0  0.411  5.884  18.5  10.7103    4  411   \n",
       "353  0.01709  90.0   2.02     0  0.410  6.728  36.1  12.1265    5  187   \n",
       "354  0.04301  80.0   1.91     0  0.413  5.663  21.9  10.5857    4  334   \n",
       "355  0.10659  80.0   1.91     0  0.413  5.936  19.5  10.5857    4  334   \n",
       "\n",
       "     PTRATIO       B  LSTAT  MEDV  \n",
       "351     18.3  370.78   5.49  24.1  \n",
       "352     18.3  392.33   7.79  18.6  \n",
       "353     17.0  384.46   4.50  30.1  \n",
       "354     22.0  382.80   8.05  18.2  \n",
       "355     22.0  376.04   5.57  20.6  "
      ]
     },
     "execution_count": 22,
     "metadata": {},
     "output_type": "execute_result"
    }
   ],
   "source": [
    "data[ (data['DIS'] > 10) ]"
   ]
  },
  {
   "cell_type": "code",
   "execution_count": 23,
   "id": "ba22641a",
   "metadata": {},
   "outputs": [
    {
     "name": "stdout",
     "output_type": "stream",
     "text": [
      "learning error: 24.64273286171477\n",
      "generalization Error: 16.310409572126968\n",
      "Error: 22.13139390617035\n"
     ]
    }
   ],
   "source": [
    "dwo_dis = data[ (data['DIS'] < 10) ]\n",
    "X = dwo_dis.iloc[:, :13]\n",
    "y = dwo_dis['MEDV']\n",
    "training(X, y)"
   ]
  },
  {
   "cell_type": "code",
   "execution_count": 24,
   "id": "c91e3287",
   "metadata": {},
   "outputs": [
    {
     "name": "stdout",
     "output_type": "stream",
     "text": [
      "learning error: 24.16880868632936\n",
      "generalization Error: 14.347522254179081\n",
      "Error: 21.21009478208325\n"
     ]
    }
   ],
   "source": [
    "dwo = data[ (data['CRIM'] < 17) & (data['DIS'] < 10) ]\n",
    "X = dwo.iloc[:, :13]\n",
    "y = dwo['MEDV']\n",
    "training(X, y)"
   ]
  },
  {
   "cell_type": "code",
   "execution_count": 25,
   "id": "eef93299",
   "metadata": {},
   "outputs": [
    {
     "name": "stdout",
     "output_type": "stream",
     "text": [
      "learning error: 23.84879981577721\n",
      "generalization Error: 14.100554679302888\n",
      "Error: 20.916236444846138\n"
     ]
    }
   ],
   "source": [
    "dwo = data[ (data['CRIM'] < 17) & (data['DIS'] < 11) ]\n",
    "X = dwo.iloc[:, :13]\n",
    "y = dwo['MEDV']\n",
    "training(X, y)"
   ]
  },
  {
   "cell_type": "code",
   "execution_count": 26,
   "id": "d6363a2a",
   "metadata": {},
   "outputs": [
    {
     "data": {
      "text/plain": [
       "<AxesSubplot:xlabel='B'>"
      ]
     },
     "execution_count": 26,
     "metadata": {},
     "output_type": "execute_result"
    },
    {
     "data": {
      "image/png": "[encoded data removed]",
      "text/plain": [
       "<Figure size 432x288 with 1 Axes>"
      ]
     },
     "metadata": {
      "needs_background": "light"
     },
     "output_type": "display_data"
    }
   ],
   "source": [
    "sns.boxplot(data['B'])"
   ]
  },
  {
   "cell_type": "markdown",
   "id": "afeb6cb6",
   "metadata": {},
   "source": [
    "В этом столбце выбросов слишком много. Поэтому я не буду выводить их текстом, а построю графики зависимости ошибки на тестовой выборке от порогового значения."
   ]
  },
  {
   "cell_type": "code",
   "execution_count": 31,
   "id": "8c88c8aa",
   "metadata": {},
   "outputs": [],
   "source": [
    "def test_error(X, y):\n",
    "    X_train, X_test, y_train, y_test = train_test_split(X, y, test_size=0.3, random_state=42)\n",
    "    model = LinearRegression().fit(X_train, y_train)\n",
    "    predicted = model.predict(X_test)\n",
    "    return mean_squared_error(predicted, y_test)"
   ]
  },
  {
   "cell_type": "code",
   "execution_count": 32,
   "id": "023d8ebb",
   "metadata": {},
   "outputs": [
    {
     "data": {
      "text/plain": [
       "[<matplotlib.lines.Line2D at 0x2a521ed2190>]"
      ]
     },
     "execution_count": 32,
     "metadata": {},
     "output_type": "execute_result"
    },
    {
     "data": {
      "image/png": "[encoded data removed]",
      "text/plain": [
       "<Figure size 432x288 with 1 Axes>"
      ]
     },
     "metadata": {
      "needs_background": "light"
     },
     "output_type": "display_data"
    }
   ],
   "source": [
    "x_plot = []\n",
    "y_plot = []\n",
    "for i in range(0, 350):\n",
    "    dwo_b = data[ (data['B'] > i) ]\n",
    "    X = dwo_b.iloc[:, :13]\n",
    "    y = dwo_b['MEDV']\n",
    "    x_plot.append(i)\n",
    "    y_plot.append(test_error(X, y))\n",
    "\n",
    "plt.plot(x_plot, y_plot)"
   ]
  },
  {
   "cell_type": "code",
   "execution_count": 34,
   "id": "4fc18b60",
   "metadata": {},
   "outputs": [
    {
     "data": {
      "text/plain": [
       "[<matplotlib.lines.Line2D at 0x2a521d04af0>]"
      ]
     },
     "execution_count": 34,
     "metadata": {},
     "output_type": "execute_result"
    },
    {
     "data": {
      "image/png": "[encoded data removed]",
      "text/plain": [
       "<Figure size 432x288 with 1 Axes>"
      ]
     },
     "metadata": {
      "needs_background": "light"
     },
     "output_type": "display_data"
    }
   ],
   "source": [
    "x_plot = []\n",
    "y_plot = []\n",
    "for i in range(0, 350):\n",
    "    dwo_b = dwo[ (dwo['B'] > i) ]\n",
    "    X = dwo_b.iloc[:, :13]\n",
    "    y = dwo_b['MEDV']\n",
    "    x_plot.append(i)\n",
    "    y_plot.append(test_error(X, y))\n",
    "\n",
    "plt.plot(x_plot, y_plot)"
   ]
  },
  {
   "cell_type": "markdown",
   "id": "eaf80a50",
   "metadata": {},
   "source": [
    "Была попытка рассмотреть некоторые переменные как категориальные, но ничего не получилось."
   ]
  },
  {
   "cell_type": "code",
   "execution_count": 35,
   "id": "f6a90eed",
   "metadata": {},
   "outputs": [
    {
     "data": {
      "text/plain": [
       "24    132\n",
       "5     115\n",
       "4     110\n",
       "3      38\n",
       "6      26\n",
       "2      24\n",
       "8      24\n",
       "1      20\n",
       "7      17\n",
       "Name: RAD, dtype: int64"
      ]
     },
     "execution_count": 35,
     "metadata": {},
     "output_type": "execute_result"
    }
   ],
   "source": [
    "data['RAD'].value_counts()"
   ]
  },
  {
   "cell_type": "code",
   "execution_count": 36,
   "id": "84d52e8f",
   "metadata": {},
   "outputs": [
    {
     "data": {
      "text/html": [
       "<div>\n",
       "<style scoped>\n",
       "    .dataframe tbody tr th:only-of-type {\n",
       "        vertical-align: middle;\n",
       "    }\n",
       "\n",
       "    .dataframe tbody tr th {\n",
       "        vertical-align: top;\n",
       "    }\n",
       "\n",
       "    .dataframe thead th {\n",
       "        text-align: right;\n",
       "    }\n",
       "</style>\n",
       "<table border=\"1\" class=\"dataframe\">\n",
       "  <thead>\n",
       "    <tr style=\"text-align: right;\">\n",
       "      <th></th>\n",
       "      <th>CRIM</th>\n",
       "      <th>ZN</th>\n",
       "      <th>INDUS</th>\n",
       "      <th>CHAS</th>\n",
       "      <th>NOX</th>\n",
       "      <th>RM</th>\n",
       "      <th>AGE</th>\n",
       "      <th>DIS</th>\n",
       "      <th>RAD</th>\n",
       "      <th>TAX</th>\n",
       "      <th>PTRATIO</th>\n",
       "      <th>B</th>\n",
       "      <th>LSTAT</th>\n",
       "      <th>MEDV</th>\n",
       "      <th>RAD-index</th>\n",
       "    </tr>\n",
       "  </thead>\n",
       "  <tbody>\n",
       "    <tr>\n",
       "      <th>0</th>\n",
       "      <td>0.00632</td>\n",
       "      <td>18.0</td>\n",
       "      <td>2.31</td>\n",
       "      <td>0</td>\n",
       "      <td>0.538</td>\n",
       "      <td>6.575</td>\n",
       "      <td>65.2</td>\n",
       "      <td>4.0900</td>\n",
       "      <td>1</td>\n",
       "      <td>296</td>\n",
       "      <td>15.3</td>\n",
       "      <td>396.90</td>\n",
       "      <td>4.98</td>\n",
       "      <td>24.0</td>\n",
       "      <td>0</td>\n",
       "    </tr>\n",
       "    <tr>\n",
       "      <th>1</th>\n",
       "      <td>0.02731</td>\n",
       "      <td>0.0</td>\n",
       "      <td>7.07</td>\n",
       "      <td>0</td>\n",
       "      <td>0.469</td>\n",
       "      <td>6.421</td>\n",
       "      <td>78.9</td>\n",
       "      <td>4.9671</td>\n",
       "      <td>2</td>\n",
       "      <td>242</td>\n",
       "      <td>17.8</td>\n",
       "      <td>396.90</td>\n",
       "      <td>9.14</td>\n",
       "      <td>21.6</td>\n",
       "      <td>0</td>\n",
       "    </tr>\n",
       "    <tr>\n",
       "      <th>2</th>\n",
       "      <td>0.02729</td>\n",
       "      <td>0.0</td>\n",
       "      <td>7.07</td>\n",
       "      <td>0</td>\n",
       "      <td>0.469</td>\n",
       "      <td>7.185</td>\n",
       "      <td>61.1</td>\n",
       "      <td>4.9671</td>\n",
       "      <td>2</td>\n",
       "      <td>242</td>\n",
       "      <td>17.8</td>\n",
       "      <td>392.83</td>\n",
       "      <td>4.03</td>\n",
       "      <td>34.7</td>\n",
       "      <td>0</td>\n",
       "    </tr>\n",
       "    <tr>\n",
       "      <th>3</th>\n",
       "      <td>0.03237</td>\n",
       "      <td>0.0</td>\n",
       "      <td>2.18</td>\n",
       "      <td>0</td>\n",
       "      <td>0.458</td>\n",
       "      <td>6.998</td>\n",
       "      <td>45.8</td>\n",
       "      <td>6.0622</td>\n",
       "      <td>3</td>\n",
       "      <td>222</td>\n",
       "      <td>18.7</td>\n",
       "      <td>394.63</td>\n",
       "      <td>2.94</td>\n",
       "      <td>33.4</td>\n",
       "      <td>0</td>\n",
       "    </tr>\n",
       "    <tr>\n",
       "      <th>4</th>\n",
       "      <td>0.06905</td>\n",
       "      <td>0.0</td>\n",
       "      <td>2.18</td>\n",
       "      <td>0</td>\n",
       "      <td>0.458</td>\n",
       "      <td>7.147</td>\n",
       "      <td>54.2</td>\n",
       "      <td>6.0622</td>\n",
       "      <td>3</td>\n",
       "      <td>222</td>\n",
       "      <td>18.7</td>\n",
       "      <td>396.90</td>\n",
       "      <td>5.33</td>\n",
       "      <td>36.2</td>\n",
       "      <td>0</td>\n",
       "    </tr>\n",
       "    <tr>\n",
       "      <th>...</th>\n",
       "      <td>...</td>\n",
       "      <td>...</td>\n",
       "      <td>...</td>\n",
       "      <td>...</td>\n",
       "      <td>...</td>\n",
       "      <td>...</td>\n",
       "      <td>...</td>\n",
       "      <td>...</td>\n",
       "      <td>...</td>\n",
       "      <td>...</td>\n",
       "      <td>...</td>\n",
       "      <td>...</td>\n",
       "      <td>...</td>\n",
       "      <td>...</td>\n",
       "      <td>...</td>\n",
       "    </tr>\n",
       "    <tr>\n",
       "      <th>501</th>\n",
       "      <td>0.06263</td>\n",
       "      <td>0.0</td>\n",
       "      <td>11.93</td>\n",
       "      <td>0</td>\n",
       "      <td>0.573</td>\n",
       "      <td>6.593</td>\n",
       "      <td>69.1</td>\n",
       "      <td>2.4786</td>\n",
       "      <td>1</td>\n",
       "      <td>273</td>\n",
       "      <td>21.0</td>\n",
       "      <td>391.99</td>\n",
       "      <td>9.67</td>\n",
       "      <td>22.4</td>\n",
       "      <td>0</td>\n",
       "    </tr>\n",
       "    <tr>\n",
       "      <th>502</th>\n",
       "      <td>0.04527</td>\n",
       "      <td>0.0</td>\n",
       "      <td>11.93</td>\n",
       "      <td>0</td>\n",
       "      <td>0.573</td>\n",
       "      <td>6.120</td>\n",
       "      <td>76.7</td>\n",
       "      <td>2.2875</td>\n",
       "      <td>1</td>\n",
       "      <td>273</td>\n",
       "      <td>21.0</td>\n",
       "      <td>396.90</td>\n",
       "      <td>9.08</td>\n",
       "      <td>20.6</td>\n",
       "      <td>0</td>\n",
       "    </tr>\n",
       "    <tr>\n",
       "      <th>503</th>\n",
       "      <td>0.06076</td>\n",
       "      <td>0.0</td>\n",
       "      <td>11.93</td>\n",
       "      <td>0</td>\n",
       "      <td>0.573</td>\n",
       "      <td>6.976</td>\n",
       "      <td>91.0</td>\n",
       "      <td>2.1675</td>\n",
       "      <td>1</td>\n",
       "      <td>273</td>\n",
       "      <td>21.0</td>\n",
       "      <td>396.90</td>\n",
       "      <td>5.64</td>\n",
       "      <td>23.9</td>\n",
       "      <td>0</td>\n",
       "    </tr>\n",
       "    <tr>\n",
       "      <th>504</th>\n",
       "      <td>0.10959</td>\n",
       "      <td>0.0</td>\n",
       "      <td>11.93</td>\n",
       "      <td>0</td>\n",
       "      <td>0.573</td>\n",
       "      <td>6.794</td>\n",
       "      <td>89.3</td>\n",
       "      <td>2.3889</td>\n",
       "      <td>1</td>\n",
       "      <td>273</td>\n",
       "      <td>21.0</td>\n",
       "      <td>393.45</td>\n",
       "      <td>6.48</td>\n",
       "      <td>22.0</td>\n",
       "      <td>0</td>\n",
       "    </tr>\n",
       "    <tr>\n",
       "      <th>505</th>\n",
       "      <td>0.04741</td>\n",
       "      <td>0.0</td>\n",
       "      <td>11.93</td>\n",
       "      <td>0</td>\n",
       "      <td>0.573</td>\n",
       "      <td>6.030</td>\n",
       "      <td>80.8</td>\n",
       "      <td>2.5050</td>\n",
       "      <td>1</td>\n",
       "      <td>273</td>\n",
       "      <td>21.0</td>\n",
       "      <td>396.90</td>\n",
       "      <td>7.88</td>\n",
       "      <td>11.9</td>\n",
       "      <td>0</td>\n",
       "    </tr>\n",
       "  </tbody>\n",
       "</table>\n",
       "<p>506 rows × 15 columns</p>\n",
       "</div>"
      ],
      "text/plain": [
       "        CRIM    ZN  INDUS  CHAS    NOX     RM   AGE     DIS  RAD  TAX  \\\n",
       "0    0.00632  18.0   2.31     0  0.538  6.575  65.2  4.0900    1  296   \n",
       "1    0.02731   0.0   7.07     0  0.469  6.421  78.9  4.9671    2  242   \n",
       "2    0.02729   0.0   7.07     0  0.469  7.185  61.1  4.9671    2  242   \n",
       "3    0.03237   0.0   2.18     0  0.458  6.998  45.8  6.0622    3  222   \n",
       "4    0.06905   0.0   2.18     0  0.458  7.147  54.2  6.0622    3  222   \n",
       "..       ...   ...    ...   ...    ...    ...   ...     ...  ...  ...   \n",
       "501  0.06263   0.0  11.93     0  0.573  6.593  69.1  2.4786    1  273   \n",
       "502  0.04527   0.0  11.93     0  0.573  6.120  76.7  2.2875    1  273   \n",
       "503  0.06076   0.0  11.93     0  0.573  6.976  91.0  2.1675    1  273   \n",
       "504  0.10959   0.0  11.93     0  0.573  6.794  89.3  2.3889    1  273   \n",
       "505  0.04741   0.0  11.93     0  0.573  6.030  80.8  2.5050    1  273   \n",
       "\n",
       "     PTRATIO       B  LSTAT  MEDV  RAD-index  \n",
       "0       15.3  396.90   4.98  24.0          0  \n",
       "1       17.8  396.90   9.14  21.6          0  \n",
       "2       17.8  392.83   4.03  34.7          0  \n",
       "3       18.7  394.63   2.94  33.4          0  \n",
       "4       18.7  396.90   5.33  36.2          0  \n",
       "..       ...     ...    ...   ...        ...  \n",
       "501     21.0  391.99   9.67  22.4          0  \n",
       "502     21.0  396.90   9.08  20.6          0  \n",
       "503     21.0  396.90   5.64  23.9          0  \n",
       "504     21.0  393.45   6.48  22.0          0  \n",
       "505     21.0  396.90   7.88  11.9          0  \n",
       "\n",
       "[506 rows x 15 columns]"
      ]
     },
     "execution_count": 36,
     "metadata": {},
     "output_type": "execute_result"
    }
   ],
   "source": [
    "data['RAD-index'] = data['RAD'].apply(lambda x: 1 if x > 20 else 0)\n",
    "data"
   ]
  },
  {
   "cell_type": "code",
   "execution_count": 37,
   "id": "0d48ac4f",
   "metadata": {},
   "outputs": [
    {
     "name": "stdout",
     "output_type": "stream",
     "text": [
      "learning error: 22.72676266355887\n",
      "generalization Error: 21.949149337216316\n",
      "Error: 22.493171308610126\n"
     ]
    }
   ],
   "source": [
    "X = data.iloc[:, [0, 1, 2, 3, 4, 5, 6, 7, 9, 10, 11, 12, 14]]\n",
    "y = data['MEDV']\n",
    "\n",
    "training(X, y)"
   ]
  },
  {
   "cell_type": "code",
   "execution_count": 38,
   "id": "1eb26a7d",
   "metadata": {},
   "outputs": [
    {
     "name": "stdout",
     "output_type": "stream",
     "text": [
      "learning error: 23.54253695788312\n",
      "generalization Error: 18.766134158029182\n",
      "Error: 22.100789090165403\n"
     ]
    }
   ],
   "source": [
    "dwo_crim['RAD-index'] = dwo_crim['RAD'].apply(lambda x: 1 if x > 20 else 0)\n",
    "X = dwo_crim.iloc[:, [0, 1, 2, 3, 4, 5, 6, 7, 9, 10, 11, 12, 14]]\n",
    "y = dwo_crim['MEDV']\n",
    "\n",
    "training(X, y)"
   ]
  },
  {
   "cell_type": "code",
   "execution_count": 39,
   "id": "fde00774",
   "metadata": {},
   "outputs": [
    {
     "data": {
      "text/html": [
       "<div>\n",
       "<style scoped>\n",
       "    .dataframe tbody tr th:only-of-type {\n",
       "        vertical-align: middle;\n",
       "    }\n",
       "\n",
       "    .dataframe tbody tr th {\n",
       "        vertical-align: top;\n",
       "    }\n",
       "\n",
       "    .dataframe thead th {\n",
       "        text-align: right;\n",
       "    }\n",
       "</style>\n",
       "<table border=\"1\" class=\"dataframe\">\n",
       "  <thead>\n",
       "    <tr style=\"text-align: right;\">\n",
       "      <th></th>\n",
       "      <th>CRIM</th>\n",
       "      <th>ZN</th>\n",
       "      <th>INDUS</th>\n",
       "      <th>CHAS</th>\n",
       "      <th>NOX</th>\n",
       "      <th>RM</th>\n",
       "      <th>AGE</th>\n",
       "      <th>DIS</th>\n",
       "      <th>RAD</th>\n",
       "      <th>TAX</th>\n",
       "      <th>PTRATIO</th>\n",
       "      <th>B</th>\n",
       "      <th>LSTAT</th>\n",
       "      <th>MEDV</th>\n",
       "      <th>RAD_index</th>\n",
       "    </tr>\n",
       "  </thead>\n",
       "  <tbody>\n",
       "    <tr>\n",
       "      <th>0</th>\n",
       "      <td>0.00632</td>\n",
       "      <td>18.0</td>\n",
       "      <td>2.31</td>\n",
       "      <td>0</td>\n",
       "      <td>0.538</td>\n",
       "      <td>6.575</td>\n",
       "      <td>65.2</td>\n",
       "      <td>4.0900</td>\n",
       "      <td>1</td>\n",
       "      <td>296</td>\n",
       "      <td>15.3</td>\n",
       "      <td>396.90</td>\n",
       "      <td>4.98</td>\n",
       "      <td>24.0</td>\n",
       "      <td>0</td>\n",
       "    </tr>\n",
       "    <tr>\n",
       "      <th>1</th>\n",
       "      <td>0.02731</td>\n",
       "      <td>0.0</td>\n",
       "      <td>7.07</td>\n",
       "      <td>0</td>\n",
       "      <td>0.469</td>\n",
       "      <td>6.421</td>\n",
       "      <td>78.9</td>\n",
       "      <td>4.9671</td>\n",
       "      <td>2</td>\n",
       "      <td>242</td>\n",
       "      <td>17.8</td>\n",
       "      <td>396.90</td>\n",
       "      <td>9.14</td>\n",
       "      <td>21.6</td>\n",
       "      <td>1</td>\n",
       "    </tr>\n",
       "    <tr>\n",
       "      <th>2</th>\n",
       "      <td>0.02729</td>\n",
       "      <td>0.0</td>\n",
       "      <td>7.07</td>\n",
       "      <td>0</td>\n",
       "      <td>0.469</td>\n",
       "      <td>7.185</td>\n",
       "      <td>61.1</td>\n",
       "      <td>4.9671</td>\n",
       "      <td>2</td>\n",
       "      <td>242</td>\n",
       "      <td>17.8</td>\n",
       "      <td>392.83</td>\n",
       "      <td>4.03</td>\n",
       "      <td>34.7</td>\n",
       "      <td>1</td>\n",
       "    </tr>\n",
       "    <tr>\n",
       "      <th>3</th>\n",
       "      <td>0.03237</td>\n",
       "      <td>0.0</td>\n",
       "      <td>2.18</td>\n",
       "      <td>0</td>\n",
       "      <td>0.458</td>\n",
       "      <td>6.998</td>\n",
       "      <td>45.8</td>\n",
       "      <td>6.0622</td>\n",
       "      <td>3</td>\n",
       "      <td>222</td>\n",
       "      <td>18.7</td>\n",
       "      <td>394.63</td>\n",
       "      <td>2.94</td>\n",
       "      <td>33.4</td>\n",
       "      <td>2</td>\n",
       "    </tr>\n",
       "    <tr>\n",
       "      <th>4</th>\n",
       "      <td>0.06905</td>\n",
       "      <td>0.0</td>\n",
       "      <td>2.18</td>\n",
       "      <td>0</td>\n",
       "      <td>0.458</td>\n",
       "      <td>7.147</td>\n",
       "      <td>54.2</td>\n",
       "      <td>6.0622</td>\n",
       "      <td>3</td>\n",
       "      <td>222</td>\n",
       "      <td>18.7</td>\n",
       "      <td>396.90</td>\n",
       "      <td>5.33</td>\n",
       "      <td>36.2</td>\n",
       "      <td>2</td>\n",
       "    </tr>\n",
       "    <tr>\n",
       "      <th>...</th>\n",
       "      <td>...</td>\n",
       "      <td>...</td>\n",
       "      <td>...</td>\n",
       "      <td>...</td>\n",
       "      <td>...</td>\n",
       "      <td>...</td>\n",
       "      <td>...</td>\n",
       "      <td>...</td>\n",
       "      <td>...</td>\n",
       "      <td>...</td>\n",
       "      <td>...</td>\n",
       "      <td>...</td>\n",
       "      <td>...</td>\n",
       "      <td>...</td>\n",
       "      <td>...</td>\n",
       "    </tr>\n",
       "    <tr>\n",
       "      <th>501</th>\n",
       "      <td>0.06263</td>\n",
       "      <td>0.0</td>\n",
       "      <td>11.93</td>\n",
       "      <td>0</td>\n",
       "      <td>0.573</td>\n",
       "      <td>6.593</td>\n",
       "      <td>69.1</td>\n",
       "      <td>2.4786</td>\n",
       "      <td>1</td>\n",
       "      <td>273</td>\n",
       "      <td>21.0</td>\n",
       "      <td>391.99</td>\n",
       "      <td>9.67</td>\n",
       "      <td>22.4</td>\n",
       "      <td>0</td>\n",
       "    </tr>\n",
       "    <tr>\n",
       "      <th>502</th>\n",
       "      <td>0.04527</td>\n",
       "      <td>0.0</td>\n",
       "      <td>11.93</td>\n",
       "      <td>0</td>\n",
       "      <td>0.573</td>\n",
       "      <td>6.120</td>\n",
       "      <td>76.7</td>\n",
       "      <td>2.2875</td>\n",
       "      <td>1</td>\n",
       "      <td>273</td>\n",
       "      <td>21.0</td>\n",
       "      <td>396.90</td>\n",
       "      <td>9.08</td>\n",
       "      <td>20.6</td>\n",
       "      <td>0</td>\n",
       "    </tr>\n",
       "    <tr>\n",
       "      <th>503</th>\n",
       "      <td>0.06076</td>\n",
       "      <td>0.0</td>\n",
       "      <td>11.93</td>\n",
       "      <td>0</td>\n",
       "      <td>0.573</td>\n",
       "      <td>6.976</td>\n",
       "      <td>91.0</td>\n",
       "      <td>2.1675</td>\n",
       "      <td>1</td>\n",
       "      <td>273</td>\n",
       "      <td>21.0</td>\n",
       "      <td>396.90</td>\n",
       "      <td>5.64</td>\n",
       "      <td>23.9</td>\n",
       "      <td>0</td>\n",
       "    </tr>\n",
       "    <tr>\n",
       "      <th>504</th>\n",
       "      <td>0.10959</td>\n",
       "      <td>0.0</td>\n",
       "      <td>11.93</td>\n",
       "      <td>0</td>\n",
       "      <td>0.573</td>\n",
       "      <td>6.794</td>\n",
       "      <td>89.3</td>\n",
       "      <td>2.3889</td>\n",
       "      <td>1</td>\n",
       "      <td>273</td>\n",
       "      <td>21.0</td>\n",
       "      <td>393.45</td>\n",
       "      <td>6.48</td>\n",
       "      <td>22.0</td>\n",
       "      <td>0</td>\n",
       "    </tr>\n",
       "    <tr>\n",
       "      <th>505</th>\n",
       "      <td>0.04741</td>\n",
       "      <td>0.0</td>\n",
       "      <td>11.93</td>\n",
       "      <td>0</td>\n",
       "      <td>0.573</td>\n",
       "      <td>6.030</td>\n",
       "      <td>80.8</td>\n",
       "      <td>2.5050</td>\n",
       "      <td>1</td>\n",
       "      <td>273</td>\n",
       "      <td>21.0</td>\n",
       "      <td>396.90</td>\n",
       "      <td>7.88</td>\n",
       "      <td>11.9</td>\n",
       "      <td>0</td>\n",
       "    </tr>\n",
       "  </tbody>\n",
       "</table>\n",
       "<p>506 rows × 15 columns</p>\n",
       "</div>"
      ],
      "text/plain": [
       "        CRIM    ZN  INDUS  CHAS    NOX     RM   AGE     DIS  RAD  TAX  \\\n",
       "0    0.00632  18.0   2.31     0  0.538  6.575  65.2  4.0900    1  296   \n",
       "1    0.02731   0.0   7.07     0  0.469  6.421  78.9  4.9671    2  242   \n",
       "2    0.02729   0.0   7.07     0  0.469  7.185  61.1  4.9671    2  242   \n",
       "3    0.03237   0.0   2.18     0  0.458  6.998  45.8  6.0622    3  222   \n",
       "4    0.06905   0.0   2.18     0  0.458  7.147  54.2  6.0622    3  222   \n",
       "..       ...   ...    ...   ...    ...    ...   ...     ...  ...  ...   \n",
       "501  0.06263   0.0  11.93     0  0.573  6.593  69.1  2.4786    1  273   \n",
       "502  0.04527   0.0  11.93     0  0.573  6.120  76.7  2.2875    1  273   \n",
       "503  0.06076   0.0  11.93     0  0.573  6.976  91.0  2.1675    1  273   \n",
       "504  0.10959   0.0  11.93     0  0.573  6.794  89.3  2.3889    1  273   \n",
       "505  0.04741   0.0  11.93     0  0.573  6.030  80.8  2.5050    1  273   \n",
       "\n",
       "     PTRATIO       B  LSTAT  MEDV  RAD_index  \n",
       "0       15.3  396.90   4.98  24.0          0  \n",
       "1       17.8  396.90   9.14  21.6          1  \n",
       "2       17.8  392.83   4.03  34.7          1  \n",
       "3       18.7  394.63   2.94  33.4          2  \n",
       "4       18.7  396.90   5.33  36.2          2  \n",
       "..       ...     ...    ...   ...        ...  \n",
       "501     21.0  391.99   9.67  22.4          0  \n",
       "502     21.0  396.90   9.08  20.6          0  \n",
       "503     21.0  396.90   5.64  23.9          0  \n",
       "504     21.0  393.45   6.48  22.0          0  \n",
       "505     21.0  396.90   7.88  11.9          0  \n",
       "\n",
       "[506 rows x 15 columns]"
      ]
     },
     "execution_count": 39,
     "metadata": {},
     "output_type": "execute_result"
    }
   ],
   "source": [
    "data['RAD_index'] = LabelEncoder().fit_transform(data['RAD'])\n",
    "del data['RAD-index']\n",
    "data"
   ]
  },
  {
   "cell_type": "code",
   "execution_count": 40,
   "id": "225d14ac",
   "metadata": {},
   "outputs": [
    {
     "name": "stdout",
     "output_type": "stream",
     "text": [
      "learning error: 22.751549505164174\n",
      "generalization Error: 22.182215595665006\n",
      "Error: 22.58052429914861\n"
     ]
    }
   ],
   "source": [
    "X = data.iloc[:, [0, 1, 2, 3, 4, 5, 6, 7, 9, 10, 11, 12, 14]]\n",
    "y = data['MEDV']\n",
    "\n",
    "training(X, y)"
   ]
  },
  {
   "cell_type": "code",
   "execution_count": 41,
   "id": "25e86517",
   "metadata": {},
   "outputs": [
    {
     "name": "stdout",
     "output_type": "stream",
     "text": [
      "learning error: 23.454992702321913\n",
      "generalization Error: 18.80691389585348\n",
      "Error: 22.051979181683592\n"
     ]
    }
   ],
   "source": [
    "dwo_crim['RAD_index'] = LabelEncoder().fit_transform(dwo_crim['RAD'])\n",
    "X = dwo_crim.loc[:, ['CRIM', 'ZN', 'INDUS', 'CHAS', 'NOX', 'RM', 'AGE', 'DIS', 'TAX', 'PTRATIO', 'B', 'LSTAT', 'RAD_index']]\n",
    "y = dwo_crim['MEDV']\n",
    "\n",
    "training(X, y)"
   ]
  },
  {
   "cell_type": "code",
   "execution_count": 42,
   "id": "536a79e3",
   "metadata": {},
   "outputs": [
    {
     "data": {
      "text/plain": [
       "666    132\n",
       "307     40\n",
       "403     30\n",
       "437     15\n",
       "304     14\n",
       "      ... \n",
       "313      1\n",
       "226      1\n",
       "280      1\n",
       "241      1\n",
       "469      1\n",
       "Name: TAX, Length: 66, dtype: int64"
      ]
     },
     "execution_count": 42,
     "metadata": {},
     "output_type": "execute_result"
    }
   ],
   "source": [
    "data['TAX'].value_counts()"
   ]
  },
  {
   "cell_type": "code",
   "execution_count": 43,
   "id": "9b891e46",
   "metadata": {},
   "outputs": [
    {
     "data": {
      "text/html": [
       "<div>\n",
       "<style scoped>\n",
       "    .dataframe tbody tr th:only-of-type {\n",
       "        vertical-align: middle;\n",
       "    }\n",
       "\n",
       "    .dataframe tbody tr th {\n",
       "        vertical-align: top;\n",
       "    }\n",
       "\n",
       "    .dataframe thead th {\n",
       "        text-align: right;\n",
       "    }\n",
       "</style>\n",
       "<table border=\"1\" class=\"dataframe\">\n",
       "  <thead>\n",
       "    <tr style=\"text-align: right;\">\n",
       "      <th></th>\n",
       "      <th>CRIM</th>\n",
       "      <th>ZN</th>\n",
       "      <th>INDUS</th>\n",
       "      <th>CHAS</th>\n",
       "      <th>NOX</th>\n",
       "      <th>RM</th>\n",
       "      <th>AGE</th>\n",
       "      <th>DIS</th>\n",
       "      <th>RAD</th>\n",
       "      <th>TAX</th>\n",
       "      <th>PTRATIO</th>\n",
       "      <th>B</th>\n",
       "      <th>LSTAT</th>\n",
       "      <th>MEDV</th>\n",
       "      <th>TAX_index</th>\n",
       "    </tr>\n",
       "  </thead>\n",
       "  <tbody>\n",
       "    <tr>\n",
       "      <th>0</th>\n",
       "      <td>0.00632</td>\n",
       "      <td>18.0</td>\n",
       "      <td>2.31</td>\n",
       "      <td>0</td>\n",
       "      <td>0.538</td>\n",
       "      <td>6.575</td>\n",
       "      <td>65.2</td>\n",
       "      <td>4.0900</td>\n",
       "      <td>1</td>\n",
       "      <td>296</td>\n",
       "      <td>15.3</td>\n",
       "      <td>396.90</td>\n",
       "      <td>4.98</td>\n",
       "      <td>24.0</td>\n",
       "      <td>34</td>\n",
       "    </tr>\n",
       "    <tr>\n",
       "      <th>1</th>\n",
       "      <td>0.02731</td>\n",
       "      <td>0.0</td>\n",
       "      <td>7.07</td>\n",
       "      <td>0</td>\n",
       "      <td>0.469</td>\n",
       "      <td>6.421</td>\n",
       "      <td>78.9</td>\n",
       "      <td>4.9671</td>\n",
       "      <td>2</td>\n",
       "      <td>242</td>\n",
       "      <td>17.8</td>\n",
       "      <td>396.90</td>\n",
       "      <td>9.14</td>\n",
       "      <td>21.6</td>\n",
       "      <td>11</td>\n",
       "    </tr>\n",
       "    <tr>\n",
       "      <th>2</th>\n",
       "      <td>0.02729</td>\n",
       "      <td>0.0</td>\n",
       "      <td>7.07</td>\n",
       "      <td>0</td>\n",
       "      <td>0.469</td>\n",
       "      <td>7.185</td>\n",
       "      <td>61.1</td>\n",
       "      <td>4.9671</td>\n",
       "      <td>2</td>\n",
       "      <td>242</td>\n",
       "      <td>17.8</td>\n",
       "      <td>392.83</td>\n",
       "      <td>4.03</td>\n",
       "      <td>34.7</td>\n",
       "      <td>11</td>\n",
       "    </tr>\n",
       "    <tr>\n",
       "      <th>3</th>\n",
       "      <td>0.03237</td>\n",
       "      <td>0.0</td>\n",
       "      <td>2.18</td>\n",
       "      <td>0</td>\n",
       "      <td>0.458</td>\n",
       "      <td>6.998</td>\n",
       "      <td>45.8</td>\n",
       "      <td>6.0622</td>\n",
       "      <td>3</td>\n",
       "      <td>222</td>\n",
       "      <td>18.7</td>\n",
       "      <td>394.63</td>\n",
       "      <td>2.94</td>\n",
       "      <td>33.4</td>\n",
       "      <td>5</td>\n",
       "    </tr>\n",
       "    <tr>\n",
       "      <th>4</th>\n",
       "      <td>0.06905</td>\n",
       "      <td>0.0</td>\n",
       "      <td>2.18</td>\n",
       "      <td>0</td>\n",
       "      <td>0.458</td>\n",
       "      <td>7.147</td>\n",
       "      <td>54.2</td>\n",
       "      <td>6.0622</td>\n",
       "      <td>3</td>\n",
       "      <td>222</td>\n",
       "      <td>18.7</td>\n",
       "      <td>396.90</td>\n",
       "      <td>5.33</td>\n",
       "      <td>36.2</td>\n",
       "      <td>5</td>\n",
       "    </tr>\n",
       "    <tr>\n",
       "      <th>...</th>\n",
       "      <td>...</td>\n",
       "      <td>...</td>\n",
       "      <td>...</td>\n",
       "      <td>...</td>\n",
       "      <td>...</td>\n",
       "      <td>...</td>\n",
       "      <td>...</td>\n",
       "      <td>...</td>\n",
       "      <td>...</td>\n",
       "      <td>...</td>\n",
       "      <td>...</td>\n",
       "      <td>...</td>\n",
       "      <td>...</td>\n",
       "      <td>...</td>\n",
       "      <td>...</td>\n",
       "    </tr>\n",
       "    <tr>\n",
       "      <th>501</th>\n",
       "      <td>0.06263</td>\n",
       "      <td>0.0</td>\n",
       "      <td>11.93</td>\n",
       "      <td>0</td>\n",
       "      <td>0.573</td>\n",
       "      <td>6.593</td>\n",
       "      <td>69.1</td>\n",
       "      <td>2.4786</td>\n",
       "      <td>1</td>\n",
       "      <td>273</td>\n",
       "      <td>21.0</td>\n",
       "      <td>391.99</td>\n",
       "      <td>9.67</td>\n",
       "      <td>22.4</td>\n",
       "      <td>23</td>\n",
       "    </tr>\n",
       "    <tr>\n",
       "      <th>502</th>\n",
       "      <td>0.04527</td>\n",
       "      <td>0.0</td>\n",
       "      <td>11.93</td>\n",
       "      <td>0</td>\n",
       "      <td>0.573</td>\n",
       "      <td>6.120</td>\n",
       "      <td>76.7</td>\n",
       "      <td>2.2875</td>\n",
       "      <td>1</td>\n",
       "      <td>273</td>\n",
       "      <td>21.0</td>\n",
       "      <td>396.90</td>\n",
       "      <td>9.08</td>\n",
       "      <td>20.6</td>\n",
       "      <td>23</td>\n",
       "    </tr>\n",
       "    <tr>\n",
       "      <th>503</th>\n",
       "      <td>0.06076</td>\n",
       "      <td>0.0</td>\n",
       "      <td>11.93</td>\n",
       "      <td>0</td>\n",
       "      <td>0.573</td>\n",
       "      <td>6.976</td>\n",
       "      <td>91.0</td>\n",
       "      <td>2.1675</td>\n",
       "      <td>1</td>\n",
       "      <td>273</td>\n",
       "      <td>21.0</td>\n",
       "      <td>396.90</td>\n",
       "      <td>5.64</td>\n",
       "      <td>23.9</td>\n",
       "      <td>23</td>\n",
       "    </tr>\n",
       "    <tr>\n",
       "      <th>504</th>\n",
       "      <td>0.10959</td>\n",
       "      <td>0.0</td>\n",
       "      <td>11.93</td>\n",
       "      <td>0</td>\n",
       "      <td>0.573</td>\n",
       "      <td>6.794</td>\n",
       "      <td>89.3</td>\n",
       "      <td>2.3889</td>\n",
       "      <td>1</td>\n",
       "      <td>273</td>\n",
       "      <td>21.0</td>\n",
       "      <td>393.45</td>\n",
       "      <td>6.48</td>\n",
       "      <td>22.0</td>\n",
       "      <td>23</td>\n",
       "    </tr>\n",
       "    <tr>\n",
       "      <th>505</th>\n",
       "      <td>0.04741</td>\n",
       "      <td>0.0</td>\n",
       "      <td>11.93</td>\n",
       "      <td>0</td>\n",
       "      <td>0.573</td>\n",
       "      <td>6.030</td>\n",
       "      <td>80.8</td>\n",
       "      <td>2.5050</td>\n",
       "      <td>1</td>\n",
       "      <td>273</td>\n",
       "      <td>21.0</td>\n",
       "      <td>396.90</td>\n",
       "      <td>7.88</td>\n",
       "      <td>11.9</td>\n",
       "      <td>23</td>\n",
       "    </tr>\n",
       "  </tbody>\n",
       "</table>\n",
       "<p>506 rows × 15 columns</p>\n",
       "</div>"
      ],
      "text/plain": [
       "        CRIM    ZN  INDUS  CHAS    NOX     RM   AGE     DIS  RAD  TAX  \\\n",
       "0    0.00632  18.0   2.31     0  0.538  6.575  65.2  4.0900    1  296   \n",
       "1    0.02731   0.0   7.07     0  0.469  6.421  78.9  4.9671    2  242   \n",
       "2    0.02729   0.0   7.07     0  0.469  7.185  61.1  4.9671    2  242   \n",
       "3    0.03237   0.0   2.18     0  0.458  6.998  45.8  6.0622    3  222   \n",
       "4    0.06905   0.0   2.18     0  0.458  7.147  54.2  6.0622    3  222   \n",
       "..       ...   ...    ...   ...    ...    ...   ...     ...  ...  ...   \n",
       "501  0.06263   0.0  11.93     0  0.573  6.593  69.1  2.4786    1  273   \n",
       "502  0.04527   0.0  11.93     0  0.573  6.120  76.7  2.2875    1  273   \n",
       "503  0.06076   0.0  11.93     0  0.573  6.976  91.0  2.1675    1  273   \n",
       "504  0.10959   0.0  11.93     0  0.573  6.794  89.3  2.3889    1  273   \n",
       "505  0.04741   0.0  11.93     0  0.573  6.030  80.8  2.5050    1  273   \n",
       "\n",
       "     PTRATIO       B  LSTAT  MEDV  TAX_index  \n",
       "0       15.3  396.90   4.98  24.0         34  \n",
       "1       17.8  396.90   9.14  21.6         11  \n",
       "2       17.8  392.83   4.03  34.7         11  \n",
       "3       18.7  394.63   2.94  33.4          5  \n",
       "4       18.7  396.90   5.33  36.2          5  \n",
       "..       ...     ...    ...   ...        ...  \n",
       "501     21.0  391.99   9.67  22.4         23  \n",
       "502     21.0  396.90   9.08  20.6         23  \n",
       "503     21.0  396.90   5.64  23.9         23  \n",
       "504     21.0  393.45   6.48  22.0         23  \n",
       "505     21.0  396.90   7.88  11.9         23  \n",
       "\n",
       "[506 rows x 15 columns]"
      ]
     },
     "execution_count": 43,
     "metadata": {},
     "output_type": "execute_result"
    }
   ],
   "source": [
    "data['TAX_index'] = LabelEncoder().fit_transform(data['TAX'])\n",
    "del data['RAD_index']\n",
    "data"
   ]
  },
  {
   "cell_type": "code",
   "execution_count": 44,
   "id": "cb13d43f",
   "metadata": {},
   "outputs": [
    {
     "name": "stdout",
     "output_type": "stream",
     "text": [
      "learning error: 22.706305586507614\n",
      "generalization Error: 22.218621177490004\n",
      "Error: 22.559807503166358\n"
     ]
    }
   ],
   "source": [
    "X = data.iloc[:, [0, 1, 2, 3, 4, 5, 6, 7, 9, 10, 11, 12, 14]]\n",
    "y = data['MEDV']\n",
    "\n",
    "training(X, y)"
   ]
  },
  {
   "cell_type": "code",
   "execution_count": 45,
   "id": "c849d6ab",
   "metadata": {},
   "outputs": [
    {
     "data": {
      "text/html": [
       "<div>\n",
       "<style scoped>\n",
       "    .dataframe tbody tr th:only-of-type {\n",
       "        vertical-align: middle;\n",
       "    }\n",
       "\n",
       "    .dataframe tbody tr th {\n",
       "        vertical-align: top;\n",
       "    }\n",
       "\n",
       "    .dataframe thead th {\n",
       "        text-align: right;\n",
       "    }\n",
       "</style>\n",
       "<table border=\"1\" class=\"dataframe\">\n",
       "  <thead>\n",
       "    <tr style=\"text-align: right;\">\n",
       "      <th></th>\n",
       "      <th>CRIM</th>\n",
       "      <th>ZN</th>\n",
       "      <th>INDUS</th>\n",
       "      <th>CHAS</th>\n",
       "      <th>NOX</th>\n",
       "      <th>RM</th>\n",
       "      <th>AGE</th>\n",
       "      <th>DIS</th>\n",
       "      <th>RAD</th>\n",
       "      <th>TAX</th>\n",
       "      <th>PTRATIO</th>\n",
       "      <th>B</th>\n",
       "      <th>LSTAT</th>\n",
       "      <th>MEDV</th>\n",
       "      <th>RAD-index</th>\n",
       "      <th>TAX_index</th>\n",
       "    </tr>\n",
       "  </thead>\n",
       "  <tbody>\n",
       "    <tr>\n",
       "      <th>0</th>\n",
       "      <td>0.00632</td>\n",
       "      <td>18.0</td>\n",
       "      <td>2.31</td>\n",
       "      <td>0</td>\n",
       "      <td>0.538</td>\n",
       "      <td>6.575</td>\n",
       "      <td>65.2</td>\n",
       "      <td>4.0900</td>\n",
       "      <td>1</td>\n",
       "      <td>296</td>\n",
       "      <td>15.3</td>\n",
       "      <td>396.90</td>\n",
       "      <td>4.98</td>\n",
       "      <td>24.0</td>\n",
       "      <td>0</td>\n",
       "      <td>34</td>\n",
       "    </tr>\n",
       "    <tr>\n",
       "      <th>1</th>\n",
       "      <td>0.02731</td>\n",
       "      <td>0.0</td>\n",
       "      <td>7.07</td>\n",
       "      <td>0</td>\n",
       "      <td>0.469</td>\n",
       "      <td>6.421</td>\n",
       "      <td>78.9</td>\n",
       "      <td>4.9671</td>\n",
       "      <td>2</td>\n",
       "      <td>242</td>\n",
       "      <td>17.8</td>\n",
       "      <td>396.90</td>\n",
       "      <td>9.14</td>\n",
       "      <td>21.6</td>\n",
       "      <td>0</td>\n",
       "      <td>11</td>\n",
       "    </tr>\n",
       "    <tr>\n",
       "      <th>2</th>\n",
       "      <td>0.02729</td>\n",
       "      <td>0.0</td>\n",
       "      <td>7.07</td>\n",
       "      <td>0</td>\n",
       "      <td>0.469</td>\n",
       "      <td>7.185</td>\n",
       "      <td>61.1</td>\n",
       "      <td>4.9671</td>\n",
       "      <td>2</td>\n",
       "      <td>242</td>\n",
       "      <td>17.8</td>\n",
       "      <td>392.83</td>\n",
       "      <td>4.03</td>\n",
       "      <td>34.7</td>\n",
       "      <td>0</td>\n",
       "      <td>11</td>\n",
       "    </tr>\n",
       "    <tr>\n",
       "      <th>3</th>\n",
       "      <td>0.03237</td>\n",
       "      <td>0.0</td>\n",
       "      <td>2.18</td>\n",
       "      <td>0</td>\n",
       "      <td>0.458</td>\n",
       "      <td>6.998</td>\n",
       "      <td>45.8</td>\n",
       "      <td>6.0622</td>\n",
       "      <td>3</td>\n",
       "      <td>222</td>\n",
       "      <td>18.7</td>\n",
       "      <td>394.63</td>\n",
       "      <td>2.94</td>\n",
       "      <td>33.4</td>\n",
       "      <td>0</td>\n",
       "      <td>5</td>\n",
       "    </tr>\n",
       "    <tr>\n",
       "      <th>4</th>\n",
       "      <td>0.06905</td>\n",
       "      <td>0.0</td>\n",
       "      <td>2.18</td>\n",
       "      <td>0</td>\n",
       "      <td>0.458</td>\n",
       "      <td>7.147</td>\n",
       "      <td>54.2</td>\n",
       "      <td>6.0622</td>\n",
       "      <td>3</td>\n",
       "      <td>222</td>\n",
       "      <td>18.7</td>\n",
       "      <td>396.90</td>\n",
       "      <td>5.33</td>\n",
       "      <td>36.2</td>\n",
       "      <td>0</td>\n",
       "      <td>5</td>\n",
       "    </tr>\n",
       "    <tr>\n",
       "      <th>...</th>\n",
       "      <td>...</td>\n",
       "      <td>...</td>\n",
       "      <td>...</td>\n",
       "      <td>...</td>\n",
       "      <td>...</td>\n",
       "      <td>...</td>\n",
       "      <td>...</td>\n",
       "      <td>...</td>\n",
       "      <td>...</td>\n",
       "      <td>...</td>\n",
       "      <td>...</td>\n",
       "      <td>...</td>\n",
       "      <td>...</td>\n",
       "      <td>...</td>\n",
       "      <td>...</td>\n",
       "      <td>...</td>\n",
       "    </tr>\n",
       "    <tr>\n",
       "      <th>501</th>\n",
       "      <td>0.06263</td>\n",
       "      <td>0.0</td>\n",
       "      <td>11.93</td>\n",
       "      <td>0</td>\n",
       "      <td>0.573</td>\n",
       "      <td>6.593</td>\n",
       "      <td>69.1</td>\n",
       "      <td>2.4786</td>\n",
       "      <td>1</td>\n",
       "      <td>273</td>\n",
       "      <td>21.0</td>\n",
       "      <td>391.99</td>\n",
       "      <td>9.67</td>\n",
       "      <td>22.4</td>\n",
       "      <td>0</td>\n",
       "      <td>23</td>\n",
       "    </tr>\n",
       "    <tr>\n",
       "      <th>502</th>\n",
       "      <td>0.04527</td>\n",
       "      <td>0.0</td>\n",
       "      <td>11.93</td>\n",
       "      <td>0</td>\n",
       "      <td>0.573</td>\n",
       "      <td>6.120</td>\n",
       "      <td>76.7</td>\n",
       "      <td>2.2875</td>\n",
       "      <td>1</td>\n",
       "      <td>273</td>\n",
       "      <td>21.0</td>\n",
       "      <td>396.90</td>\n",
       "      <td>9.08</td>\n",
       "      <td>20.6</td>\n",
       "      <td>0</td>\n",
       "      <td>23</td>\n",
       "    </tr>\n",
       "    <tr>\n",
       "      <th>503</th>\n",
       "      <td>0.06076</td>\n",
       "      <td>0.0</td>\n",
       "      <td>11.93</td>\n",
       "      <td>0</td>\n",
       "      <td>0.573</td>\n",
       "      <td>6.976</td>\n",
       "      <td>91.0</td>\n",
       "      <td>2.1675</td>\n",
       "      <td>1</td>\n",
       "      <td>273</td>\n",
       "      <td>21.0</td>\n",
       "      <td>396.90</td>\n",
       "      <td>5.64</td>\n",
       "      <td>23.9</td>\n",
       "      <td>0</td>\n",
       "      <td>23</td>\n",
       "    </tr>\n",
       "    <tr>\n",
       "      <th>504</th>\n",
       "      <td>0.10959</td>\n",
       "      <td>0.0</td>\n",
       "      <td>11.93</td>\n",
       "      <td>0</td>\n",
       "      <td>0.573</td>\n",
       "      <td>6.794</td>\n",
       "      <td>89.3</td>\n",
       "      <td>2.3889</td>\n",
       "      <td>1</td>\n",
       "      <td>273</td>\n",
       "      <td>21.0</td>\n",
       "      <td>393.45</td>\n",
       "      <td>6.48</td>\n",
       "      <td>22.0</td>\n",
       "      <td>0</td>\n",
       "      <td>23</td>\n",
       "    </tr>\n",
       "    <tr>\n",
       "      <th>505</th>\n",
       "      <td>0.04741</td>\n",
       "      <td>0.0</td>\n",
       "      <td>11.93</td>\n",
       "      <td>0</td>\n",
       "      <td>0.573</td>\n",
       "      <td>6.030</td>\n",
       "      <td>80.8</td>\n",
       "      <td>2.5050</td>\n",
       "      <td>1</td>\n",
       "      <td>273</td>\n",
       "      <td>21.0</td>\n",
       "      <td>396.90</td>\n",
       "      <td>7.88</td>\n",
       "      <td>11.9</td>\n",
       "      <td>0</td>\n",
       "      <td>23</td>\n",
       "    </tr>\n",
       "  </tbody>\n",
       "</table>\n",
       "<p>487 rows × 16 columns</p>\n",
       "</div>"
      ],
      "text/plain": [
       "        CRIM    ZN  INDUS  CHAS    NOX     RM   AGE     DIS  RAD  TAX  \\\n",
       "0    0.00632  18.0   2.31     0  0.538  6.575  65.2  4.0900    1  296   \n",
       "1    0.02731   0.0   7.07     0  0.469  6.421  78.9  4.9671    2  242   \n",
       "2    0.02729   0.0   7.07     0  0.469  7.185  61.1  4.9671    2  242   \n",
       "3    0.03237   0.0   2.18     0  0.458  6.998  45.8  6.0622    3  222   \n",
       "4    0.06905   0.0   2.18     0  0.458  7.147  54.2  6.0622    3  222   \n",
       "..       ...   ...    ...   ...    ...    ...   ...     ...  ...  ...   \n",
       "501  0.06263   0.0  11.93     0  0.573  6.593  69.1  2.4786    1  273   \n",
       "502  0.04527   0.0  11.93     0  0.573  6.120  76.7  2.2875    1  273   \n",
       "503  0.06076   0.0  11.93     0  0.573  6.976  91.0  2.1675    1  273   \n",
       "504  0.10959   0.0  11.93     0  0.573  6.794  89.3  2.3889    1  273   \n",
       "505  0.04741   0.0  11.93     0  0.573  6.030  80.8  2.5050    1  273   \n",
       "\n",
       "     PTRATIO       B  LSTAT  MEDV  RAD-index  TAX_index  \n",
       "0       15.3  396.90   4.98  24.0          0         34  \n",
       "1       17.8  396.90   9.14  21.6          0         11  \n",
       "2       17.8  392.83   4.03  34.7          0         11  \n",
       "3       18.7  394.63   2.94  33.4          0          5  \n",
       "4       18.7  396.90   5.33  36.2          0          5  \n",
       "..       ...     ...    ...   ...        ...        ...  \n",
       "501     21.0  391.99   9.67  22.4          0         23  \n",
       "502     21.0  396.90   9.08  20.6          0         23  \n",
       "503     21.0  396.90   5.64  23.9          0         23  \n",
       "504     21.0  393.45   6.48  22.0          0         23  \n",
       "505     21.0  396.90   7.88  11.9          0         23  \n",
       "\n",
       "[487 rows x 16 columns]"
      ]
     },
     "execution_count": 45,
     "metadata": {},
     "output_type": "execute_result"
    }
   ],
   "source": [
    "dwo_crim['TAX_index'] = LabelEncoder().fit_transform(dwo_crim['TAX'])\n",
    "del dwo_crim['RAD_index']\n",
    "dwo_crim"
   ]
  },
  {
   "cell_type": "code",
   "execution_count": 46,
   "id": "449ad812",
   "metadata": {},
   "outputs": [
    {
     "name": "stdout",
     "output_type": "stream",
     "text": [
      "learning error: 23.54253695788312\n",
      "generalization Error: 18.766134158029182\n",
      "Error: 22.100789090165403\n"
     ]
    }
   ],
   "source": [
    "X = dwo_crim.iloc[:, [0, 1, 2, 3, 4, 5, 6, 7, 9, 10, 11, 12, 14]]\n",
    "y = dwo_crim['MEDV']\n",
    "\n",
    "training(X, y)"
   ]
  },
  {
   "cell_type": "code",
   "execution_count": 47,
   "id": "a75f09e7",
   "metadata": {},
   "outputs": [],
   "source": [
    "del data['TAX_index']\n",
    "del dwo_crim['TAX_index']"
   ]
  },
  {
   "cell_type": "code",
   "execution_count": 49,
   "id": "b3c3df6f",
   "metadata": {},
   "outputs": [
    {
     "data": {
      "text/html": [
       "<div>\n",
       "<style scoped>\n",
       "    .dataframe tbody tr th:only-of-type {\n",
       "        vertical-align: middle;\n",
       "    }\n",
       "\n",
       "    .dataframe tbody tr th {\n",
       "        vertical-align: top;\n",
       "    }\n",
       "\n",
       "    .dataframe thead th {\n",
       "        text-align: right;\n",
       "    }\n",
       "</style>\n",
       "<table border=\"1\" class=\"dataframe\">\n",
       "  <thead>\n",
       "    <tr style=\"text-align: right;\">\n",
       "      <th></th>\n",
       "      <th>CRIM</th>\n",
       "      <th>ZN</th>\n",
       "      <th>INDUS</th>\n",
       "      <th>CHAS</th>\n",
       "      <th>NOX</th>\n",
       "      <th>RM</th>\n",
       "      <th>AGE</th>\n",
       "      <th>DIS</th>\n",
       "      <th>RAD</th>\n",
       "      <th>TAX</th>\n",
       "      <th>PTRATIO</th>\n",
       "      <th>B</th>\n",
       "      <th>LSTAT</th>\n",
       "      <th>MEDV</th>\n",
       "    </tr>\n",
       "  </thead>\n",
       "  <tbody>\n",
       "    <tr>\n",
       "      <th>0</th>\n",
       "      <td>0.00632</td>\n",
       "      <td>18.0</td>\n",
       "      <td>2.31</td>\n",
       "      <td>0</td>\n",
       "      <td>0.538</td>\n",
       "      <td>6.575</td>\n",
       "      <td>65.2</td>\n",
       "      <td>4.0900</td>\n",
       "      <td>1</td>\n",
       "      <td>296</td>\n",
       "      <td>15.3</td>\n",
       "      <td>396.90</td>\n",
       "      <td>4.98</td>\n",
       "      <td>24.0</td>\n",
       "    </tr>\n",
       "    <tr>\n",
       "      <th>1</th>\n",
       "      <td>0.02731</td>\n",
       "      <td>0.0</td>\n",
       "      <td>7.07</td>\n",
       "      <td>0</td>\n",
       "      <td>0.469</td>\n",
       "      <td>6.421</td>\n",
       "      <td>78.9</td>\n",
       "      <td>4.9671</td>\n",
       "      <td>2</td>\n",
       "      <td>242</td>\n",
       "      <td>17.8</td>\n",
       "      <td>396.90</td>\n",
       "      <td>9.14</td>\n",
       "      <td>21.6</td>\n",
       "    </tr>\n",
       "    <tr>\n",
       "      <th>2</th>\n",
       "      <td>0.02729</td>\n",
       "      <td>0.0</td>\n",
       "      <td>7.07</td>\n",
       "      <td>0</td>\n",
       "      <td>0.469</td>\n",
       "      <td>7.185</td>\n",
       "      <td>61.1</td>\n",
       "      <td>4.9671</td>\n",
       "      <td>2</td>\n",
       "      <td>242</td>\n",
       "      <td>17.8</td>\n",
       "      <td>392.83</td>\n",
       "      <td>4.03</td>\n",
       "      <td>34.7</td>\n",
       "    </tr>\n",
       "    <tr>\n",
       "      <th>3</th>\n",
       "      <td>0.03237</td>\n",
       "      <td>0.0</td>\n",
       "      <td>2.18</td>\n",
       "      <td>0</td>\n",
       "      <td>0.458</td>\n",
       "      <td>6.998</td>\n",
       "      <td>45.8</td>\n",
       "      <td>6.0622</td>\n",
       "      <td>3</td>\n",
       "      <td>222</td>\n",
       "      <td>18.7</td>\n",
       "      <td>394.63</td>\n",
       "      <td>2.94</td>\n",
       "      <td>33.4</td>\n",
       "    </tr>\n",
       "    <tr>\n",
       "      <th>4</th>\n",
       "      <td>0.06905</td>\n",
       "      <td>0.0</td>\n",
       "      <td>2.18</td>\n",
       "      <td>0</td>\n",
       "      <td>0.458</td>\n",
       "      <td>7.147</td>\n",
       "      <td>54.2</td>\n",
       "      <td>6.0622</td>\n",
       "      <td>3</td>\n",
       "      <td>222</td>\n",
       "      <td>18.7</td>\n",
       "      <td>396.90</td>\n",
       "      <td>5.33</td>\n",
       "      <td>36.2</td>\n",
       "    </tr>\n",
       "    <tr>\n",
       "      <th>...</th>\n",
       "      <td>...</td>\n",
       "      <td>...</td>\n",
       "      <td>...</td>\n",
       "      <td>...</td>\n",
       "      <td>...</td>\n",
       "      <td>...</td>\n",
       "      <td>...</td>\n",
       "      <td>...</td>\n",
       "      <td>...</td>\n",
       "      <td>...</td>\n",
       "      <td>...</td>\n",
       "      <td>...</td>\n",
       "      <td>...</td>\n",
       "      <td>...</td>\n",
       "    </tr>\n",
       "    <tr>\n",
       "      <th>501</th>\n",
       "      <td>0.06263</td>\n",
       "      <td>0.0</td>\n",
       "      <td>11.93</td>\n",
       "      <td>0</td>\n",
       "      <td>0.573</td>\n",
       "      <td>6.593</td>\n",
       "      <td>69.1</td>\n",
       "      <td>2.4786</td>\n",
       "      <td>1</td>\n",
       "      <td>273</td>\n",
       "      <td>21.0</td>\n",
       "      <td>391.99</td>\n",
       "      <td>9.67</td>\n",
       "      <td>22.4</td>\n",
       "    </tr>\n",
       "    <tr>\n",
       "      <th>502</th>\n",
       "      <td>0.04527</td>\n",
       "      <td>0.0</td>\n",
       "      <td>11.93</td>\n",
       "      <td>0</td>\n",
       "      <td>0.573</td>\n",
       "      <td>6.120</td>\n",
       "      <td>76.7</td>\n",
       "      <td>2.2875</td>\n",
       "      <td>1</td>\n",
       "      <td>273</td>\n",
       "      <td>21.0</td>\n",
       "      <td>396.90</td>\n",
       "      <td>9.08</td>\n",
       "      <td>20.6</td>\n",
       "    </tr>\n",
       "    <tr>\n",
       "      <th>503</th>\n",
       "      <td>0.06076</td>\n",
       "      <td>0.0</td>\n",
       "      <td>11.93</td>\n",
       "      <td>0</td>\n",
       "      <td>0.573</td>\n",
       "      <td>6.976</td>\n",
       "      <td>91.0</td>\n",
       "      <td>2.1675</td>\n",
       "      <td>1</td>\n",
       "      <td>273</td>\n",
       "      <td>21.0</td>\n",
       "      <td>396.90</td>\n",
       "      <td>5.64</td>\n",
       "      <td>23.9</td>\n",
       "    </tr>\n",
       "    <tr>\n",
       "      <th>504</th>\n",
       "      <td>0.10959</td>\n",
       "      <td>0.0</td>\n",
       "      <td>11.93</td>\n",
       "      <td>0</td>\n",
       "      <td>0.573</td>\n",
       "      <td>6.794</td>\n",
       "      <td>89.3</td>\n",
       "      <td>2.3889</td>\n",
       "      <td>1</td>\n",
       "      <td>273</td>\n",
       "      <td>21.0</td>\n",
       "      <td>393.45</td>\n",
       "      <td>6.48</td>\n",
       "      <td>22.0</td>\n",
       "    </tr>\n",
       "    <tr>\n",
       "      <th>505</th>\n",
       "      <td>0.04741</td>\n",
       "      <td>0.0</td>\n",
       "      <td>11.93</td>\n",
       "      <td>0</td>\n",
       "      <td>0.573</td>\n",
       "      <td>6.030</td>\n",
       "      <td>80.8</td>\n",
       "      <td>2.5050</td>\n",
       "      <td>1</td>\n",
       "      <td>273</td>\n",
       "      <td>21.0</td>\n",
       "      <td>396.90</td>\n",
       "      <td>7.88</td>\n",
       "      <td>11.9</td>\n",
       "    </tr>\n",
       "  </tbody>\n",
       "</table>\n",
       "<p>487 rows × 14 columns</p>\n",
       "</div>"
      ],
      "text/plain": [
       "        CRIM    ZN  INDUS  CHAS    NOX     RM   AGE     DIS  RAD  TAX  \\\n",
       "0    0.00632  18.0   2.31     0  0.538  6.575  65.2  4.0900    1  296   \n",
       "1    0.02731   0.0   7.07     0  0.469  6.421  78.9  4.9671    2  242   \n",
       "2    0.02729   0.0   7.07     0  0.469  7.185  61.1  4.9671    2  242   \n",
       "3    0.03237   0.0   2.18     0  0.458  6.998  45.8  6.0622    3  222   \n",
       "4    0.06905   0.0   2.18     0  0.458  7.147  54.2  6.0622    3  222   \n",
       "..       ...   ...    ...   ...    ...    ...   ...     ...  ...  ...   \n",
       "501  0.06263   0.0  11.93     0  0.573  6.593  69.1  2.4786    1  273   \n",
       "502  0.04527   0.0  11.93     0  0.573  6.120  76.7  2.2875    1  273   \n",
       "503  0.06076   0.0  11.93     0  0.573  6.976  91.0  2.1675    1  273   \n",
       "504  0.10959   0.0  11.93     0  0.573  6.794  89.3  2.3889    1  273   \n",
       "505  0.04741   0.0  11.93     0  0.573  6.030  80.8  2.5050    1  273   \n",
       "\n",
       "     PTRATIO       B  LSTAT  MEDV  \n",
       "0       15.3  396.90   4.98  24.0  \n",
       "1       17.8  396.90   9.14  21.6  \n",
       "2       17.8  392.83   4.03  34.7  \n",
       "3       18.7  394.63   2.94  33.4  \n",
       "4       18.7  396.90   5.33  36.2  \n",
       "..       ...     ...    ...   ...  \n",
       "501     21.0  391.99   9.67  22.4  \n",
       "502     21.0  396.90   9.08  20.6  \n",
       "503     21.0  396.90   5.64  23.9  \n",
       "504     21.0  393.45   6.48  22.0  \n",
       "505     21.0  396.90   7.88  11.9  \n",
       "\n",
       "[487 rows x 14 columns]"
      ]
     },
     "execution_count": 49,
     "metadata": {},
     "output_type": "execute_result"
    }
   ],
   "source": [
    "del dwo_crim['RAD-index']\n",
    "dwo_crim"
   ]
  },
  {
   "cell_type": "code",
   "execution_count": 48,
   "id": "9b3d5e56",
   "metadata": {},
   "outputs": [],
   "source": [
    "columns = load_boston()['feature_names']"
   ]
  },
  {
   "cell_type": "markdown",
   "id": "18af015f",
   "metadata": {},
   "source": [
    "Дальше я решила посмотреть, насколько улучшит результат возведение переменных в степень. Алгоритм следующий:\n",
    "1. Прохожусь циклом по исходным признакам. Добавляю колонку с одним из признаков, возведенным в степень. Считаю ошибку. Удаляю колонку.\n",
    "2. Выбираю признак, возведение которого в степень лучше всего повлияло на MSE. Добавляю его в нужной степени к датасету.\n",
    "3. Повторяю с другими признаками до тех пор, пока эта операция уменьшает ошибку."
   ]
  },
  {
   "cell_type": "code",
   "execution_count": 50,
   "id": "1bd0a834",
   "metadata": {},
   "outputs": [
    {
     "name": "stdout",
     "output_type": "stream",
     "text": [
      "CRIM\n",
      "learning error: 23.346640707738455\n",
      "generalization Error: 18.65410893441557\n",
      "Error: 21.930209145770355\n",
      "ZN\n",
      "learning error: 23.19825811075056\n",
      "generalization Error: 18.143153138124905\n",
      "Error: 21.672384535851236\n",
      "INDUS\n",
      "learning error: 22.966054598904574\n",
      "generalization Error: 17.800247104500105\n",
      "Error: 21.40676568375579\n",
      "CHAS\n",
      "learning error: 23.36632920736294\n",
      "generalization Error: 18.41011350852306\n",
      "Error: 21.870305166850695\n",
      "NOX\n",
      "learning error: 23.34763672703481\n",
      "generalization Error: 18.344153013616758\n",
      "Error: 21.837344928528744\n",
      "RM\n",
      "learning error: 18.835392842533864\n",
      "generalization Error: 11.934572266939439\n",
      "Error: 16.752393613350332\n",
      "AGE\n",
      "learning error: 23.079616272710883\n",
      "generalization Error: 18.32422525750453\n",
      "Error: 21.644210771200957\n",
      "DIS\n",
      "learning error: 21.93721856746006\n",
      "generalization Error: 17.764997205649895\n",
      "Error: 20.677841688227836\n",
      "RAD\n",
      "learning error: 23.331705986847123\n",
      "generalization Error: 18.39818553904923\n",
      "Error: 21.842532463589855\n",
      "TAX\n",
      "learning error: 23.23843597866599\n",
      "generalization Error: 18.411414770399304\n",
      "Error: 21.781409043111157\n",
      "PTRATIO\n",
      "learning error: 23.154980429994144\n",
      "generalization Error: 18.16794166275094\n",
      "Error: 21.649652506411496\n",
      "B\n",
      "learning error: 23.043648686354004\n",
      "generalization Error: 18.714991618216068\n",
      "Error: 21.7370519943288\n",
      "LSTAT\n",
      "learning error: 19.669238924579314\n",
      "generalization Error: 13.844768059203513\n",
      "Error: 17.91113375576978\n"
     ]
    }
   ],
   "source": [
    "columns = list(load_boston()['feature_names'])\n",
    "\n",
    "for col in columns:\n",
    "    dwo_crim['col**2'] = dwo_crim[col].apply(lambda x: x ** 2)\n",
    "    print(col)\n",
    "    X = dwo_crim.loc[:, columns + ['col**2']]\n",
    "    y = dwo_crim['MEDV']\n",
    "    training(X, y)\n",
    "    del dwo_crim['col**2']"
   ]
  },
  {
   "cell_type": "code",
   "execution_count": 51,
   "id": "7c4d227f",
   "metadata": {},
   "outputs": [
    {
     "name": "stdout",
     "output_type": "stream",
     "text": [
      "learning error: 18.835392842533864\n",
      "generalization Error: 11.934572266939439\n",
      "Error: 16.752393613350332\n"
     ]
    }
   ],
   "source": [
    "columns = list(load_boston()['feature_names'])\n",
    "columns.append('RM2')\n",
    "\n",
    "dwo_rm = dwo_crim\n",
    "dwo_rm['RM2'] = dwo_crim['RM'].apply(lambda x: x ** 2)\n",
    "X = dwo_rm.loc[:, columns]\n",
    "y = dwo_rm['MEDV']\n",
    "training(X, y)"
   ]
  },
  {
   "cell_type": "code",
   "execution_count": 52,
   "id": "9365df03",
   "metadata": {},
   "outputs": [
    {
     "name": "stdout",
     "output_type": "stream",
     "text": [
      "CRIM\n",
      "learning error: 18.617077967935504\n",
      "generalization Error: 12.834542603184095\n",
      "Error: 16.87163094818508\n",
      "ZN\n",
      "learning error: 18.761893974804394\n",
      "generalization Error: 11.763114743395718\n",
      "Error: 16.64932611645311\n",
      "INDUS\n",
      "learning error: 18.677310634257754\n",
      "generalization Error: 11.530625218952833\n",
      "Error: 16.520097582820743\n",
      "CHAS\n",
      "learning error: 18.83539284253386\n",
      "generalization Error: 11.934572266939682\n",
      "Error: 16.752393613350403\n",
      "NOX\n",
      "learning error: 18.809413205845495\n",
      "generalization Error: 11.87979301039986\n",
      "Error: 16.71772086758983\n",
      "RM\n",
      "learning error: 18.835392842533864\n",
      "generalization Error: 11.934572266939572\n",
      "Error: 16.75239361335037\n",
      "AGE\n",
      "learning error: 18.58924848468655\n",
      "generalization Error: 12.009296975579188\n",
      "Error: 16.603102957296855\n",
      "DIS\n",
      "learning error: 18.060834045870223\n",
      "generalization Error: 11.769127362188364\n",
      "Error: 16.161694656750644\n",
      "RAD\n",
      "learning error: 18.83109541203997\n",
      "generalization Error: 11.941794716182525\n",
      "Error: 16.751573436083003\n",
      "TAX\n",
      "learning error: 18.781999439054363\n",
      "generalization Error: 11.92528614412977\n",
      "Error: 16.712313906500125\n",
      "PTRATIO\n",
      "learning error: 18.724775886635083\n",
      "generalization Error: 11.855747170289408\n",
      "Error: 16.65137296814881\n",
      "B\n",
      "learning error: 18.648877913621504\n",
      "generalization Error: 12.282946011859535\n",
      "Error: 16.72733378721697\n",
      "LSTAT\n",
      "learning error: 17.498095179547235\n",
      "generalization Error: 10.574825556133101\n",
      "Error: 15.408319749071099\n",
      "RM2\n",
      "learning error: 18.101405910587072\n",
      "generalization Error: 14.32255517276655\n",
      "Error: 16.960767186850696\n"
     ]
    }
   ],
   "source": [
    "for col in columns:\n",
    "    dwo_rm['col**2'] = dwo_rm[col].apply(lambda x: x ** 2)\n",
    "    print(col)\n",
    "    X = dwo_rm.loc[:, columns + ['col**2']]\n",
    "    y = dwo_rm['MEDV']\n",
    "    training(X, y)\n",
    "    del dwo_rm['col**2']"
   ]
  },
  {
   "cell_type": "code",
   "execution_count": 53,
   "id": "1282b7af",
   "metadata": {},
   "outputs": [
    {
     "data": {
      "text/html": [
       "<div>\n",
       "<style scoped>\n",
       "    .dataframe tbody tr th:only-of-type {\n",
       "        vertical-align: middle;\n",
       "    }\n",
       "\n",
       "    .dataframe tbody tr th {\n",
       "        vertical-align: top;\n",
       "    }\n",
       "\n",
       "    .dataframe thead th {\n",
       "        text-align: right;\n",
       "    }\n",
       "</style>\n",
       "<table border=\"1\" class=\"dataframe\">\n",
       "  <thead>\n",
       "    <tr style=\"text-align: right;\">\n",
       "      <th></th>\n",
       "      <th>CRIM</th>\n",
       "      <th>ZN</th>\n",
       "      <th>INDUS</th>\n",
       "      <th>CHAS</th>\n",
       "      <th>NOX</th>\n",
       "      <th>RM</th>\n",
       "      <th>AGE</th>\n",
       "      <th>DIS</th>\n",
       "      <th>RAD</th>\n",
       "      <th>TAX</th>\n",
       "      <th>PTRATIO</th>\n",
       "      <th>B</th>\n",
       "      <th>LSTAT</th>\n",
       "      <th>MEDV</th>\n",
       "      <th>RM2</th>\n",
       "      <th>LSTAT2</th>\n",
       "    </tr>\n",
       "  </thead>\n",
       "  <tbody>\n",
       "    <tr>\n",
       "      <th>0</th>\n",
       "      <td>0.00632</td>\n",
       "      <td>18.0</td>\n",
       "      <td>2.31</td>\n",
       "      <td>0</td>\n",
       "      <td>0.538</td>\n",
       "      <td>6.575</td>\n",
       "      <td>65.2</td>\n",
       "      <td>4.0900</td>\n",
       "      <td>1</td>\n",
       "      <td>296</td>\n",
       "      <td>15.3</td>\n",
       "      <td>396.90</td>\n",
       "      <td>4.98</td>\n",
       "      <td>24.0</td>\n",
       "      <td>43.230625</td>\n",
       "      <td>24.8004</td>\n",
       "    </tr>\n",
       "    <tr>\n",
       "      <th>1</th>\n",
       "      <td>0.02731</td>\n",
       "      <td>0.0</td>\n",
       "      <td>7.07</td>\n",
       "      <td>0</td>\n",
       "      <td>0.469</td>\n",
       "      <td>6.421</td>\n",
       "      <td>78.9</td>\n",
       "      <td>4.9671</td>\n",
       "      <td>2</td>\n",
       "      <td>242</td>\n",
       "      <td>17.8</td>\n",
       "      <td>396.90</td>\n",
       "      <td>9.14</td>\n",
       "      <td>21.6</td>\n",
       "      <td>41.229241</td>\n",
       "      <td>83.5396</td>\n",
       "    </tr>\n",
       "    <tr>\n",
       "      <th>2</th>\n",
       "      <td>0.02729</td>\n",
       "      <td>0.0</td>\n",
       "      <td>7.07</td>\n",
       "      <td>0</td>\n",
       "      <td>0.469</td>\n",
       "      <td>7.185</td>\n",
       "      <td>61.1</td>\n",
       "      <td>4.9671</td>\n",
       "      <td>2</td>\n",
       "      <td>242</td>\n",
       "      <td>17.8</td>\n",
       "      <td>392.83</td>\n",
       "      <td>4.03</td>\n",
       "      <td>34.7</td>\n",
       "      <td>51.624225</td>\n",
       "      <td>16.2409</td>\n",
       "    </tr>\n",
       "    <tr>\n",
       "      <th>3</th>\n",
       "      <td>0.03237</td>\n",
       "      <td>0.0</td>\n",
       "      <td>2.18</td>\n",
       "      <td>0</td>\n",
       "      <td>0.458</td>\n",
       "      <td>6.998</td>\n",
       "      <td>45.8</td>\n",
       "      <td>6.0622</td>\n",
       "      <td>3</td>\n",
       "      <td>222</td>\n",
       "      <td>18.7</td>\n",
       "      <td>394.63</td>\n",
       "      <td>2.94</td>\n",
       "      <td>33.4</td>\n",
       "      <td>48.972004</td>\n",
       "      <td>8.6436</td>\n",
       "    </tr>\n",
       "    <tr>\n",
       "      <th>4</th>\n",
       "      <td>0.06905</td>\n",
       "      <td>0.0</td>\n",
       "      <td>2.18</td>\n",
       "      <td>0</td>\n",
       "      <td>0.458</td>\n",
       "      <td>7.147</td>\n",
       "      <td>54.2</td>\n",
       "      <td>6.0622</td>\n",
       "      <td>3</td>\n",
       "      <td>222</td>\n",
       "      <td>18.7</td>\n",
       "      <td>396.90</td>\n",
       "      <td>5.33</td>\n",
       "      <td>36.2</td>\n",
       "      <td>51.079609</td>\n",
       "      <td>28.4089</td>\n",
       "    </tr>\n",
       "    <tr>\n",
       "      <th>...</th>\n",
       "      <td>...</td>\n",
       "      <td>...</td>\n",
       "      <td>...</td>\n",
       "      <td>...</td>\n",
       "      <td>...</td>\n",
       "      <td>...</td>\n",
       "      <td>...</td>\n",
       "      <td>...</td>\n",
       "      <td>...</td>\n",
       "      <td>...</td>\n",
       "      <td>...</td>\n",
       "      <td>...</td>\n",
       "      <td>...</td>\n",
       "      <td>...</td>\n",
       "      <td>...</td>\n",
       "      <td>...</td>\n",
       "    </tr>\n",
       "    <tr>\n",
       "      <th>501</th>\n",
       "      <td>0.06263</td>\n",
       "      <td>0.0</td>\n",
       "      <td>11.93</td>\n",
       "      <td>0</td>\n",
       "      <td>0.573</td>\n",
       "      <td>6.593</td>\n",
       "      <td>69.1</td>\n",
       "      <td>2.4786</td>\n",
       "      <td>1</td>\n",
       "      <td>273</td>\n",
       "      <td>21.0</td>\n",
       "      <td>391.99</td>\n",
       "      <td>9.67</td>\n",
       "      <td>22.4</td>\n",
       "      <td>43.467649</td>\n",
       "      <td>93.5089</td>\n",
       "    </tr>\n",
       "    <tr>\n",
       "      <th>502</th>\n",
       "      <td>0.04527</td>\n",
       "      <td>0.0</td>\n",
       "      <td>11.93</td>\n",
       "      <td>0</td>\n",
       "      <td>0.573</td>\n",
       "      <td>6.120</td>\n",
       "      <td>76.7</td>\n",
       "      <td>2.2875</td>\n",
       "      <td>1</td>\n",
       "      <td>273</td>\n",
       "      <td>21.0</td>\n",
       "      <td>396.90</td>\n",
       "      <td>9.08</td>\n",
       "      <td>20.6</td>\n",
       "      <td>37.454400</td>\n",
       "      <td>82.4464</td>\n",
       "    </tr>\n",
       "    <tr>\n",
       "      <th>503</th>\n",
       "      <td>0.06076</td>\n",
       "      <td>0.0</td>\n",
       "      <td>11.93</td>\n",
       "      <td>0</td>\n",
       "      <td>0.573</td>\n",
       "      <td>6.976</td>\n",
       "      <td>91.0</td>\n",
       "      <td>2.1675</td>\n",
       "      <td>1</td>\n",
       "      <td>273</td>\n",
       "      <td>21.0</td>\n",
       "      <td>396.90</td>\n",
       "      <td>5.64</td>\n",
       "      <td>23.9</td>\n",
       "      <td>48.664576</td>\n",
       "      <td>31.8096</td>\n",
       "    </tr>\n",
       "    <tr>\n",
       "      <th>504</th>\n",
       "      <td>0.10959</td>\n",
       "      <td>0.0</td>\n",
       "      <td>11.93</td>\n",
       "      <td>0</td>\n",
       "      <td>0.573</td>\n",
       "      <td>6.794</td>\n",
       "      <td>89.3</td>\n",
       "      <td>2.3889</td>\n",
       "      <td>1</td>\n",
       "      <td>273</td>\n",
       "      <td>21.0</td>\n",
       "      <td>393.45</td>\n",
       "      <td>6.48</td>\n",
       "      <td>22.0</td>\n",
       "      <td>46.158436</td>\n",
       "      <td>41.9904</td>\n",
       "    </tr>\n",
       "    <tr>\n",
       "      <th>505</th>\n",
       "      <td>0.04741</td>\n",
       "      <td>0.0</td>\n",
       "      <td>11.93</td>\n",
       "      <td>0</td>\n",
       "      <td>0.573</td>\n",
       "      <td>6.030</td>\n",
       "      <td>80.8</td>\n",
       "      <td>2.5050</td>\n",
       "      <td>1</td>\n",
       "      <td>273</td>\n",
       "      <td>21.0</td>\n",
       "      <td>396.90</td>\n",
       "      <td>7.88</td>\n",
       "      <td>11.9</td>\n",
       "      <td>36.360900</td>\n",
       "      <td>62.0944</td>\n",
       "    </tr>\n",
       "  </tbody>\n",
       "</table>\n",
       "<p>487 rows × 16 columns</p>\n",
       "</div>"
      ],
      "text/plain": [
       "        CRIM    ZN  INDUS  CHAS    NOX     RM   AGE     DIS  RAD  TAX  \\\n",
       "0    0.00632  18.0   2.31     0  0.538  6.575  65.2  4.0900    1  296   \n",
       "1    0.02731   0.0   7.07     0  0.469  6.421  78.9  4.9671    2  242   \n",
       "2    0.02729   0.0   7.07     0  0.469  7.185  61.1  4.9671    2  242   \n",
       "3    0.03237   0.0   2.18     0  0.458  6.998  45.8  6.0622    3  222   \n",
       "4    0.06905   0.0   2.18     0  0.458  7.147  54.2  6.0622    3  222   \n",
       "..       ...   ...    ...   ...    ...    ...   ...     ...  ...  ...   \n",
       "501  0.06263   0.0  11.93     0  0.573  6.593  69.1  2.4786    1  273   \n",
       "502  0.04527   0.0  11.93     0  0.573  6.120  76.7  2.2875    1  273   \n",
       "503  0.06076   0.0  11.93     0  0.573  6.976  91.0  2.1675    1  273   \n",
       "504  0.10959   0.0  11.93     0  0.573  6.794  89.3  2.3889    1  273   \n",
       "505  0.04741   0.0  11.93     0  0.573  6.030  80.8  2.5050    1  273   \n",
       "\n",
       "     PTRATIO       B  LSTAT  MEDV        RM2   LSTAT2  \n",
       "0       15.3  396.90   4.98  24.0  43.230625  24.8004  \n",
       "1       17.8  396.90   9.14  21.6  41.229241  83.5396  \n",
       "2       17.8  392.83   4.03  34.7  51.624225  16.2409  \n",
       "3       18.7  394.63   2.94  33.4  48.972004   8.6436  \n",
       "4       18.7  396.90   5.33  36.2  51.079609  28.4089  \n",
       "..       ...     ...    ...   ...        ...      ...  \n",
       "501     21.0  391.99   9.67  22.4  43.467649  93.5089  \n",
       "502     21.0  396.90   9.08  20.6  37.454400  82.4464  \n",
       "503     21.0  396.90   5.64  23.9  48.664576  31.8096  \n",
       "504     21.0  393.45   6.48  22.0  46.158436  41.9904  \n",
       "505     21.0  396.90   7.88  11.9  36.360900  62.0944  \n",
       "\n",
       "[487 rows x 16 columns]"
      ]
     },
     "execution_count": 53,
     "metadata": {},
     "output_type": "execute_result"
    }
   ],
   "source": [
    "dwo_rm['LSTAT2'] = dwo_rm['LSTAT'].apply(lambda x: x ** 2)\n",
    "dwo_squared = dwo_rm\n",
    "columns.append('LSTAT2')\n",
    "dwo_squared"
   ]
  },
  {
   "cell_type": "code",
   "execution_count": 54,
   "id": "354eac69",
   "metadata": {},
   "outputs": [
    {
     "name": "stdout",
     "output_type": "stream",
     "text": [
      "learning error: 17.498095179547235\n",
      "generalization Error: 10.574825556133101\n",
      "Error: 15.408319749071099\n"
     ]
    }
   ],
   "source": [
    "X = dwo_squared.loc[:, columns]\n",
    "y = dwo_squared['MEDV']\n",
    "training(X, y)"
   ]
  },
  {
   "cell_type": "code",
   "execution_count": 55,
   "id": "af11ebf0",
   "metadata": {},
   "outputs": [
    {
     "name": "stdout",
     "output_type": "stream",
     "text": [
      "CRIM\n",
      "learning error: 17.225834507102313\n",
      "generalization Error: 11.381851757294875\n",
      "Error: 15.461839714039284\n",
      "ZN\n",
      "learning error: 17.43912844192818\n",
      "generalization Error: 10.35932140955136\n",
      "Error: 15.302102499917105\n",
      "INDUS\n",
      "learning error: 17.376618485615083\n",
      "generalization Error: 10.405231277729039\n",
      "Error: 15.272318856129973\n",
      "CHAS\n",
      "learning error: 17.498095179547242\n",
      "generalization Error: 10.57482555613306\n",
      "Error: 15.408319749071094\n",
      "NOX\n",
      "learning error: 17.428934983779143\n",
      "generalization Error: 10.498893885783582\n",
      "Error: 15.337115596909848\n",
      "RM\n",
      "learning error: 17.498095179547224\n",
      "generalization Error: 10.574825556133106\n",
      "Error: 15.408319749071094\n",
      "AGE\n",
      "learning error: 17.40213864733695\n",
      "generalization Error: 10.687373804765128\n",
      "Error: 15.375299978223895\n",
      "DIS\n",
      "learning error: 16.871192022346463\n",
      "generalization Error: 10.673165756591848\n",
      "Error: 15.000329884634082\n",
      "RAD\n",
      "learning error: 17.498062528370156\n",
      "generalization Error: 10.574448606907957\n",
      "Error: 15.408183172199845\n",
      "TAX\n",
      "learning error: 17.44295501225646\n",
      "generalization Error: 10.624852089629838\n",
      "Error: 15.384923945262388\n",
      "PTRATIO\n",
      "learning error: 17.259260561427887\n",
      "generalization Error: 10.543542595031816\n",
      "Error: 15.232134193747761\n",
      "B\n",
      "learning error: 17.25095733289014\n",
      "generalization Error: 10.937065642701613\n",
      "Error: 15.345121442833234\n",
      "LSTAT\n",
      "learning error: 17.498095179547246\n",
      "generalization Error: 10.574825556133035\n",
      "Error: 15.408319749071087\n"
     ]
    }
   ],
   "source": [
    "for col in columns[:-2]:\n",
    "    dwo_squared['col**2'] = dwo_squared[col].apply(lambda x: x ** 2)\n",
    "    print(col)\n",
    "    X = dwo_squared.loc[:, columns + ['col**2']]\n",
    "    y = dwo_squared['MEDV']\n",
    "    training(X, y)\n",
    "    del dwo_squared['col**2']"
   ]
  },
  {
   "cell_type": "code",
   "execution_count": 56,
   "id": "08541d92",
   "metadata": {},
   "outputs": [
    {
     "name": "stdout",
     "output_type": "stream",
     "text": [
      "learning error: 17.43912844192818\n",
      "generalization Error: 10.35932140955136\n",
      "Error: 15.302102499917105\n"
     ]
    }
   ],
   "source": [
    "dwo_squared['ZN2'] = dwo_squared['ZN'].apply(lambda x: x ** 2)\n",
    "columns.append('ZN2')\n",
    "X = dwo_squared.loc[:, columns]\n",
    "y = dwo_squared['MEDV']\n",
    "training(X, y)"
   ]
  },
  {
   "cell_type": "code",
   "execution_count": 57,
   "id": "356ab171",
   "metadata": {},
   "outputs": [
    {
     "name": "stdout",
     "output_type": "stream",
     "text": [
      "CRIM\n",
      "learning error: 17.196248924801598\n",
      "generalization Error: 11.178152714274622\n",
      "Error: 15.37969832326676\n",
      "ZN\n",
      "learning error: 17.439128441928197\n",
      "generalization Error: 10.359321409551399\n",
      "Error: 15.302102499917131\n",
      "INDUS\n",
      "learning error: 17.308647833402137\n",
      "generalization Error: 10.175377082467353\n",
      "Error: 15.155483972237018\n",
      "CHAS\n",
      "learning error: 17.439128441928165\n",
      "generalization Error: 10.359321409551399\n",
      "Error: 15.302102499917108\n",
      "NOX\n",
      "learning error: 17.368684804504653\n",
      "generalization Error: 10.281390814708121\n",
      "Error: 15.229398939001388\n",
      "RM\n",
      "learning error: 17.439128441928187\n",
      "generalization Error: 10.359321409551344\n",
      "Error: 15.302102499917108\n",
      "AGE\n",
      "learning error: 17.341112601168128\n",
      "generalization Error: 10.478351834378474\n",
      "Error: 15.269601651028335\n",
      "DIS\n",
      "learning error: 16.828622931633582\n",
      "generalization Error: 10.455292032729943\n",
      "Error: 14.904845432375193\n",
      "RAD\n",
      "learning error: 17.435398529475883\n",
      "generalization Error: 10.348184503367316\n",
      "Error: 15.296136800855841\n",
      "TAX\n",
      "learning error: 17.39081245079928\n",
      "generalization Error: 10.41015960685448\n",
      "Error: 15.28371600714449\n",
      "PTRATIO\n",
      "learning error: 17.185276164538497\n",
      "generalization Error: 10.262182342837082\n",
      "Error: 15.095553799466407\n",
      "B\n",
      "learning error: 17.202529192866862\n",
      "generalization Error: 10.723123614557808\n",
      "Error: 15.24673325855181\n",
      "LSTAT\n",
      "learning error: 17.439128441928183\n",
      "generalization Error: 10.359321409551166\n",
      "Error: 15.302102499917051\n"
     ]
    }
   ],
   "source": [
    "for col in columns[:-3]:\n",
    "    dwo_squared['col**2'] = dwo_squared[col].apply(lambda x: x ** 2)\n",
    "    print(col)\n",
    "    X = dwo_squared.loc[:, columns + ['col**2']]\n",
    "    y = dwo_squared['MEDV']\n",
    "    training(X, y)\n",
    "    del dwo_squared['col**2']"
   ]
  },
  {
   "cell_type": "code",
   "execution_count": 58,
   "id": "6137f0c3",
   "metadata": {},
   "outputs": [
    {
     "name": "stdout",
     "output_type": "stream",
     "text": [
      "learning error: 17.308647833402137\n",
      "generalization Error: 10.175377082467353\n",
      "Error: 15.155483972237018\n"
     ]
    }
   ],
   "source": [
    "dwo_squared['INDUS2'] = dwo_squared['INDUS'].apply(lambda x: x ** 2)\n",
    "columns.append('INDUS2')\n",
    "X = dwo_squared.loc[:, columns]\n",
    "y = dwo_squared['MEDV']\n",
    "training(X, y)"
   ]
  },
  {
   "cell_type": "code",
   "execution_count": 59,
   "id": "ad6b1204",
   "metadata": {},
   "outputs": [
    {
     "name": "stdout",
     "output_type": "stream",
     "text": [
      "CRIM\n",
      "learning error: 17.04560037478229\n",
      "generalization Error: 10.992747895612215\n",
      "Error: 15.218558661357239\n",
      "ZN\n",
      "learning error: 17.308647833402137\n",
      "generalization Error: 10.17537708246772\n",
      "Error: 15.155483972237128\n",
      "INDUS\n",
      "learning error: 17.308647833402127\n",
      "generalization Error: 10.175377082467111\n",
      "Error: 15.155483972236937\n",
      "CHAS\n",
      "learning error: 17.308647833402112\n",
      "generalization Error: 10.175377082467712\n",
      "Error: 15.15548397223711\n",
      "NOX\n",
      "learning error: 17.243083941106846\n",
      "generalization Error: 10.113755882297497\n",
      "Error: 15.091110173868707\n",
      "RM\n",
      "learning error: 17.30864783340214\n",
      "generalization Error: 10.175377082467582\n",
      "Error: 15.155483972237088\n",
      "AGE\n",
      "learning error: 17.179220585964874\n",
      "generalization Error: 10.318505539313291\n",
      "Error: 15.108327132458136\n",
      "DIS\n",
      "learning error: 16.78693394055674\n",
      "generalization Error: 10.354013174925537\n",
      "Error: 14.845169356269702\n",
      "RAD\n",
      "learning error: 17.283364100411674\n",
      "generalization Error: 10.138418755553205\n",
      "Error: 15.126676285844539\n",
      "TAX\n",
      "learning error: 17.308568326298627\n",
      "generalization Error: 10.168630905015808\n",
      "Error: 15.153392143693754\n",
      "PTRATIO\n",
      "learning error: 17.049889499229394\n",
      "generalization Error: 10.019808942719767\n",
      "Error: 14.927873396956468\n",
      "B\n",
      "learning error: 17.067672308887012\n",
      "generalization Error: 10.558071396562946\n",
      "Error: 15.102761971902126\n",
      "LSTAT\n",
      "learning error: 17.308647833402127\n",
      "generalization Error: 10.175377082467184\n",
      "Error: 15.155483972236956\n"
     ]
    }
   ],
   "source": [
    "for col in columns[:-4]:\n",
    "    dwo_squared['col**2'] = dwo_squared[col].apply(lambda x: x ** 2)\n",
    "    print(col)\n",
    "    X = dwo_squared.loc[:, columns + ['col**2']]\n",
    "    y = dwo_squared['MEDV']\n",
    "    training(X, y)\n",
    "    del dwo_squared['col**2']"
   ]
  },
  {
   "cell_type": "code",
   "execution_count": 60,
   "id": "311101b5",
   "metadata": {},
   "outputs": [
    {
     "name": "stdout",
     "output_type": "stream",
     "text": [
      "learning error: 17.049889499229394\n",
      "generalization Error: 10.019808942719767\n",
      "Error: 14.927873396956468\n"
     ]
    }
   ],
   "source": [
    "dwo_squared['PTRATIO2'] = dwo_squared['PTRATIO'].apply(lambda x: x ** 2)\n",
    "columns.append('PTRATIO2')\n",
    "X = dwo_squared.loc[:, columns]\n",
    "y = dwo_squared['MEDV']\n",
    "training(X, y)"
   ]
  },
  {
   "cell_type": "code",
   "execution_count": 61,
   "id": "789d9ce5",
   "metadata": {},
   "outputs": [
    {
     "name": "stdout",
     "output_type": "stream",
     "text": [
      "CRIM\n",
      "learning error: 16.823474304652148\n",
      "generalization Error: 10.821520261884611\n",
      "Error: 15.011796184966668\n",
      "ZN\n",
      "learning error: 17.049889499229423\n",
      "generalization Error: 10.019808942719663\n",
      "Error: 14.927873396956455\n",
      "INDUS\n",
      "learning error: 17.049889499229423\n",
      "generalization Error: 10.01980894271949\n",
      "Error: 14.927873396956404\n",
      "CHAS\n",
      "learning error: 17.049889499229405\n",
      "generalization Error: 10.019808942720937\n",
      "Error: 14.927873396956832\n",
      "NOX\n",
      "learning error: 17.045884771988327\n",
      "generalization Error: 10.002316342723116\n",
      "Error: 14.919797381635174\n",
      "RM\n",
      "learning error: 17.04988949922938\n",
      "generalization Error: 10.019808942719965\n",
      "Error: 14.927873396956516\n",
      "AGE\n",
      "learning error: 16.95134262375914\n",
      "generalization Error: 10.14039903557662\n",
      "Error: 14.89547258790117\n",
      "DIS\n",
      "learning error: 16.564231359565184\n",
      "generalization Error: 10.098420546500778\n",
      "Error: 14.612538978619666\n",
      "RAD\n",
      "learning error: 17.013068563643124\n",
      "generalization Error: 9.958215440054502\n",
      "Error: 14.883574910321709\n",
      "TAX\n",
      "learning error: 17.04944452594672\n",
      "generalization Error: 10.035618972813724\n",
      "Error: 14.932334964734089\n",
      "PTRATIO\n",
      "learning error: 17.049889499229412\n",
      "generalization Error: 10.019808942720742\n",
      "Error: 14.927873396956773\n",
      "B\n",
      "learning error: 16.825962128756405\n",
      "generalization Error: 10.41357805207665\n",
      "Error: 14.890396503968057\n"
     ]
    }
   ],
   "source": [
    "for col in columns[:-6]:\n",
    "    dwo_squared['col**2'] = dwo_squared[col].apply(lambda x: x ** 2)\n",
    "    print(col)\n",
    "    X = dwo_squared.loc[:, columns + ['col**2']]\n",
    "    y = dwo_squared['MEDV']\n",
    "    training(X, y)\n",
    "    del dwo_squared['col**2']"
   ]
  },
  {
   "cell_type": "code",
   "execution_count": 62,
   "id": "6b0620d5",
   "metadata": {},
   "outputs": [
    {
     "name": "stdout",
     "output_type": "stream",
     "text": [
      "learning error: 17.013068563643124\n",
      "generalization Error: 9.958215440054502\n",
      "Error: 14.883574910321709\n"
     ]
    }
   ],
   "source": [
    "dwo_squared['RAD2'] = dwo_squared['RAD'].apply(lambda x: x ** 2)\n",
    "columns.append('RAD2')\n",
    "X = dwo_squared.loc[:, columns]\n",
    "y = dwo_squared['MEDV']\n",
    "training(X, y)"
   ]
  },
  {
   "cell_type": "code",
   "execution_count": 63,
   "id": "5b88857e",
   "metadata": {},
   "outputs": [
    {
     "name": "stdout",
     "output_type": "stream",
     "text": [
      "CRIM\n",
      "learning error: 16.709301899901412\n",
      "generalization Error: 10.84294136536789\n",
      "Error: 14.93855241617158\n",
      "ZN\n",
      "learning error: 17.013068563643138\n",
      "generalization Error: 9.958215440053955\n",
      "Error: 14.883574910321556\n",
      "INDUS\n",
      "learning error: 17.013068563643145\n",
      "generalization Error: 9.958215440056284\n",
      "Error: 14.883574910322267\n",
      "CHAS\n",
      "learning error: 17.013068563643124\n",
      "generalization Error: 9.95821544005484\n",
      "Error: 14.883574910321812\n",
      "NOX\n",
      "learning error: 17.011369614190475\n",
      "generalization Error: 9.946356756664166\n",
      "Error: 14.878809264998756\n",
      "RM\n",
      "learning error: 17.013068563643134\n",
      "generalization Error: 9.958215440055096\n",
      "Error: 14.8835749103219\n",
      "AGE\n",
      "learning error: 16.925856474477982\n",
      "generalization Error: 10.069095224764231\n",
      "Error: 14.856156466864181\n",
      "DIS\n",
      "learning error: 16.556943142055314\n",
      "generalization Error: 10.059697878233447\n",
      "Error: 14.595762333468425\n",
      "RAD\n",
      "learning error: 17.013068563643134\n",
      "generalization Error: 9.958215440055964\n",
      "Error: 14.883574910322164\n",
      "TAX\n",
      "learning error: 16.99495300984891\n",
      "generalization Error: 10.049643795828427\n",
      "Error: 14.898524971941288\n",
      "PTRATIO\n",
      "learning error: 17.013068563643152\n",
      "generalization Error: 9.95821544005477\n",
      "Error: 14.883574910321812\n",
      "B\n",
      "learning error: 16.79926396696193\n",
      "generalization Error: 10.344281435180246\n",
      "Error: 14.850840081598674\n"
     ]
    }
   ],
   "source": [
    "for col in columns[:-7]:\n",
    "    dwo_squared['col**2'] = dwo_squared[col].apply(lambda x: x ** 2)\n",
    "    print(col)\n",
    "    X = dwo_squared.loc[:, columns + ['col**2']]\n",
    "    y = dwo_squared['MEDV']\n",
    "    training(X, y)\n",
    "    del dwo_squared['col**2']"
   ]
  },
  {
   "cell_type": "code",
   "execution_count": 64,
   "id": "a51e21d9",
   "metadata": {},
   "outputs": [
    {
     "name": "stdout",
     "output_type": "stream",
     "text": [
      "learning error: 17.011369614190475\n",
      "generalization Error: 9.946356756664166\n",
      "Error: 14.878809264998756\n"
     ]
    }
   ],
   "source": [
    "dwo_squared['NOX2'] = dwo_squared['NOX'].apply(lambda x: x ** 2)\n",
    "columns.append('NOX2')\n",
    "X = dwo_squared.loc[:, columns]\n",
    "y = dwo_squared['MEDV']\n",
    "training(X, y)"
   ]
  },
  {
   "cell_type": "code",
   "execution_count": 65,
   "id": "cc063d5e",
   "metadata": {},
   "outputs": [
    {
     "name": "stdout",
     "output_type": "stream",
     "text": [
      "CRIM\n",
      "learning error: 16.69481805135004\n",
      "generalization Error: 10.850443551592313\n",
      "Error: 14.930705009328715\n",
      "ZN\n",
      "learning error: 17.011369614190453\n",
      "generalization Error: 9.946356756664525\n",
      "Error: 14.878809264998848\n",
      "INDUS\n",
      "learning error: 17.011369614190457\n",
      "generalization Error: 9.946356756664432\n",
      "Error: 14.878809264998823\n",
      "CHAS\n",
      "learning error: 17.01136961419046\n",
      "generalization Error: 9.946356756665812\n",
      "Error: 14.87880926499924\n",
      "NOX\n",
      "learning error: 17.011369614190453\n",
      "generalization Error: 9.946356756665118\n",
      "Error: 14.87880926499903\n",
      "RM\n",
      "learning error: 17.011369614190478\n",
      "generalization Error: 9.946356756664404\n",
      "Error: 14.87880926499883\n",
      "AGE\n",
      "learning error: 16.92163767131453\n",
      "generalization Error: 10.050926461822481\n",
      "Error: 14.847726895554098\n",
      "DIS\n",
      "learning error: 16.555254441619553\n",
      "generalization Error: 10.077372057845327\n",
      "Error: 14.599918280603516\n",
      "RAD\n",
      "learning error: 17.01136961419049\n",
      "generalization Error: 9.946356756665248\n",
      "Error: 14.878809264999088\n",
      "TAX\n",
      "learning error: 16.994164858189535\n",
      "generalization Error: 10.039118129482448\n",
      "Error: 14.894797570468915\n",
      "PTRATIO\n",
      "learning error: 17.011369614190496\n",
      "generalization Error: 9.94635675666567\n",
      "Error: 14.878809264999227\n",
      "B\n",
      "learning error: 16.796365368107956\n",
      "generalization Error: 10.323979250552705\n",
      "Error: 14.842688244328446\n"
     ]
    }
   ],
   "source": [
    "for col in columns[:-8]:\n",
    "    dwo_squared['col**2'] = dwo_squared[col].apply(lambda x: x ** 2)\n",
    "    print(col)\n",
    "    X = dwo_squared.loc[:, columns + ['col**2']]\n",
    "    y = dwo_squared['MEDV']\n",
    "    training(X, y)\n",
    "    del dwo_squared['col**2']"
   ]
  },
  {
   "cell_type": "code",
   "execution_count": 66,
   "id": "64d5ba10",
   "metadata": {},
   "outputs": [
    {
     "name": "stdout",
     "output_type": "stream",
     "text": [
      "CRIM\n",
      "learning error: 16.747069223678444\n",
      "generalization Error: 10.885922437082893\n",
      "Error: 14.97789349959313\n",
      "ZN\n",
      "learning error: 16.810213697169676\n",
      "generalization Error: 10.211062714229225\n",
      "Error: 14.818272846056233\n",
      "INDUS\n",
      "learning error: 16.938681599234403\n",
      "generalization Error: 9.630966152754963\n",
      "Error: 14.732861947011655\n",
      "CHAS\n",
      "learning error: 17.01136961419046\n",
      "generalization Error: 9.946356756665812\n",
      "Error: 14.87880926499924\n",
      "NOX\n",
      "learning error: 16.963088393971805\n",
      "generalization Error: 9.754287589559938\n",
      "Error: 14.787125933502516\n",
      "RM\n",
      "learning error: 16.793474968952584\n",
      "generalization Error: 11.131155511687862\n",
      "Error: 15.084314886369597\n",
      "AGE\n",
      "learning error: 16.868890799986062\n",
      "generalization Error: 10.112788443641438\n",
      "Error: 14.829574482978545\n",
      "DIS\n",
      "learning error: 16.698733237659493\n",
      "generalization Error: 10.050563551514825\n",
      "Error: 14.691996186605554\n",
      "RAD\n",
      "learning error: 16.90004690799414\n",
      "generalization Error: 9.890152546123828\n",
      "Error: 14.784123969195507\n",
      "TAX\n",
      "learning error: 17.008015268750484\n",
      "generalization Error: 9.99024599800695\n",
      "Error: 14.889715304070197\n",
      "PTRATIO\n",
      "learning error: 17.01086418065446\n",
      "generalization Error: 9.949112561685014\n",
      "Error: 14.87928822995937\n",
      "B\n",
      "learning error: 16.77463234857214\n",
      "generalization Error: 10.322085050114966\n",
      "Error: 14.826943533637428\n",
      "LSTAT\n",
      "learning error: 16.689426121714185\n",
      "generalization Error: 10.13953086033011\n",
      "Error: 14.712353014068478\n"
     ]
    }
   ],
   "source": [
    "for col in columns[:-7]:\n",
    "    dwo_squared['col**3'] = dwo_squared[col].apply(lambda x: x ** 3)\n",
    "    print(col)\n",
    "    X = dwo_squared.loc[:, columns + ['col**3']]\n",
    "    y = dwo_squared['MEDV']\n",
    "    training(X, y)\n",
    "    del dwo_squared['col**3']"
   ]
  },
  {
   "cell_type": "code",
   "execution_count": 67,
   "id": "2fde0a33",
   "metadata": {},
   "outputs": [
    {
     "name": "stdout",
     "output_type": "stream",
     "text": [
      "learning error: 16.90004690799414\n",
      "generalization Error: 9.890152546123828\n",
      "Error: 14.784123969195507\n"
     ]
    }
   ],
   "source": [
    "dwo_squared['RAD3'] = dwo_squared['RAD'].apply(lambda x: x ** 3)\n",
    "columns.append('RAD3')\n",
    "X = dwo_squared.loc[:, columns]\n",
    "y = dwo_squared['MEDV']\n",
    "training(X, y)"
   ]
  },
  {
   "cell_type": "code",
   "execution_count": 68,
   "id": "c4ec563a",
   "metadata": {},
   "outputs": [
    {
     "name": "stdout",
     "output_type": "stream",
     "text": [
      "CRIM\n",
      "learning error: 16.65033273787352\n",
      "generalization Error: 10.81181415598045\n",
      "Error: 14.88798729323639\n",
      "ZN\n",
      "learning error: 16.713042232171034\n",
      "generalization Error: 10.152727202836067\n",
      "Error: 14.732823937895388\n",
      "INDUS\n",
      "learning error: 16.834490650246995\n",
      "generalization Error: 9.597547529592935\n",
      "Error: 14.650033486517742\n",
      "CHAS\n",
      "learning error: 16.900046907994103\n",
      "generalization Error: 9.89015254612326\n",
      "Error: 14.784123969195306\n",
      "NOX\n",
      "learning error: 16.849616816167202\n",
      "generalization Error: 9.681015903604392\n",
      "Error: 14.685788614633866\n",
      "RM\n",
      "learning error: 16.68555697252238\n",
      "generalization Error: 11.045151828905697\n",
      "Error: 14.983011682765394\n",
      "AGE\n",
      "learning error: 16.764286327297807\n",
      "generalization Error: 10.053552748512212\n",
      "Error: 14.738664487294761\n",
      "DIS\n",
      "learning error: 16.597561345819752\n",
      "generalization Error: 9.909987711971471\n",
      "Error: 14.578930290017498\n",
      "RAD\n",
      "learning error: 16.900046907994124\n",
      "generalization Error: 9.890152546123895\n",
      "Error: 14.784123969195512\n",
      "TAX\n",
      "learning error: 16.89980648868148\n",
      "generalization Error: 9.87730926694979\n",
      "Error: 14.780079401218321\n",
      "PTRATIO\n",
      "learning error: 16.899856776518487\n",
      "generalization Error: 9.89055351481701\n",
      "Error: 14.784112260152744\n",
      "B\n",
      "learning error: 16.64776384382279\n",
      "generalization Error: 10.272796249944939\n",
      "Error: 14.723492311379166\n",
      "LSTAT\n",
      "learning error: 16.586520836579545\n",
      "generalization Error: 10.13910601561431\n",
      "Error: 14.640381249963754\n"
     ]
    }
   ],
   "source": [
    "for col in columns[:-8]:\n",
    "    dwo_squared['col**3'] = dwo_squared[col].apply(lambda x: x ** 3)\n",
    "    print(col)\n",
    "    X = dwo_squared.loc[:, columns + ['col**3']]\n",
    "    y = dwo_squared['MEDV']\n",
    "    training(X, y)\n",
    "    del dwo_squared['col**3']"
   ]
  },
  {
   "cell_type": "code",
   "execution_count": 69,
   "id": "4b30aab4",
   "metadata": {},
   "outputs": [
    {
     "name": "stdout",
     "output_type": "stream",
     "text": [
      "learning error: 16.834490650246995\n",
      "generalization Error: 9.597547529592935\n",
      "Error: 14.650033486517742\n"
     ]
    }
   ],
   "source": [
    "dwo_squared['INDUS3'] = dwo_squared['INDUS'].apply(lambda x: x ** 3)\n",
    "columns.append('INDUS3')\n",
    "X = dwo_squared.loc[:, columns]\n",
    "y = dwo_squared['MEDV']\n",
    "training(X, y)"
   ]
  },
  {
   "cell_type": "code",
   "execution_count": 70,
   "id": "be52d4cf",
   "metadata": {},
   "outputs": [
    {
     "name": "stdout",
     "output_type": "stream",
     "text": [
      "CRIM\n",
      "learning error: 16.607954591054884\n",
      "generalization Error: 10.515248698918501\n",
      "Error: 14.768883202668745\n",
      "ZN\n",
      "learning error: 16.605422175430494\n",
      "generalization Error: 9.87558878210971\n",
      "Error: 14.574035093668368\n",
      "INDUS\n",
      "learning error: 16.834490650246995\n",
      "generalization Error: 9.597547529591322\n",
      "Error: 14.650033486517252\n",
      "CHAS\n",
      "learning error: 16.834490650247\n",
      "generalization Error: 9.597547529593045\n",
      "Error: 14.65003348651778\n",
      "NOX\n",
      "learning error: 16.785535855750446\n",
      "generalization Error: 9.398260571046775\n",
      "Error: 14.55570122155858\n",
      "RM\n",
      "learning error: 16.630056654101537\n",
      "generalization Error: 10.75622800755814\n",
      "Error: 14.857052935329712\n",
      "AGE\n",
      "learning error: 16.705413011859054\n",
      "generalization Error: 9.736716283824318\n",
      "Error: 14.60192549846869\n",
      "DIS\n",
      "learning error: 16.58465693196525\n",
      "generalization Error: 9.765356033659447\n",
      "Error: 14.52626425834933\n",
      "RAD\n",
      "learning error: 16.83449065024701\n",
      "generalization Error: 9.59754752959097\n",
      "Error: 14.650033486517158\n",
      "TAX\n",
      "learning error: 16.789942820354593\n",
      "generalization Error: 9.622216603489163\n",
      "Error: 14.626378644011227\n",
      "PTRATIO\n",
      "learning error: 16.830107397611364\n",
      "generalization Error: 9.578034149764868\n",
      "Error: 14.641083234503697\n",
      "B\n",
      "learning error: 16.60039595856254\n",
      "generalization Error: 9.981664329172126\n",
      "Error: 14.602544727514509\n",
      "LSTAT\n",
      "learning error: 16.50888416375225\n",
      "generalization Error: 9.801727640993642\n",
      "Error: 14.484342051133122\n"
     ]
    }
   ],
   "source": [
    "for col in columns[:-9]:\n",
    "    dwo_squared['col**3'] = dwo_squared[col].apply(lambda x: x ** 3)\n",
    "    print(col)\n",
    "    X = dwo_squared.loc[:, columns + ['col**3']]\n",
    "    y = dwo_squared['MEDV']\n",
    "    training(X, y)\n",
    "    del dwo_squared['col**3']"
   ]
  },
  {
   "cell_type": "code",
   "execution_count": 71,
   "id": "457fb5a4",
   "metadata": {},
   "outputs": [
    {
     "name": "stdout",
     "output_type": "stream",
     "text": [
      "learning error: 16.830107397611364\n",
      "generalization Error: 9.578034149764868\n",
      "Error: 14.641083234503697\n"
     ]
    }
   ],
   "source": [
    "dwo_squared['PTRATIO3'] = dwo_squared['PTRATIO'].apply(lambda x: x ** 3)\n",
    "columns.append('PTRATIO3')\n",
    "dwo_poli = dwo_squared.copy()\n",
    "X = dwo_poli[columns]\n",
    "y = dwo_poli['MEDV']\n",
    "training(X, y)"
   ]
  },
  {
   "cell_type": "code",
   "execution_count": 74,
   "id": "2d806a43",
   "metadata": {},
   "outputs": [
    {
     "name": "stdout",
     "output_type": "stream",
     "text": [
      "CRIM\n",
      "learning error: 16.60190632740117\n",
      "generalization Error: 10.487274871007177\n",
      "Error: 14.756216750214485\n",
      "ZN\n",
      "learning error: 16.6029707521179\n",
      "generalization Error: 9.8632793238105\n",
      "Error: 14.568608041725318\n",
      "INDUS\n",
      "learning error: 16.830107397611357\n",
      "generalization Error: 9.578034149763894\n",
      "Error: 14.641083234503396\n",
      "CHAS\n",
      "learning error: 16.83010739761137\n",
      "generalization Error: 9.578034149764205\n",
      "Error: 14.6410832345035\n",
      "NOX\n",
      "learning error: 16.77724829751895\n",
      "generalization Error: 9.354252561737104\n",
      "Error: 14.536631514849685\n",
      "RM\n",
      "learning error: 16.62741548825151\n",
      "generalization Error: 10.733744660959823\n",
      "Error: 14.848422445927325\n",
      "AGE\n",
      "learning error: 16.69504517596062\n",
      "generalization Error: 9.710258879256621\n",
      "Error: 14.586701057653665\n",
      "DIS\n",
      "learning error: 16.583874572956606\n",
      "generalization Error: 9.760514283432594\n",
      "Error: 14.524256580020198\n",
      "RAD\n",
      "learning error: 16.830107397611354\n",
      "generalization Error: 9.57803414976058\n",
      "Error: 14.641083234502394\n",
      "TAX\n",
      "learning error: 16.787316494234442\n",
      "generalization Error: 9.609392929161894\n",
      "Error: 14.620674268226919\n",
      "PTRATIO\n",
      "learning error: 16.83010739761134\n",
      "generalization Error: 9.578034149759336\n",
      "Error: 14.641083234502009\n",
      "B\n",
      "learning error: 16.592751512122714\n",
      "generalization Error: 9.950173021656614\n",
      "Error: 14.587702152577503\n",
      "LSTAT\n",
      "learning error: 16.493715232798007\n",
      "generalization Error: 9.771294419548921\n",
      "Error: 14.46456562387066\n"
     ]
    }
   ],
   "source": [
    "for col in columns[:-10]:\n",
    "    dwo_squared['col**3'] = dwo_squared[col].apply(lambda x: x ** 3)\n",
    "    print(col)\n",
    "    X = dwo_squared[columns + ['col**3']]\n",
    "    y = dwo_squared['MEDV']\n",
    "    training(X, y)\n",
    "    del dwo_squared['col**3']"
   ]
  },
  {
   "cell_type": "code",
   "execution_count": 75,
   "id": "7ba0fe05",
   "metadata": {},
   "outputs": [
    {
     "name": "stdout",
     "output_type": "stream",
     "text": [
      "CRIM\n",
      "learning error: 16.633495964817627\n",
      "generalization Error: 10.443359083937526\n",
      "Error: 14.765015222539649\n",
      "ZN\n",
      "learning error: 16.613249003473417\n",
      "generalization Error: 9.897535397403793\n",
      "Error: 14.58612395194932\n",
      "INDUS\n",
      "learning error: 16.762857518189044\n",
      "generalization Error: 9.722956273851755\n",
      "Error: 14.637877060452736\n",
      "CHAS\n",
      "learning error: 16.83010739761137\n",
      "generalization Error: 9.578034149764205\n",
      "Error: 14.6410832345035\n",
      "NOX\n",
      "learning error: 16.770678966769353\n",
      "generalization Error: 9.334505924973154\n",
      "Error: 14.526084639984873\n",
      "RM\n",
      "learning error: 16.559287743489257\n",
      "generalization Error: 10.896088085780162\n",
      "Error: 14.849861974119161\n",
      "AGE\n",
      "learning error: 16.65496681327517\n",
      "generalization Error: 9.769366881168617\n",
      "Error: 14.576561905637256\n",
      "DIS\n",
      "learning error: 16.66350412364381\n",
      "generalization Error: 9.744767529427577\n",
      "Error: 14.575096979188395\n",
      "RAD\n",
      "learning error: 16.739586467800333\n",
      "generalization Error: 9.860268972549553\n",
      "Error: 14.663077901472068\n",
      "TAX\n",
      "learning error: 16.805384360132724\n",
      "generalization Error: 9.603033687341878\n",
      "Error: 14.631368859310845\n",
      "PTRATIO\n",
      "learning error: 16.78352043975659\n",
      "generalization Error: 9.469320964295603\n",
      "Error: 14.575743596034277\n",
      "B\n",
      "learning error: 16.57826870657991\n",
      "generalization Error: 9.952996381915518\n",
      "Error: 14.578443179422488\n",
      "LSTAT\n",
      "learning error: 16.59703776067949\n",
      "generalization Error: 9.739593660303433\n",
      "Error: 14.527131635925322\n"
     ]
    }
   ],
   "source": [
    "for col in columns[:-10]:\n",
    "    dwo_squared['col**4'] = dwo_squared[col].apply(lambda x: x ** 4)\n",
    "    print(col)\n",
    "    X = dwo_squared[columns + ['col**4']]\n",
    "    y = dwo_squared['MEDV']\n",
    "    training(X, y)\n",
    "    del dwo_squared['col**4']"
   ]
  },
  {
   "cell_type": "code",
   "execution_count": 76,
   "id": "6b2c67fa",
   "metadata": {},
   "outputs": [
    {
     "name": "stdout",
     "output_type": "stream",
     "text": [
      "learning error: 16.78352043975659\n",
      "generalization Error: 9.469320964295603\n",
      "Error: 14.575743596034277\n"
     ]
    }
   ],
   "source": [
    "dwo_poli['PTRATIO4'] = dwo_poli['PTRATIO'].apply(lambda x: x ** 4)\n",
    "columns.append('PTRATIO4')\n",
    "X = dwo_poli[columns]\n",
    "y = dwo_poli['MEDV']\n",
    "training(X, y)"
   ]
  },
  {
   "cell_type": "code",
   "execution_count": 77,
   "id": "bf2856ad",
   "metadata": {},
   "outputs": [
    {
     "name": "stdout",
     "output_type": "stream",
     "text": [
      "CRIM\n",
      "learning error: 16.62039680613031\n",
      "generalization Error: 10.269293073972227\n",
      "Error: 14.703328533795117\n",
      "ZN\n",
      "learning error: 16.59592017138446\n",
      "generalization Error: 9.869155238487185\n",
      "Error: 14.565459298415467\n",
      "INDUS\n",
      "learning error: 16.734962383551025\n",
      "generalization Error: 9.602450465097093\n",
      "Error: 14.582027574489985\n",
      "CHAS\n",
      "learning error: 16.783520439756906\n",
      "generalization Error: 9.46932096429334\n",
      "Error: 14.575743596033817\n",
      "NOX\n",
      "learning error: 16.72776341512431\n",
      "generalization Error: 9.240110034869884\n",
      "Error: 14.467629848599875\n",
      "RM\n",
      "learning error: 16.4251970827659\n",
      "generalization Error: 10.982742456146552\n",
      "Error: 14.782402770418784\n",
      "AGE\n",
      "learning error: 16.570732997972293\n",
      "generalization Error: 9.707755548963279\n",
      "Error: 14.499156642727275\n",
      "DIS\n",
      "learning error: 16.60026794203373\n",
      "generalization Error: 9.584323642583213\n",
      "Error: 14.482518841378235\n",
      "RAD\n",
      "learning error: 16.6346822209689\n",
      "generalization Error: 9.779494257379142\n",
      "Error: 14.565457106702588\n",
      "TAX\n",
      "learning error: 16.810147980786287\n",
      "generalization Error: 9.578676106540575\n",
      "Error: 14.627342302112528\n",
      "PTRATIO\n",
      "learning error: 16.608093417198297\n",
      "generalization Error: 9.471762213283773\n",
      "Error: 14.454005764271326\n",
      "B\n",
      "learning error: 16.522727236527867\n",
      "generalization Error: 9.85564420907644\n",
      "Error: 14.510281230295098\n",
      "LSTAT\n",
      "learning error: 16.627510669827146\n",
      "generalization Error: 9.611986766226188\n",
      "Error: 14.509888464838767\n"
     ]
    }
   ],
   "source": [
    "for col in columns[:columns.index('LSTAT') + 1]:\n",
    "    dwo_poli['col**5'] = dwo_poli[col].apply(lambda x: x ** 5)\n",
    "    print(col)\n",
    "    X = dwo_poli[columns + ['col**5']]\n",
    "    y = dwo_poli['MEDV']\n",
    "    training(X, y)\n",
    "    del dwo_poli['col**5']"
   ]
  },
  {
   "cell_type": "code",
   "execution_count": 79,
   "id": "d7d3a98e",
   "metadata": {},
   "outputs": [
    {
     "name": "stdout",
     "output_type": "stream",
     "text": [
      "learning error: 16.60809341720911\n",
      "generalization Error: 9.47176221330446\n",
      "Error: 14.45400576428512\n"
     ]
    }
   ],
   "source": [
    "dwo_poli['PTRATIO5'] = dwo_poli['PTRATIO'].apply(lambda x: x ** 5)\n",
    "columns.append('PTRATIO5')\n",
    "X = dwo_poli[columns]\n",
    "y = dwo_poli['MEDV']\n",
    "training(X, y)"
   ]
  },
  {
   "cell_type": "code",
   "execution_count": 80,
   "id": "b9ef3f16",
   "metadata": {},
   "outputs": [
    {
     "name": "stdout",
     "output_type": "stream",
     "text": [
      "CRIM\n",
      "learning error: 16.480722698924826\n",
      "generalization Error: 10.152123251210135\n",
      "Error: 14.570447300949345\n",
      "ZN\n",
      "learning error: 16.454019030376962\n",
      "generalization Error: 9.88559324966464\n",
      "Error: 14.471352521619853\n",
      "INDUS\n",
      "learning error: 16.58275241332224\n",
      "generalization Error: 9.565568237643056\n",
      "Error: 14.464629058445775\n",
      "CHAS\n",
      "learning error: 16.608093417217862\n",
      "generalization Error: 9.47176221329172\n",
      "Error: 14.454005764287386\n",
      "NOX\n",
      "learning error: 16.553931095966146\n",
      "generalization Error: 9.226751181507156\n",
      "Error: 14.342236132053475\n",
      "RM\n",
      "learning error: 16.100897560715463\n",
      "generalization Error: 11.243230791050845\n",
      "Error: 14.634620322233536\n",
      "AGE\n",
      "learning error: 16.414072233589202\n",
      "generalization Error: 9.812298216414643\n",
      "Error: 14.421339624708997\n",
      "DIS\n",
      "learning error: 16.520692875081064\n",
      "generalization Error: 9.584583198473243\n",
      "Error: 14.427041699595748\n",
      "RAD\n",
      "learning error: 16.48518113158822\n",
      "generalization Error: 9.7177454749276\n",
      "Error: 14.442443879988401\n",
      "TAX\n",
      "learning error: 42.02433638947519\n",
      "generalization Error: 29.279373567498556\n",
      "Error: 38.17729422349866\n",
      "PTRATIO\n",
      "learning error: 16.559123594452895\n",
      "generalization Error: 9.47891254460754\n",
      "Error: 14.42197570055707\n",
      "B\n",
      "learning error: 19.382927848123842\n",
      "generalization Error: 14.654528487260258\n",
      "Error: 17.95566972482416\n",
      "LSTAT\n",
      "learning error: 16.509207066957547\n",
      "generalization Error: 9.55594536233628\n",
      "Error: 14.410378585275152\n",
      "NOX\n",
      "learning error: 16.553931095966146\n",
      "generalization Error: 9.226751181507156\n",
      "Error: 14.342236132053475\n"
     ]
    }
   ],
   "source": [
    "for col in columns[:columns.index('LSTAT') + 1] + ['NOX']:\n",
    "    dwo_poli['col**6'] = dwo_poli[col].apply(lambda x: x ** 6)\n",
    "    print(col)\n",
    "    X = dwo_poli[columns + ['col**6']]\n",
    "    y = dwo_poli['MEDV']\n",
    "    training(X, y)\n",
    "    del dwo_poli['col**6']"
   ]
  },
  {
   "cell_type": "code",
   "execution_count": 81,
   "id": "798b69fa",
   "metadata": {},
   "outputs": [
    {
     "name": "stdout",
     "output_type": "stream",
     "text": [
      "learning error: 16.559123594452895\n",
      "generalization Error: 9.47891254460754\n",
      "Error: 14.42197570055707\n"
     ]
    }
   ],
   "source": [
    "dwo_poli['PTRATIO6'] = dwo_poli['PTRATIO'].apply(lambda x: x ** 6)\n",
    "columns.append('PTRATIO6')\n",
    "X = dwo_poli[columns]\n",
    "y = dwo_poli['MEDV']\n",
    "training(X, y)"
   ]
  },
  {
   "cell_type": "markdown",
   "id": "82fcac11",
   "metadata": {},
   "source": [
    "Несколько раз в процессе я проверяла, как повлияет на MSE удаление каких-либо переменных. Оказалось, что повлияет плохо, поэтому я ничего удалять не стала и эксперименты не сохранила.\n",
    "\n",
    "Дальше следует серия экспериментов по сочетанию двух переменных. Я перебрала практически все пары, экспериментировала с их умножением / делением / возведением в степень. Если новая переменная хорошо влияла на тестовую MSE, сохраняла ее в датасете. Неудачные попытки удаляла из ноутбука, потому что и так получился какой-то ненормальный объем."
   ]
  },
  {
   "cell_type": "code",
   "execution_count": 82,
   "id": "7a769662",
   "metadata": {},
   "outputs": [
    {
     "name": "stdout",
     "output_type": "stream",
     "text": [
      "learning error: 16.441615678071603\n",
      "generalization Error: 9.3865858940316\n",
      "Error: 14.312068700137557\n"
     ]
    }
   ],
   "source": [
    "dwo_poli['NOX_INDUS'] = dwo_poli['INDUS'] / dwo_poli['NOX2'] / dwo_poli['NOX'] / dwo_poli['NOX'] / dwo_poli['NOX'] / dwo_poli['NOX'] / dwo_poli['NOX']\n",
    "X = dwo_poli[columns + ['NOX_INDUS']]\n",
    "y = dwo_poli['MEDV']\n",
    "training(X, y)"
   ]
  },
  {
   "cell_type": "code",
   "execution_count": 84,
   "id": "2c4499e0",
   "metadata": {},
   "outputs": [
    {
     "name": "stdout",
     "output_type": "stream",
     "text": [
      "['CRIM', 'ZN', 'INDUS', 'CHAS', 'NOX', 'RM', 'AGE', 'DIS', 'RAD', 'TAX', 'PTRATIO', 'B', 'LSTAT', 'RM2', 'LSTAT2', 'ZN2', 'INDUS2', 'PTRATIO2', 'RAD2', 'NOX2', 'RAD3', 'INDUS3', 'PTRATIO3', 'PTRATIO4', 'PTRATIO5', 'PTRATIO5', 'PTRATIO6', 'NOX_INDUS', 'NOX_INDUS']\n"
     ]
    }
   ],
   "source": [
    "columns.append('NOX_INDUS')\n",
    "print(columns)"
   ]
  },
  {
   "cell_type": "code",
   "execution_count": 85,
   "id": "413531fb",
   "metadata": {},
   "outputs": [
    {
     "name": "stdout",
     "output_type": "stream",
     "text": [
      "learning error: 16.5034733501037\n",
      "generalization Error: 9.17366135493417\n",
      "Error: 14.290983897763\n"
     ]
    }
   ],
   "source": [
    "dwo_poli['B_LSTAT'] = dwo_poli['B'] * dwo_poli['LSTAT2'] * dwo_poli['B'] * dwo_poli['LSTAT2']\n",
    "X = dwo_poli[columns + ['B_LSTAT']]\n",
    "y = dwo_poli['MEDV']\n",
    "training(X, y)"
   ]
  },
  {
   "cell_type": "code",
   "execution_count": 86,
   "id": "73ccb0d2",
   "metadata": {},
   "outputs": [
    {
     "name": "stdout",
     "output_type": "stream",
     "text": [
      "['CRIM', 'ZN', 'INDUS', 'CHAS', 'NOX', 'RM', 'AGE', 'DIS', 'RAD', 'TAX', 'PTRATIO', 'B', 'LSTAT', 'RM2', 'LSTAT2', 'ZN2', 'INDUS2', 'PTRATIO2', 'RAD2', 'NOX2', 'RAD3', 'INDUS3', 'PTRATIO3', 'PTRATIO4', 'PTRATIO5', 'PTRATIO5', 'PTRATIO6', 'NOX_INDUS', 'NOX_INDUS', 'B_LSTAT']\n"
     ]
    }
   ],
   "source": [
    "columns.append('B_LSTAT')\n",
    "print(columns)"
   ]
  },
  {
   "cell_type": "code",
   "execution_count": 87,
   "id": "d4bdba0f",
   "metadata": {},
   "outputs": [
    {
     "name": "stdout",
     "output_type": "stream",
     "text": [
      "learning error: 15.712576854001925\n",
      "generalization Error: 8.639698555760413\n",
      "Error: 13.577642336873582\n"
     ]
    }
   ],
   "source": [
    "dwo_poli['CRIM_CHAS'] = dwo_poli['CRIM'] * dwo_poli['CHAS']\n",
    "X = dwo_poli[columns + ['CRIM_CHAS']]\n",
    "y = dwo_poli['MEDV']\n",
    "training(X, y)"
   ]
  },
  {
   "cell_type": "code",
   "execution_count": 88,
   "id": "a2127a55",
   "metadata": {},
   "outputs": [
    {
     "name": "stdout",
     "output_type": "stream",
     "text": [
      "['CRIM', 'ZN', 'INDUS', 'CHAS', 'NOX', 'RM', 'AGE', 'DIS', 'RAD', 'TAX', 'PTRATIO', 'B', 'LSTAT', 'RM2', 'LSTAT2', 'ZN2', 'INDUS2', 'PTRATIO2', 'RAD2', 'NOX2', 'RAD3', 'INDUS3', 'PTRATIO3', 'PTRATIO4', 'PTRATIO5', 'PTRATIO5', 'PTRATIO6', 'NOX_INDUS', 'NOX_INDUS', 'B_LSTAT', 'CRIM_CHAS']\n"
     ]
    }
   ],
   "source": [
    "columns.append('CRIM_CHAS')\n",
    "print(columns)"
   ]
  },
  {
   "cell_type": "code",
   "execution_count": 89,
   "id": "33ac29d2",
   "metadata": {},
   "outputs": [
    {
     "name": "stdout",
     "output_type": "stream",
     "text": [
      "learning error: 15.461734820292644\n",
      "generalization Error: 8.335532435301749\n",
      "Error: 13.310704531599294\n"
     ]
    }
   ],
   "source": [
    "dwo_poli['CRIM_RM'] = dwo_poli['CRIM'] * dwo_poli['RM2']\n",
    "X = dwo_poli[columns + ['CRIM_RM']]\n",
    "y = dwo_poli['MEDV']\n",
    "training(X, y)"
   ]
  },
  {
   "cell_type": "code",
   "execution_count": 90,
   "id": "39e6f9f3",
   "metadata": {},
   "outputs": [
    {
     "name": "stdout",
     "output_type": "stream",
     "text": [
      "['CRIM', 'ZN', 'INDUS', 'CHAS', 'NOX', 'RM', 'AGE', 'DIS', 'RAD', 'TAX', 'PTRATIO', 'B', 'LSTAT', 'RM2', 'LSTAT2', 'ZN2', 'INDUS2', 'PTRATIO2', 'RAD2', 'NOX2', 'RAD3', 'INDUS3', 'PTRATIO3', 'PTRATIO4', 'PTRATIO5', 'PTRATIO5', 'PTRATIO6', 'NOX_INDUS', 'NOX_INDUS', 'B_LSTAT', 'CRIM_CHAS', 'CRIM_RM']\n"
     ]
    }
   ],
   "source": [
    "columns.append('CRIM_RM')\n",
    "print(columns)"
   ]
  },
  {
   "cell_type": "code",
   "execution_count": 91,
   "id": "a367a170",
   "metadata": {},
   "outputs": [
    {
     "name": "stdout",
     "output_type": "stream",
     "text": [
      "learning error: 15.462100305278776\n",
      "generalization Error: 8.189086673011396\n",
      "Error: 13.266755327982462\n"
     ]
    }
   ],
   "source": [
    "dwo_poli['CRIM_AGE'] = dwo_poli['AGE'] / dwo_poli['CRIM']\n",
    "X = dwo_poli[columns + ['CRIM_AGE']]\n",
    "y = dwo_poli['MEDV']\n",
    "training(X, y)"
   ]
  },
  {
   "cell_type": "code",
   "execution_count": 92,
   "id": "44ff9f2e",
   "metadata": {},
   "outputs": [
    {
     "name": "stdout",
     "output_type": "stream",
     "text": [
      "['CRIM', 'ZN', 'INDUS', 'CHAS', 'NOX', 'RM', 'AGE', 'DIS', 'RAD', 'TAX', 'PTRATIO', 'B', 'LSTAT', 'RM2', 'LSTAT2', 'ZN2', 'INDUS2', 'PTRATIO2', 'RAD2', 'NOX2', 'RAD3', 'INDUS3', 'PTRATIO3', 'PTRATIO4', 'PTRATIO5', 'PTRATIO5', 'PTRATIO6', 'NOX_INDUS', 'NOX_INDUS', 'B_LSTAT', 'CRIM_CHAS', 'CRIM_RM', 'CRIM_AGE']\n"
     ]
    }
   ],
   "source": [
    "columns.append('CRIM_AGE')\n",
    "print(columns)"
   ]
  },
  {
   "cell_type": "code",
   "execution_count": 93,
   "id": "d067388a",
   "metadata": {},
   "outputs": [
    {
     "name": "stdout",
     "output_type": "stream",
     "text": [
      "learning error: 15.466946354726113\n",
      "generalization Error: 8.014000783430955\n",
      "Error: 13.217289272630861\n"
     ]
    }
   ],
   "source": [
    "dwo_poli['CRIM_TAX'] = dwo_poli['TAX'] / dwo_poli['CRIM'] * dwo_poli['TAX'] * dwo_poli['TAX'] * dwo_poli['TAX']\n",
    "X = dwo_poli[columns + ['CRIM_TAX']]\n",
    "y = dwo_poli['MEDV']\n",
    "training(X, y)"
   ]
  },
  {
   "cell_type": "code",
   "execution_count": 94,
   "id": "51783320",
   "metadata": {},
   "outputs": [
    {
     "name": "stdout",
     "output_type": "stream",
     "text": [
      "['CRIM', 'ZN', 'INDUS', 'CHAS', 'NOX', 'RM', 'AGE', 'DIS', 'RAD', 'TAX', 'PTRATIO', 'B', 'LSTAT', 'RM2', 'LSTAT2', 'ZN2', 'INDUS2', 'PTRATIO2', 'RAD2', 'NOX2', 'RAD3', 'INDUS3', 'PTRATIO3', 'PTRATIO4', 'PTRATIO5', 'PTRATIO5', 'PTRATIO6', 'NOX_INDUS', 'NOX_INDUS', 'B_LSTAT', 'CRIM_CHAS', 'CRIM_RM', 'CRIM_AGE', 'CRIM_TAX']\n"
     ]
    }
   ],
   "source": [
    "columns.append('CRIM_TAX')\n",
    "print(columns)"
   ]
  },
  {
   "cell_type": "code",
   "execution_count": 95,
   "id": "387e2503",
   "metadata": {},
   "outputs": [
    {
     "name": "stdout",
     "output_type": "stream",
     "text": [
      "learning error: 15.44757974081075\n",
      "generalization Error: 7.969935594413941\n",
      "Error: 13.190467442001033\n"
     ]
    }
   ],
   "source": [
    "dwo_poli['CRIM_PTRATIO'] = dwo_poli['PTRATIO6'] * dwo_poli['CRIM'] * dwo_poli['PTRATIO2']\n",
    "X = dwo_poli[columns + ['CRIM_PTRATIO']]\n",
    "y = dwo_poli['MEDV']\n",
    "training(X, y)"
   ]
  },
  {
   "cell_type": "code",
   "execution_count": 96,
   "id": "ac36ce86",
   "metadata": {},
   "outputs": [
    {
     "name": "stdout",
     "output_type": "stream",
     "text": [
      "['CRIM', 'ZN', 'INDUS', 'CHAS', 'NOX', 'RM', 'AGE', 'DIS', 'RAD', 'TAX', 'PTRATIO', 'B', 'LSTAT', 'RM2', 'LSTAT2', 'ZN2', 'INDUS2', 'PTRATIO2', 'RAD2', 'NOX2', 'RAD3', 'INDUS3', 'PTRATIO3', 'PTRATIO4', 'PTRATIO5', 'PTRATIO5', 'PTRATIO6', 'NOX_INDUS', 'NOX_INDUS', 'B_LSTAT', 'CRIM_CHAS', 'CRIM_RM', 'CRIM_AGE', 'CRIM_TAX', 'CRIM_PTRATIO']\n"
     ]
    }
   ],
   "source": [
    "columns.append('CRIM_PTRATIO')\n",
    "print(columns)"
   ]
  },
  {
   "cell_type": "code",
   "execution_count": 97,
   "id": "c626f215",
   "metadata": {},
   "outputs": [
    {
     "name": "stdout",
     "output_type": "stream",
     "text": [
      "learning error: 15.175366120390194\n",
      "generalization Error: 7.690955339452319\n",
      "Error: 12.91621132614406\n"
     ]
    }
   ],
   "source": [
    "dwo_poli['CHAS_INDUS'] = dwo_poli['CHAS'] * dwo_poli['INDUS3'] * dwo_poli['INDUS3'] * dwo_poli['INDUS3']\n",
    "X = dwo_poli[columns + ['CHAS_INDUS']]\n",
    "y = dwo_poli['MEDV']\n",
    "training(X, y)"
   ]
  },
  {
   "cell_type": "code",
   "execution_count": 98,
   "id": "70969c4f",
   "metadata": {},
   "outputs": [
    {
     "name": "stdout",
     "output_type": "stream",
     "text": [
      "['CRIM', 'ZN', 'INDUS', 'CHAS', 'NOX', 'RM', 'AGE', 'DIS', 'RAD', 'TAX', 'PTRATIO', 'B', 'LSTAT', 'RM2', 'LSTAT2', 'ZN2', 'INDUS2', 'PTRATIO2', 'RAD2', 'NOX2', 'RAD3', 'INDUS3', 'PTRATIO3', 'PTRATIO4', 'PTRATIO5', 'PTRATIO5', 'PTRATIO6', 'NOX_INDUS', 'NOX_INDUS', 'B_LSTAT', 'CRIM_CHAS', 'CRIM_RM', 'CRIM_AGE', 'CRIM_TAX', 'CRIM_PTRATIO', 'CHAS_INDUS']\n"
     ]
    }
   ],
   "source": [
    "columns.append('CHAS_INDUS')\n",
    "print(columns)"
   ]
  },
  {
   "cell_type": "code",
   "execution_count": 99,
   "id": "06c17e00",
   "metadata": {},
   "outputs": [
    {
     "name": "stdout",
     "output_type": "stream",
     "text": [
      "learning error: 15.175349215117443\n",
      "generalization Error: 7.690641282215346\n",
      "Error: 12.916104726130566\n"
     ]
    }
   ],
   "source": [
    "dwo_poli['CHAS_NOX'] = dwo_poli['CHAS'] * (dwo_poli['NOX2'] ** 22)\n",
    "X = dwo_poli[columns + ['CHAS_NOX']]\n",
    "y = dwo_poli['MEDV']\n",
    "training(X, y)"
   ]
  },
  {
   "cell_type": "code",
   "execution_count": 100,
   "id": "8416f55f",
   "metadata": {},
   "outputs": [
    {
     "name": "stdout",
     "output_type": "stream",
     "text": [
      "['CRIM', 'ZN', 'INDUS', 'CHAS', 'NOX', 'RM', 'AGE', 'DIS', 'RAD', 'TAX', 'PTRATIO', 'B', 'LSTAT', 'RM2', 'LSTAT2', 'ZN2', 'INDUS2', 'PTRATIO2', 'RAD2', 'NOX2', 'RAD3', 'INDUS3', 'PTRATIO3', 'PTRATIO4', 'PTRATIO5', 'PTRATIO5', 'PTRATIO6', 'NOX_INDUS', 'NOX_INDUS', 'B_LSTAT', 'CRIM_CHAS', 'CRIM_RM', 'CRIM_AGE', 'CRIM_TAX', 'CRIM_PTRATIO', 'CHAS_INDUS', 'CHAS_NOX']\n"
     ]
    }
   ],
   "source": [
    "columns.append('CHAS_NOX')\n",
    "print(columns)"
   ]
  },
  {
   "cell_type": "code",
   "execution_count": 101,
   "id": "3ab5bb5d",
   "metadata": {},
   "outputs": [
    {
     "name": "stdout",
     "output_type": "stream",
     "text": [
      "learning error: 15.149990013776915\n",
      "generalization Error: 7.629634617583091\n",
      "Error: 12.879985407533603\n"
     ]
    }
   ],
   "source": [
    "dwo_poli['CHAS_AGE'] = dwo_poli['CHAS'] * (dwo_poli['AGE'] ** 5)\n",
    "X = dwo_poli[columns + ['CHAS_AGE']]\n",
    "y = dwo_poli['MEDV']\n",
    "training(X, y)"
   ]
  },
  {
   "cell_type": "code",
   "execution_count": 102,
   "id": "72819f02",
   "metadata": {},
   "outputs": [
    {
     "name": "stdout",
     "output_type": "stream",
     "text": [
      "['CRIM', 'ZN', 'INDUS', 'CHAS', 'NOX', 'RM', 'AGE', 'DIS', 'RAD', 'TAX', 'PTRATIO', 'B', 'LSTAT', 'RM2', 'LSTAT2', 'ZN2', 'INDUS2', 'PTRATIO2', 'RAD2', 'NOX2', 'RAD3', 'INDUS3', 'PTRATIO3', 'PTRATIO4', 'PTRATIO5', 'PTRATIO5', 'PTRATIO6', 'NOX_INDUS', 'NOX_INDUS', 'B_LSTAT', 'CRIM_CHAS', 'CRIM_RM', 'CRIM_AGE', 'CRIM_TAX', 'CRIM_PTRATIO', 'CHAS_INDUS', 'CHAS_NOX', 'CHAS_AGE']\n"
     ]
    }
   ],
   "source": [
    "columns.append('CHAS_AGE')\n",
    "print(columns)"
   ]
  },
  {
   "cell_type": "code",
   "execution_count": 103,
   "id": "076bdac2",
   "metadata": {},
   "outputs": [
    {
     "name": "stdout",
     "output_type": "stream",
     "text": [
      "learning error: 15.070514723188612\n",
      "generalization Error: 7.460483960725169\n",
      "Error: 12.773441782568229\n"
     ]
    }
   ],
   "source": [
    "dwo_poli['CHAS_LSTAT'] = dwo_poli['CHAS'] * dwo_poli['LSTAT']\n",
    "X = dwo_poli[columns + ['CHAS_LSTAT']]\n",
    "y = dwo_poli['MEDV']\n",
    "training(X, y)"
   ]
  },
  {
   "cell_type": "code",
   "execution_count": 104,
   "id": "e4600931",
   "metadata": {},
   "outputs": [
    {
     "name": "stdout",
     "output_type": "stream",
     "text": [
      "['CRIM', 'ZN', 'INDUS', 'CHAS', 'NOX', 'RM', 'AGE', 'DIS', 'RAD', 'TAX', 'PTRATIO', 'B', 'LSTAT', 'RM2', 'LSTAT2', 'ZN2', 'INDUS2', 'PTRATIO2', 'RAD2', 'NOX2', 'RAD3', 'INDUS3', 'PTRATIO3', 'PTRATIO4', 'PTRATIO5', 'PTRATIO5', 'PTRATIO6', 'NOX_INDUS', 'NOX_INDUS', 'B_LSTAT', 'CRIM_CHAS', 'CRIM_RM', 'CRIM_AGE', 'CRIM_TAX', 'CRIM_PTRATIO', 'CHAS_INDUS', 'CHAS_NOX', 'CHAS_AGE', 'CHAS_LSTAT']\n"
     ]
    }
   ],
   "source": [
    "columns.append('CHAS_LSTAT')\n",
    "print(columns)"
   ]
  },
  {
   "cell_type": "code",
   "execution_count": 105,
   "id": "deec491d",
   "metadata": {},
   "outputs": [
    {
     "name": "stdout",
     "output_type": "stream",
     "text": [
      "learning error: 14.807111215370956\n",
      "generalization Error: 7.110676759602029\n",
      "Error: 12.483957488475614\n"
     ]
    }
   ],
   "source": [
    "dwo_poli['LSTAT_AGE'] = dwo_poli['LSTAT'] * (dwo_poli['AGE'] ** 2)\n",
    "X = dwo_poli[columns + ['LSTAT_AGE']]\n",
    "y = dwo_poli['MEDV']\n",
    "training(X, y)"
   ]
  },
  {
   "cell_type": "code",
   "execution_count": 106,
   "id": "aa7a6c16",
   "metadata": {},
   "outputs": [
    {
     "name": "stdout",
     "output_type": "stream",
     "text": [
      "['CRIM', 'ZN', 'INDUS', 'CHAS', 'NOX', 'RM', 'AGE', 'DIS', 'RAD', 'TAX', 'PTRATIO', 'B', 'LSTAT', 'RM2', 'LSTAT2', 'ZN2', 'INDUS2', 'PTRATIO2', 'RAD2', 'NOX2', 'RAD3', 'INDUS3', 'PTRATIO3', 'PTRATIO4', 'PTRATIO5', 'PTRATIO5', 'PTRATIO6', 'NOX_INDUS', 'NOX_INDUS', 'B_LSTAT', 'CRIM_CHAS', 'CRIM_RM', 'CRIM_AGE', 'CRIM_TAX', 'CRIM_PTRATIO', 'CHAS_INDUS', 'CHAS_NOX', 'CHAS_AGE', 'CHAS_LSTAT', 'LSTAT_AGE']\n"
     ]
    }
   ],
   "source": [
    "columns.append('LSTAT_AGE')\n",
    "print(columns)"
   ]
  },
  {
   "cell_type": "code",
   "execution_count": 107,
   "id": "fdfea08d",
   "metadata": {},
   "outputs": [
    {
     "name": "stdout",
     "output_type": "stream",
     "text": [
      "learning error: 14.798184399125308\n",
      "generalization Error: 7.10491644038933\n",
      "Error: 12.475986473182413\n"
     ]
    }
   ],
   "source": [
    "dwo_poli['LSTAT_ZN'] = dwo_poli['LSTAT'] * (dwo_poli['ZN'] ** 2)\n",
    "X = dwo_poli[columns + ['LSTAT_ZN']]\n",
    "y = dwo_poli['MEDV']\n",
    "training(X, y)"
   ]
  },
  {
   "cell_type": "code",
   "execution_count": 108,
   "id": "773cf6da",
   "metadata": {},
   "outputs": [
    {
     "name": "stdout",
     "output_type": "stream",
     "text": [
      "['CRIM', 'ZN', 'INDUS', 'CHAS', 'NOX', 'RM', 'AGE', 'DIS', 'RAD', 'TAX', 'PTRATIO', 'B', 'LSTAT', 'RM2', 'LSTAT2', 'ZN2', 'INDUS2', 'PTRATIO2', 'RAD2', 'NOX2', 'RAD3', 'INDUS3', 'PTRATIO3', 'PTRATIO4', 'PTRATIO5', 'PTRATIO5', 'PTRATIO6', 'NOX_INDUS', 'NOX_INDUS', 'B_LSTAT', 'CRIM_CHAS', 'CRIM_RM', 'CRIM_AGE', 'CRIM_TAX', 'CRIM_PTRATIO', 'CHAS_INDUS', 'CHAS_NOX', 'CHAS_AGE', 'CHAS_LSTAT', 'LSTAT_AGE', 'LSTAT_ZN']\n"
     ]
    }
   ],
   "source": [
    "columns.append('LSTAT_ZN')\n",
    "print(columns)"
   ]
  },
  {
   "cell_type": "code",
   "execution_count": 109,
   "id": "aa31cec5",
   "metadata": {},
   "outputs": [
    {
     "name": "stdout",
     "output_type": "stream",
     "text": [
      "learning error: 14.404059029665223\n",
      "generalization Error: 6.655161131104515\n",
      "Error: 12.065069314904601\n"
     ]
    }
   ],
   "source": [
    "dwo_poli['LSTAT_INDUS'] = dwo_poli['LSTAT'] * (dwo_poli['INDUS'] ** 3)\n",
    "X = dwo_poli[columns + ['LSTAT_INDUS']]\n",
    "y = dwo_poli['MEDV']\n",
    "training(X, y)"
   ]
  },
  {
   "cell_type": "code",
   "execution_count": 110,
   "id": "991e0202",
   "metadata": {},
   "outputs": [
    {
     "name": "stdout",
     "output_type": "stream",
     "text": [
      "['CRIM', 'ZN', 'INDUS', 'CHAS', 'NOX', 'RM', 'AGE', 'DIS', 'RAD', 'TAX', 'PTRATIO', 'B', 'LSTAT', 'RM2', 'LSTAT2', 'ZN2', 'INDUS2', 'PTRATIO2', 'RAD2', 'NOX2', 'RAD3', 'INDUS3', 'PTRATIO3', 'PTRATIO4', 'PTRATIO5', 'PTRATIO5', 'PTRATIO6', 'NOX_INDUS', 'NOX_INDUS', 'B_LSTAT', 'CRIM_CHAS', 'CRIM_RM', 'CRIM_AGE', 'CRIM_TAX', 'CRIM_PTRATIO', 'CHAS_INDUS', 'CHAS_NOX', 'CHAS_AGE', 'CHAS_LSTAT', 'LSTAT_AGE', 'LSTAT_ZN', 'LSTAT_INDUS']\n"
     ]
    }
   ],
   "source": [
    "columns.append('LSTAT_INDUS')\n",
    "print(columns)"
   ]
  },
  {
   "cell_type": "code",
   "execution_count": 111,
   "id": "49d9fe30",
   "metadata": {},
   "outputs": [
    {
     "name": "stdout",
     "output_type": "stream",
     "text": [
      "learning error: 14.327148112239172\n",
      "generalization Error: 6.754404955093723\n",
      "Error: 12.0413303625464\n"
     ]
    }
   ],
   "source": [
    "dwo_poli['LSTAT_NOX'] = dwo_poli['LSTAT'] * dwo_poli['NOX']\n",
    "X = dwo_poli[columns + ['LSTAT_NOX']]\n",
    "y = dwo_poli['MEDV']\n",
    "training(X, y)"
   ]
  },
  {
   "cell_type": "code",
   "execution_count": 112,
   "id": "f9a66e0c",
   "metadata": {},
   "outputs": [
    {
     "name": "stdout",
     "output_type": "stream",
     "text": [
      "['CRIM', 'ZN', 'INDUS', 'CHAS', 'NOX', 'RM', 'AGE', 'DIS', 'RAD', 'TAX', 'PTRATIO', 'B', 'LSTAT', 'RM2', 'LSTAT2', 'ZN2', 'INDUS2', 'PTRATIO2', 'RAD2', 'NOX2', 'RAD3', 'INDUS3', 'PTRATIO3', 'PTRATIO4', 'PTRATIO5', 'PTRATIO5', 'PTRATIO6', 'NOX_INDUS', 'NOX_INDUS', 'B_LSTAT', 'CRIM_CHAS', 'CRIM_RM', 'CRIM_AGE', 'CRIM_TAX', 'CRIM_PTRATIO', 'CHAS_INDUS', 'CHAS_NOX', 'CHAS_AGE', 'CHAS_LSTAT', 'LSTAT_AGE', 'LSTAT_ZN', 'LSTAT_INDUS', 'LSTAT_NOX']\n"
     ]
    }
   ],
   "source": [
    "columns.append('LSTAT_NOX')\n",
    "print(columns)"
   ]
  },
  {
   "cell_type": "code",
   "execution_count": 113,
   "id": "0609ff51",
   "metadata": {},
   "outputs": [
    {
     "name": "stdout",
     "output_type": "stream",
     "text": [
      "learning error: 14.131771763673115\n",
      "generalization Error: 6.303243622821239\n",
      "Error: 11.768745815613102\n"
     ]
    }
   ],
   "source": [
    "dwo_poli['LSTAT_RM'] = dwo_poli['LSTAT'] * (dwo_poli['RM'] ** 6)\n",
    "X = dwo_poli[columns + ['LSTAT_RM']]\n",
    "y = dwo_poli['MEDV']\n",
    "training(X, y)"
   ]
  },
  {
   "cell_type": "code",
   "execution_count": 114,
   "id": "e82c17ae",
   "metadata": {},
   "outputs": [
    {
     "name": "stdout",
     "output_type": "stream",
     "text": [
      "['CRIM', 'ZN', 'INDUS', 'CHAS', 'NOX', 'RM', 'AGE', 'DIS', 'RAD', 'TAX', 'PTRATIO', 'B', 'LSTAT', 'RM2', 'LSTAT2', 'ZN2', 'INDUS2', 'PTRATIO2', 'RAD2', 'NOX2', 'RAD3', 'INDUS3', 'PTRATIO3', 'PTRATIO4', 'PTRATIO5', 'PTRATIO5', 'PTRATIO6', 'NOX_INDUS', 'NOX_INDUS', 'B_LSTAT', 'CRIM_CHAS', 'CRIM_RM', 'CRIM_AGE', 'CRIM_TAX', 'CRIM_PTRATIO', 'CHAS_INDUS', 'CHAS_NOX', 'CHAS_AGE', 'CHAS_LSTAT', 'LSTAT_AGE', 'LSTAT_ZN', 'LSTAT_INDUS', 'LSTAT_NOX', 'LSTAT_RM']\n"
     ]
    }
   ],
   "source": [
    "columns.append('LSTAT_RM')\n",
    "print(columns)"
   ]
  },
  {
   "cell_type": "code",
   "execution_count": 115,
   "id": "538b984e",
   "metadata": {},
   "outputs": [
    {
     "name": "stdout",
     "output_type": "stream",
     "text": [
      "learning error: 13.992522867253768\n",
      "generalization Error: 6.444927425306332\n",
      "Error: 11.714295906337398\n"
     ]
    }
   ],
   "source": [
    "dwo_poli['LSTAT_DIS'] = (dwo_poli['DIS'] ** 2) / dwo_poli['LSTAT']\n",
    "X = dwo_poli[columns + ['LSTAT_DIS']]\n",
    "y = dwo_poli['MEDV']\n",
    "training(X, y)"
   ]
  },
  {
   "cell_type": "code",
   "execution_count": 116,
   "id": "48ce9d19",
   "metadata": {},
   "outputs": [
    {
     "name": "stdout",
     "output_type": "stream",
     "text": [
      "['CRIM', 'ZN', 'INDUS', 'CHAS', 'NOX', 'RM', 'AGE', 'DIS', 'RAD', 'TAX', 'PTRATIO', 'B', 'LSTAT', 'RM2', 'LSTAT2', 'ZN2', 'INDUS2', 'PTRATIO2', 'RAD2', 'NOX2', 'RAD3', 'INDUS3', 'PTRATIO3', 'PTRATIO4', 'PTRATIO5', 'PTRATIO5', 'PTRATIO6', 'NOX_INDUS', 'NOX_INDUS', 'B_LSTAT', 'CRIM_CHAS', 'CRIM_RM', 'CRIM_AGE', 'CRIM_TAX', 'CRIM_PTRATIO', 'CHAS_INDUS', 'CHAS_NOX', 'CHAS_AGE', 'CHAS_LSTAT', 'LSTAT_AGE', 'LSTAT_ZN', 'LSTAT_INDUS', 'LSTAT_NOX', 'LSTAT_RM', 'LSTAT_DIS']\n"
     ]
    }
   ],
   "source": [
    "columns.append('LSTAT_DIS')\n",
    "print(columns)"
   ]
  },
  {
   "cell_type": "code",
   "execution_count": 117,
   "id": "11ddfa8b",
   "metadata": {},
   "outputs": [
    {
     "name": "stdout",
     "output_type": "stream",
     "text": [
      "learning error: 13.164758242429894\n",
      "generalization Error: 5.840259277301454\n",
      "Error: 10.953872517842868\n"
     ]
    }
   ],
   "source": [
    "dwo_poli['LSTAT_RAD'] = dwo_poli['RAD'] / dwo_poli['LSTAT']\n",
    "X = dwo_poli[columns + ['LSTAT_RAD']]\n",
    "y = dwo_poli['MEDV']\n",
    "training(X, y)"
   ]
  },
  {
   "cell_type": "code",
   "execution_count": 118,
   "id": "970e6566",
   "metadata": {},
   "outputs": [
    {
     "name": "stdout",
     "output_type": "stream",
     "text": [
      "['CRIM', 'ZN', 'INDUS', 'CHAS', 'NOX', 'RM', 'AGE', 'DIS', 'RAD', 'TAX', 'PTRATIO', 'B', 'LSTAT', 'RM2', 'LSTAT2', 'ZN2', 'INDUS2', 'PTRATIO2', 'RAD2', 'NOX2', 'RAD3', 'INDUS3', 'PTRATIO3', 'PTRATIO4', 'PTRATIO5', 'PTRATIO5', 'PTRATIO6', 'NOX_INDUS', 'NOX_INDUS', 'B_LSTAT', 'CRIM_CHAS', 'CRIM_RM', 'CRIM_AGE', 'CRIM_TAX', 'CRIM_PTRATIO', 'CHAS_INDUS', 'CHAS_NOX', 'CHAS_AGE', 'CHAS_LSTAT', 'LSTAT_AGE', 'LSTAT_ZN', 'LSTAT_INDUS', 'LSTAT_NOX', 'LSTAT_RM', 'LSTAT_DIS', 'LSTAT_RAD']\n"
     ]
    }
   ],
   "source": [
    "columns.append('LSTAT_RAD')\n",
    "print(columns)"
   ]
  },
  {
   "cell_type": "code",
   "execution_count": 119,
   "id": "014c48f2",
   "metadata": {},
   "outputs": [
    {
     "name": "stdout",
     "output_type": "stream",
     "text": [
      "learning error: 13.160951460443004\n",
      "generalization Error: 5.785396642707739\n",
      "Error: 10.93465462634222\n"
     ]
    }
   ],
   "source": [
    "dwo_poli['LSTAT_PTRATIO'] = dwo_poli['PTRATIO6'] * dwo_poli['LSTAT']\n",
    "X = dwo_poli[columns + ['LSTAT_PTRATIO']]\n",
    "y = dwo_poli['MEDV']\n",
    "training(X, y)"
   ]
  },
  {
   "cell_type": "code",
   "execution_count": 120,
   "id": "01c54a85",
   "metadata": {},
   "outputs": [
    {
     "name": "stdout",
     "output_type": "stream",
     "text": [
      "['CRIM', 'ZN', 'INDUS', 'CHAS', 'NOX', 'RM', 'AGE', 'DIS', 'RAD', 'TAX', 'PTRATIO', 'B', 'LSTAT', 'RM2', 'LSTAT2', 'ZN2', 'INDUS2', 'PTRATIO2', 'RAD2', 'NOX2', 'RAD3', 'INDUS3', 'PTRATIO3', 'PTRATIO4', 'PTRATIO5', 'PTRATIO5', 'PTRATIO6', 'NOX_INDUS', 'NOX_INDUS', 'B_LSTAT', 'CRIM_CHAS', 'CRIM_RM', 'CRIM_AGE', 'CRIM_TAX', 'CRIM_PTRATIO', 'CHAS_INDUS', 'CHAS_NOX', 'CHAS_AGE', 'CHAS_LSTAT', 'LSTAT_AGE', 'LSTAT_ZN', 'LSTAT_INDUS', 'LSTAT_NOX', 'LSTAT_RM', 'LSTAT_DIS', 'LSTAT_RAD', 'LSTAT_PTRATIO']\n"
     ]
    }
   ],
   "source": [
    "columns.append('LSTAT_PTRATIO')\n",
    "print(columns)"
   ]
  },
  {
   "cell_type": "code",
   "execution_count": 121,
   "id": "1ebc66f1",
   "metadata": {},
   "outputs": [
    {
     "name": "stdout",
     "output_type": "stream",
     "text": [
      "learning error: 13.022552624126766\n",
      "generalization Error: 5.460363131040084\n",
      "Error: 10.739920477342903\n"
     ]
    }
   ],
   "source": [
    "dwo_poli['RM_ZN'] = dwo_poli['ZN'] / dwo_poli['RM']\n",
    "X = dwo_poli[columns + ['RM_ZN']]\n",
    "y = dwo_poli['MEDV']\n",
    "training(X, y)"
   ]
  },
  {
   "cell_type": "code",
   "execution_count": 122,
   "id": "0028fac2",
   "metadata": {},
   "outputs": [
    {
     "name": "stdout",
     "output_type": "stream",
     "text": [
      "['CRIM', 'ZN', 'INDUS', 'CHAS', 'NOX', 'RM', 'AGE', 'DIS', 'RAD', 'TAX', 'PTRATIO', 'B', 'LSTAT', 'RM2', 'LSTAT2', 'ZN2', 'INDUS2', 'PTRATIO2', 'RAD2', 'NOX2', 'RAD3', 'INDUS3', 'PTRATIO3', 'PTRATIO4', 'PTRATIO5', 'PTRATIO5', 'PTRATIO6', 'NOX_INDUS', 'NOX_INDUS', 'B_LSTAT', 'CRIM_CHAS', 'CRIM_RM', 'CRIM_AGE', 'CRIM_TAX', 'CRIM_PTRATIO', 'CHAS_INDUS', 'CHAS_NOX', 'CHAS_AGE', 'CHAS_LSTAT', 'LSTAT_AGE', 'LSTAT_ZN', 'LSTAT_INDUS', 'LSTAT_NOX', 'LSTAT_RM', 'LSTAT_DIS', 'LSTAT_RAD', 'LSTAT_PTRATIO', 'RM_ZN']\n"
     ]
    }
   ],
   "source": [
    "columns.append('RM_ZN')\n",
    "print(columns)"
   ]
  },
  {
   "cell_type": "code",
   "execution_count": 123,
   "id": "f8334875",
   "metadata": {},
   "outputs": [
    {
     "name": "stdout",
     "output_type": "stream",
     "text": [
      "learning error: 12.946897721263069\n",
      "generalization Error: 5.380597165377531\n",
      "Error: 10.663024658192896\n"
     ]
    }
   ],
   "source": [
    "dwo_poli['RM_INDUS'] = (dwo_poli['INDUS'] ** 5) * dwo_poli['RM']\n",
    "X = dwo_poli[columns + ['RM_INDUS']]\n",
    "y = dwo_poli['MEDV']\n",
    "training(X, y)"
   ]
  },
  {
   "cell_type": "code",
   "execution_count": 124,
   "id": "0731903b",
   "metadata": {},
   "outputs": [
    {
     "name": "stdout",
     "output_type": "stream",
     "text": [
      "['CRIM', 'ZN', 'INDUS', 'CHAS', 'NOX', 'RM', 'AGE', 'DIS', 'RAD', 'TAX', 'PTRATIO', 'B', 'LSTAT', 'RM2', 'LSTAT2', 'ZN2', 'INDUS2', 'PTRATIO2', 'RAD2', 'NOX2', 'RAD3', 'INDUS3', 'PTRATIO3', 'PTRATIO4', 'PTRATIO5', 'PTRATIO5', 'PTRATIO6', 'NOX_INDUS', 'NOX_INDUS', 'B_LSTAT', 'CRIM_CHAS', 'CRIM_RM', 'CRIM_AGE', 'CRIM_TAX', 'CRIM_PTRATIO', 'CHAS_INDUS', 'CHAS_NOX', 'CHAS_AGE', 'CHAS_LSTAT', 'LSTAT_AGE', 'LSTAT_ZN', 'LSTAT_INDUS', 'LSTAT_NOX', 'LSTAT_RM', 'LSTAT_DIS', 'LSTAT_RAD', 'LSTAT_PTRATIO', 'RM_ZN', 'RM_INDUS']\n"
     ]
    }
   ],
   "source": [
    "columns.append('RM_INDUS')\n",
    "print(columns)"
   ]
  },
  {
   "cell_type": "code",
   "execution_count": 125,
   "id": "bfb0db69",
   "metadata": {},
   "outputs": [
    {
     "name": "stdout",
     "output_type": "stream",
     "text": [
      "learning error: 12.955287643559693\n",
      "generalization Error: 5.354253615606109\n",
      "Error: 10.660930349701012\n"
     ]
    }
   ],
   "source": [
    "dwo_poli['RM_DIS'] = dwo_poli['DIS'] / (dwo_poli['RM'] ** 2)\n",
    "X = dwo_poli[columns + ['RM_DIS']]\n",
    "y = dwo_poli['MEDV']\n",
    "training(X, y)"
   ]
  },
  {
   "cell_type": "code",
   "execution_count": 126,
   "id": "8272e104",
   "metadata": {},
   "outputs": [
    {
     "name": "stdout",
     "output_type": "stream",
     "text": [
      "['CRIM', 'ZN', 'INDUS', 'CHAS', 'NOX', 'RM', 'AGE', 'DIS', 'RAD', 'TAX', 'PTRATIO', 'B', 'LSTAT', 'RM2', 'LSTAT2', 'ZN2', 'INDUS2', 'PTRATIO2', 'RAD2', 'NOX2', 'RAD3', 'INDUS3', 'PTRATIO3', 'PTRATIO4', 'PTRATIO5', 'PTRATIO5', 'PTRATIO6', 'NOX_INDUS', 'NOX_INDUS', 'B_LSTAT', 'CRIM_CHAS', 'CRIM_RM', 'CRIM_AGE', 'CRIM_TAX', 'CRIM_PTRATIO', 'CHAS_INDUS', 'CHAS_NOX', 'CHAS_AGE', 'CHAS_LSTAT', 'LSTAT_AGE', 'LSTAT_ZN', 'LSTAT_INDUS', 'LSTAT_NOX', 'LSTAT_RM', 'LSTAT_DIS', 'LSTAT_RAD', 'LSTAT_PTRATIO', 'RM_ZN', 'RM_INDUS', 'RM_DIS']\n"
     ]
    }
   ],
   "source": [
    "columns.append('RM_DIS')\n",
    "print(columns)"
   ]
  },
  {
   "cell_type": "code",
   "execution_count": 127,
   "id": "25e6bf17",
   "metadata": {},
   "outputs": [
    {
     "name": "stdout",
     "output_type": "stream",
     "text": [
      "learning error: 12.892181092582446\n",
      "generalization Error: 5.303997990301137\n",
      "Error: 10.601702825569403\n"
     ]
    }
   ],
   "source": [
    "#Это была случайность, и она сработала\n",
    "dwo_poli['AGE2'] = dwo_poli['AGE'] ** 2\n",
    "X = dwo_poli[columns + ['AGE2']]\n",
    "y = dwo_poli['MEDV']\n",
    "training(X, y)"
   ]
  },
  {
   "cell_type": "code",
   "execution_count": 128,
   "id": "2b7b8496",
   "metadata": {},
   "outputs": [
    {
     "name": "stdout",
     "output_type": "stream",
     "text": [
      "['CRIM', 'ZN', 'INDUS', 'CHAS', 'NOX', 'RM', 'AGE', 'DIS', 'RAD', 'TAX', 'PTRATIO', 'B', 'LSTAT', 'RM2', 'LSTAT2', 'ZN2', 'INDUS2', 'PTRATIO2', 'RAD2', 'NOX2', 'RAD3', 'INDUS3', 'PTRATIO3', 'PTRATIO4', 'PTRATIO5', 'PTRATIO5', 'PTRATIO6', 'NOX_INDUS', 'NOX_INDUS', 'B_LSTAT', 'CRIM_CHAS', 'CRIM_RM', 'CRIM_AGE', 'CRIM_TAX', 'CRIM_PTRATIO', 'CHAS_INDUS', 'CHAS_NOX', 'CHAS_AGE', 'CHAS_LSTAT', 'LSTAT_AGE', 'LSTAT_ZN', 'LSTAT_INDUS', 'LSTAT_NOX', 'LSTAT_RM', 'LSTAT_DIS', 'LSTAT_RAD', 'LSTAT_PTRATIO', 'RM_ZN', 'RM_INDUS', 'RM_DIS', 'AGE2']\n"
     ]
    }
   ],
   "source": [
    "columns.append('AGE2')\n",
    "print(columns)"
   ]
  },
  {
   "cell_type": "code",
   "execution_count": 129,
   "id": "de8afa31",
   "metadata": {},
   "outputs": [
    {
     "name": "stdout",
     "output_type": "stream",
     "text": [
      "learning error: 12.892032692719859\n",
      "generalization Error: 5.305755409830629\n",
      "Error: 10.602129693572596\n"
     ]
    }
   ],
   "source": [
    "dwo_poli['RM_B'] = (dwo_poli['RM'] ** 2) / (dwo_poli['B'] ** 2)\n",
    "X = dwo_poli[columns + ['RM_B']]\n",
    "y = dwo_poli['MEDV']\n",
    "training(X, y)"
   ]
  },
  {
   "cell_type": "code",
   "execution_count": 130,
   "id": "fd1c2346",
   "metadata": {},
   "outputs": [
    {
     "name": "stdout",
     "output_type": "stream",
     "text": [
      "['CRIM', 'ZN', 'INDUS', 'CHAS', 'NOX', 'RM', 'AGE', 'DIS', 'RAD', 'TAX', 'PTRATIO', 'B', 'LSTAT', 'RM2', 'LSTAT2', 'ZN2', 'INDUS2', 'PTRATIO2', 'RAD2', 'NOX2', 'RAD3', 'INDUS3', 'PTRATIO3', 'PTRATIO4', 'PTRATIO5', 'PTRATIO5', 'PTRATIO6', 'NOX_INDUS', 'NOX_INDUS', 'B_LSTAT', 'CRIM_CHAS', 'CRIM_RM', 'CRIM_AGE', 'CRIM_TAX', 'CRIM_PTRATIO', 'CHAS_INDUS', 'CHAS_NOX', 'CHAS_AGE', 'CHAS_LSTAT', 'LSTAT_AGE', 'LSTAT_ZN', 'LSTAT_INDUS', 'LSTAT_NOX', 'LSTAT_RM', 'LSTAT_DIS', 'LSTAT_RAD', 'LSTAT_PTRATIO', 'RM_ZN', 'RM_INDUS', 'RM_DIS', 'AGE2', 'RM_B']\n"
     ]
    }
   ],
   "source": [
    "columns.append('RM_B')\n",
    "print(columns)"
   ]
  },
  {
   "cell_type": "code",
   "execution_count": 131,
   "id": "8008941a",
   "metadata": {},
   "outputs": [
    {
     "name": "stdout",
     "output_type": "stream",
     "text": [
      "learning error: 12.891109589576846\n",
      "generalization Error: 5.331419021306616\n",
      "Error: 10.609231738374126\n"
     ]
    }
   ],
   "source": [
    "dwo_poli['INDUS_ZN'] = dwo_poli['ZN'] * dwo_poli['INDUS']\n",
    "X = dwo_poli[columns + ['INDUS_ZN']]\n",
    "y = dwo_poli['MEDV']\n",
    "training(X, y)"
   ]
  },
  {
   "cell_type": "code",
   "execution_count": 132,
   "id": "24e8b50e",
   "metadata": {},
   "outputs": [
    {
     "name": "stdout",
     "output_type": "stream",
     "text": [
      "['CRIM', 'ZN', 'INDUS', 'CHAS', 'NOX', 'RM', 'AGE', 'DIS', 'RAD', 'TAX', 'PTRATIO', 'B', 'LSTAT', 'RM2', 'LSTAT2', 'ZN2', 'INDUS2', 'PTRATIO2', 'RAD2', 'NOX2', 'RAD3', 'INDUS3', 'PTRATIO3', 'PTRATIO4', 'PTRATIO5', 'PTRATIO5', 'PTRATIO6', 'NOX_INDUS', 'NOX_INDUS', 'B_LSTAT', 'CRIM_CHAS', 'CRIM_RM', 'CRIM_AGE', 'CRIM_TAX', 'CRIM_PTRATIO', 'CHAS_INDUS', 'CHAS_NOX', 'CHAS_AGE', 'CHAS_LSTAT', 'LSTAT_AGE', 'LSTAT_ZN', 'LSTAT_INDUS', 'LSTAT_NOX', 'LSTAT_RM', 'LSTAT_DIS', 'LSTAT_RAD', 'LSTAT_PTRATIO', 'RM_ZN', 'RM_INDUS', 'RM_DIS', 'AGE2', 'RM_B', 'INDUS_ZN']\n"
     ]
    }
   ],
   "source": [
    "columns.append('INDUS_ZN')\n",
    "print(columns)"
   ]
  },
  {
   "cell_type": "code",
   "execution_count": 133,
   "id": "f85bcbbe",
   "metadata": {},
   "outputs": [
    {
     "name": "stdout",
     "output_type": "stream",
     "text": [
      "learning error: 12.805269246775076\n",
      "generalization Error: 5.051744114455083\n",
      "Error: 10.464882810530643\n"
     ]
    }
   ],
   "source": [
    "dwo_poli['INDUS_RAD'] = (dwo_poli['RAD'] ** 3) * dwo_poli['INDUS']\n",
    "X = dwo_poli[columns + ['INDUS_RAD']]\n",
    "y = dwo_poli['MEDV']\n",
    "training(X, y)"
   ]
  },
  {
   "cell_type": "code",
   "execution_count": 134,
   "id": "420bd2ce",
   "metadata": {},
   "outputs": [
    {
     "name": "stdout",
     "output_type": "stream",
     "text": [
      "['CRIM', 'ZN', 'INDUS', 'CHAS', 'NOX', 'RM', 'AGE', 'DIS', 'RAD', 'TAX', 'PTRATIO', 'B', 'LSTAT', 'RM2', 'LSTAT2', 'ZN2', 'INDUS2', 'PTRATIO2', 'RAD2', 'NOX2', 'RAD3', 'INDUS3', 'PTRATIO3', 'PTRATIO4', 'PTRATIO5', 'PTRATIO5', 'PTRATIO6', 'NOX_INDUS', 'NOX_INDUS', 'B_LSTAT', 'CRIM_CHAS', 'CRIM_RM', 'CRIM_AGE', 'CRIM_TAX', 'CRIM_PTRATIO', 'CHAS_INDUS', 'CHAS_NOX', 'CHAS_AGE', 'CHAS_LSTAT', 'LSTAT_AGE', 'LSTAT_ZN', 'LSTAT_INDUS', 'LSTAT_NOX', 'LSTAT_RM', 'LSTAT_DIS', 'LSTAT_RAD', 'LSTAT_PTRATIO', 'RM_ZN', 'RM_INDUS', 'RM_DIS', 'AGE2', 'RM_B', 'INDUS_ZN', 'INDUS_RAD']\n"
     ]
    }
   ],
   "source": [
    "columns.append('INDUS_RAD')\n",
    "print(columns)"
   ]
  },
  {
   "cell_type": "code",
   "execution_count": 135,
   "id": "f684fad0",
   "metadata": {},
   "outputs": [
    {
     "name": "stdout",
     "output_type": "stream",
     "text": [
      "learning error: 12.766641717601281\n",
      "generalization Error: 5.059387709918544\n",
      "Error: 10.440222130066656\n"
     ]
    }
   ],
   "source": [
    "dwo_poli['INDUS_TAX'] = dwo_poli['INDUS'] / dwo_poli['TAX']\n",
    "X = dwo_poli[columns + ['INDUS_TAX']]\n",
    "y = dwo_poli['MEDV']\n",
    "training(X, y)"
   ]
  },
  {
   "cell_type": "code",
   "execution_count": 136,
   "id": "e93dc50c",
   "metadata": {},
   "outputs": [
    {
     "name": "stdout",
     "output_type": "stream",
     "text": [
      "['CRIM', 'ZN', 'INDUS', 'CHAS', 'NOX', 'RM', 'AGE', 'DIS', 'RAD', 'TAX', 'PTRATIO', 'B', 'LSTAT', 'RM2', 'LSTAT2', 'ZN2', 'INDUS2', 'PTRATIO2', 'RAD2', 'NOX2', 'RAD3', 'INDUS3', 'PTRATIO3', 'PTRATIO4', 'PTRATIO5', 'PTRATIO5', 'PTRATIO6', 'NOX_INDUS', 'NOX_INDUS', 'B_LSTAT', 'CRIM_CHAS', 'CRIM_RM', 'CRIM_AGE', 'CRIM_TAX', 'CRIM_PTRATIO', 'CHAS_INDUS', 'CHAS_NOX', 'CHAS_AGE', 'CHAS_LSTAT', 'LSTAT_AGE', 'LSTAT_ZN', 'LSTAT_INDUS', 'LSTAT_NOX', 'LSTAT_RM', 'LSTAT_DIS', 'LSTAT_RAD', 'LSTAT_PTRATIO', 'RM_ZN', 'RM_INDUS', 'RM_DIS', 'AGE2', 'RM_B', 'INDUS_ZN', 'INDUS_RAD', 'INDUS_TAX']\n"
     ]
    }
   ],
   "source": [
    "columns.append('INDUS_TAX')\n",
    "print(columns)"
   ]
  },
  {
   "cell_type": "code",
   "execution_count": 137,
   "id": "48fd6ccd",
   "metadata": {},
   "outputs": [
    {
     "name": "stdout",
     "output_type": "stream",
     "text": [
      "learning error: 12.747956881103889\n",
      "generalization Error: 5.034294928579328\n",
      "Error: 10.419603067918857\n"
     ]
    }
   ],
   "source": [
    "dwo_poli['INDUS_PTRATIO'] = dwo_poli['INDUS'] / dwo_poli['PTRATIO']\n",
    "X = dwo_poli[columns + ['INDUS_PTRATIO']]\n",
    "y = dwo_poli['MEDV']\n",
    "training(X, y)"
   ]
  },
  {
   "cell_type": "code",
   "execution_count": 138,
   "id": "3ce7aa44",
   "metadata": {},
   "outputs": [
    {
     "name": "stdout",
     "output_type": "stream",
     "text": [
      "['CRIM', 'ZN', 'INDUS', 'CHAS', 'NOX', 'RM', 'AGE', 'DIS', 'RAD', 'TAX', 'PTRATIO', 'B', 'LSTAT', 'RM2', 'LSTAT2', 'ZN2', 'INDUS2', 'PTRATIO2', 'RAD2', 'NOX2', 'RAD3', 'INDUS3', 'PTRATIO3', 'PTRATIO4', 'PTRATIO5', 'PTRATIO5', 'PTRATIO6', 'NOX_INDUS', 'NOX_INDUS', 'B_LSTAT', 'CRIM_CHAS', 'CRIM_RM', 'CRIM_AGE', 'CRIM_TAX', 'CRIM_PTRATIO', 'CHAS_INDUS', 'CHAS_NOX', 'CHAS_AGE', 'CHAS_LSTAT', 'LSTAT_AGE', 'LSTAT_ZN', 'LSTAT_INDUS', 'LSTAT_NOX', 'LSTAT_RM', 'LSTAT_DIS', 'LSTAT_RAD', 'LSTAT_PTRATIO', 'RM_ZN', 'RM_INDUS', 'RM_DIS', 'AGE2', 'RM_B', 'INDUS_ZN', 'INDUS_RAD', 'INDUS_TAX', 'INDUS_PTRATIO']\n"
     ]
    }
   ],
   "source": [
    "columns.append('INDUS_PTRATIO')\n",
    "print(columns)"
   ]
  },
  {
   "cell_type": "code",
   "execution_count": 139,
   "id": "04977a53",
   "metadata": {},
   "outputs": [
    {
     "name": "stdout",
     "output_type": "stream",
     "text": [
      "learning error: 12.68234224173976\n",
      "generalization Error: 5.004218149854339\n",
      "Error: 10.364715462464286\n"
     ]
    }
   ],
   "source": [
    "dwo_poli['NOX_ZN'] = (dwo_poli['ZN'] ** 3) / dwo_poli['NOX']\n",
    "X = dwo_poli[columns + ['NOX_ZN']]\n",
    "y = dwo_poli['MEDV']\n",
    "training(X, y)"
   ]
  },
  {
   "cell_type": "code",
   "execution_count": 140,
   "id": "de1b7eae",
   "metadata": {},
   "outputs": [
    {
     "name": "stdout",
     "output_type": "stream",
     "text": [
      "['CRIM', 'ZN', 'INDUS', 'CHAS', 'NOX', 'RM', 'AGE', 'DIS', 'RAD', 'TAX', 'PTRATIO', 'B', 'LSTAT', 'RM2', 'LSTAT2', 'ZN2', 'INDUS2', 'PTRATIO2', 'RAD2', 'NOX2', 'RAD3', 'INDUS3', 'PTRATIO3', 'PTRATIO4', 'PTRATIO5', 'PTRATIO5', 'PTRATIO6', 'NOX_INDUS', 'NOX_INDUS', 'B_LSTAT', 'CRIM_CHAS', 'CRIM_RM', 'CRIM_AGE', 'CRIM_TAX', 'CRIM_PTRATIO', 'CHAS_INDUS', 'CHAS_NOX', 'CHAS_AGE', 'CHAS_LSTAT', 'LSTAT_AGE', 'LSTAT_ZN', 'LSTAT_INDUS', 'LSTAT_NOX', 'LSTAT_RM', 'LSTAT_DIS', 'LSTAT_RAD', 'LSTAT_PTRATIO', 'RM_ZN', 'RM_INDUS', 'RM_DIS', 'AGE2', 'RM_B', 'INDUS_ZN', 'INDUS_RAD', 'INDUS_TAX', 'INDUS_PTRATIO', 'NOX_ZN']\n"
     ]
    }
   ],
   "source": [
    "columns.append('NOX_ZN')\n",
    "print(columns)"
   ]
  },
  {
   "cell_type": "code",
   "execution_count": 141,
   "id": "28ae4c6b",
   "metadata": {},
   "outputs": [
    {
     "name": "stdout",
     "output_type": "stream",
     "text": [
      "learning error: 12.68356972994521\n",
      "generalization Error: 5.007916251702886\n",
      "Error: 10.366688700578429\n"
     ]
    }
   ],
   "source": [
    "dwo_poli['ZN_DIS'] = (dwo_poli['ZN'] ** 6) / dwo_poli['DIS']\n",
    "X = dwo_poli[columns + ['ZN_DIS']]\n",
    "y = dwo_poli['MEDV']\n",
    "training(X, y)"
   ]
  },
  {
   "cell_type": "code",
   "execution_count": 142,
   "id": "d122861f",
   "metadata": {},
   "outputs": [
    {
     "name": "stdout",
     "output_type": "stream",
     "text": [
      "['CRIM', 'ZN', 'INDUS', 'CHAS', 'NOX', 'RM', 'AGE', 'DIS', 'RAD', 'TAX', 'PTRATIO', 'B', 'LSTAT', 'RM2', 'LSTAT2', 'ZN2', 'INDUS2', 'PTRATIO2', 'RAD2', 'NOX2', 'RAD3', 'INDUS3', 'PTRATIO3', 'PTRATIO4', 'PTRATIO5', 'PTRATIO5', 'PTRATIO6', 'NOX_INDUS', 'NOX_INDUS', 'B_LSTAT', 'CRIM_CHAS', 'CRIM_RM', 'CRIM_AGE', 'CRIM_TAX', 'CRIM_PTRATIO', 'CHAS_INDUS', 'CHAS_NOX', 'CHAS_AGE', 'CHAS_LSTAT', 'LSTAT_AGE', 'LSTAT_ZN', 'LSTAT_INDUS', 'LSTAT_NOX', 'LSTAT_RM', 'LSTAT_DIS', 'LSTAT_RAD', 'LSTAT_PTRATIO', 'RM_ZN', 'RM_INDUS', 'RM_DIS', 'AGE2', 'RM_B', 'INDUS_ZN', 'INDUS_RAD', 'INDUS_TAX', 'INDUS_PTRATIO', 'NOX_ZN', 'ZN_DIS']\n"
     ]
    }
   ],
   "source": [
    "columns.append('ZN_DIS')\n",
    "print(columns)"
   ]
  },
  {
   "cell_type": "code",
   "execution_count": 143,
   "id": "bcb226d7",
   "metadata": {},
   "outputs": [
    {
     "name": "stdout",
     "output_type": "stream",
     "text": [
      "learning error: 12.67466863291436\n",
      "generalization Error: 4.931660614518787\n",
      "Error: 10.337456766992082\n"
     ]
    }
   ],
   "source": [
    "dwo_poli['ZN_TAX'] = dwo_poli['ZN'] * dwo_poli['TAX']\n",
    "X = dwo_poli[columns + ['ZN_TAX']]\n",
    "y = dwo_poli['MEDV']\n",
    "training(X, y)"
   ]
  },
  {
   "cell_type": "code",
   "execution_count": 144,
   "id": "34eb5563",
   "metadata": {},
   "outputs": [
    {
     "name": "stdout",
     "output_type": "stream",
     "text": [
      "['CRIM', 'ZN', 'INDUS', 'CHAS', 'NOX', 'RM', 'AGE', 'DIS', 'RAD', 'TAX', 'PTRATIO', 'B', 'LSTAT', 'RM2', 'LSTAT2', 'ZN2', 'INDUS2', 'PTRATIO2', 'RAD2', 'NOX2', 'RAD3', 'INDUS3', 'PTRATIO3', 'PTRATIO4', 'PTRATIO5', 'PTRATIO5', 'PTRATIO6', 'NOX_INDUS', 'NOX_INDUS', 'B_LSTAT', 'CRIM_CHAS', 'CRIM_RM', 'CRIM_AGE', 'CRIM_TAX', 'CRIM_PTRATIO', 'CHAS_INDUS', 'CHAS_NOX', 'CHAS_AGE', 'CHAS_LSTAT', 'LSTAT_AGE', 'LSTAT_ZN', 'LSTAT_INDUS', 'LSTAT_NOX', 'LSTAT_RM', 'LSTAT_DIS', 'LSTAT_RAD', 'LSTAT_PTRATIO', 'RM_ZN', 'RM_INDUS', 'RM_DIS', 'AGE2', 'RM_B', 'INDUS_ZN', 'INDUS_RAD', 'INDUS_TAX', 'INDUS_PTRATIO', 'NOX_ZN', 'ZN_DIS', 'ZN_TAX']\n"
     ]
    }
   ],
   "source": [
    "columns.append('ZN_TAX')\n",
    "print(columns)"
   ]
  },
  {
   "cell_type": "code",
   "execution_count": 145,
   "id": "dfb400fc",
   "metadata": {},
   "outputs": [
    {
     "name": "stdout",
     "output_type": "stream",
     "text": [
      "learning error: 12.650198732704935\n",
      "generalization Error: 4.929841896629992\n",
      "Error: 10.319824081980052\n"
     ]
    }
   ],
   "source": [
    "dwo_poli['ZN_PTRATIO'] = dwo_poli['ZN'] / (dwo_poli['PTRATIO'] ** 2)\n",
    "X = dwo_poli[columns + ['ZN_PTRATIO']]\n",
    "y = dwo_poli['MEDV']\n",
    "training(X, y)"
   ]
  },
  {
   "cell_type": "code",
   "execution_count": 146,
   "id": "b410ab2a",
   "metadata": {},
   "outputs": [
    {
     "name": "stdout",
     "output_type": "stream",
     "text": [
      "['CRIM', 'ZN', 'INDUS', 'CHAS', 'NOX', 'RM', 'AGE', 'DIS', 'RAD', 'TAX', 'PTRATIO', 'B', 'LSTAT', 'RM2', 'LSTAT2', 'ZN2', 'INDUS2', 'PTRATIO2', 'RAD2', 'NOX2', 'RAD3', 'INDUS3', 'PTRATIO3', 'PTRATIO4', 'PTRATIO5', 'PTRATIO5', 'PTRATIO6', 'NOX_INDUS', 'NOX_INDUS', 'B_LSTAT', 'CRIM_CHAS', 'CRIM_RM', 'CRIM_AGE', 'CRIM_TAX', 'CRIM_PTRATIO', 'CHAS_INDUS', 'CHAS_NOX', 'CHAS_AGE', 'CHAS_LSTAT', 'LSTAT_AGE', 'LSTAT_ZN', 'LSTAT_INDUS', 'LSTAT_NOX', 'LSTAT_RM', 'LSTAT_DIS', 'LSTAT_RAD', 'LSTAT_PTRATIO', 'RM_ZN', 'RM_INDUS', 'RM_DIS', 'AGE2', 'RM_B', 'INDUS_ZN', 'INDUS_RAD', 'INDUS_TAX', 'INDUS_PTRATIO', 'NOX_ZN', 'ZN_DIS', 'ZN_TAX', 'ZN_PTRATIO']\n"
     ]
    }
   ],
   "source": [
    "columns.append('ZN_PTRATIO')\n",
    "print(columns)"
   ]
  },
  {
   "cell_type": "code",
   "execution_count": 147,
   "id": "2ccc0d3f",
   "metadata": {},
   "outputs": [
    {
     "name": "stdout",
     "output_type": "stream",
     "text": [
      "learning error: 12.621811802214854\n",
      "generalization Error: 4.94011492747529\n",
      "Error: 10.30310658540435\n"
     ]
    }
   ],
   "source": [
    "dwo_poli['ZN_B'] = (dwo_poli['ZN'] ** 2) / (dwo_poli['B'] ** 2)\n",
    "X = dwo_poli[columns + ['ZN_B']]\n",
    "y = dwo_poli['MEDV']\n",
    "training(X, y)"
   ]
  },
  {
   "cell_type": "code",
   "execution_count": 148,
   "id": "e313d68c",
   "metadata": {},
   "outputs": [
    {
     "name": "stdout",
     "output_type": "stream",
     "text": [
      "['CRIM', 'ZN', 'INDUS', 'CHAS', 'NOX', 'RM', 'AGE', 'DIS', 'RAD', 'TAX', 'PTRATIO', 'B', 'LSTAT', 'RM2', 'LSTAT2', 'ZN2', 'INDUS2', 'PTRATIO2', 'RAD2', 'NOX2', 'RAD3', 'INDUS3', 'PTRATIO3', 'PTRATIO4', 'PTRATIO5', 'PTRATIO5', 'PTRATIO6', 'NOX_INDUS', 'NOX_INDUS', 'B_LSTAT', 'CRIM_CHAS', 'CRIM_RM', 'CRIM_AGE', 'CRIM_TAX', 'CRIM_PTRATIO', 'CHAS_INDUS', 'CHAS_NOX', 'CHAS_AGE', 'CHAS_LSTAT', 'LSTAT_AGE', 'LSTAT_ZN', 'LSTAT_INDUS', 'LSTAT_NOX', 'LSTAT_RM', 'LSTAT_DIS', 'LSTAT_RAD', 'LSTAT_PTRATIO', 'RM_ZN', 'RM_INDUS', 'RM_DIS', 'AGE2', 'RM_B', 'INDUS_ZN', 'INDUS_RAD', 'INDUS_TAX', 'INDUS_PTRATIO', 'NOX_ZN', 'ZN_DIS', 'ZN_TAX', 'ZN_PTRATIO', 'ZN_B']\n"
     ]
    }
   ],
   "source": [
    "columns.append('ZN_B')\n",
    "print(columns)"
   ]
  },
  {
   "cell_type": "code",
   "execution_count": 149,
   "id": "c22a30fe",
   "metadata": {},
   "outputs": [
    {
     "name": "stdout",
     "output_type": "stream",
     "text": [
      "learning error: 12.601473841099088\n",
      "generalization Error: 4.8199842960029295\n",
      "Error: 10.252646401408871\n"
     ]
    }
   ],
   "source": [
    "dwo_poli['AGE_DIS'] = dwo_poli['DIS'] * (dwo_poli['AGE'] ** 5)\n",
    "X = dwo_poli[columns + ['AGE_DIS']]\n",
    "y = dwo_poli['MEDV']\n",
    "training(X, y)"
   ]
  },
  {
   "cell_type": "code",
   "execution_count": 150,
   "id": "c26cc7bc",
   "metadata": {},
   "outputs": [
    {
     "name": "stdout",
     "output_type": "stream",
     "text": [
      "['CRIM', 'ZN', 'INDUS', 'CHAS', 'NOX', 'RM', 'AGE', 'DIS', 'RAD', 'TAX', 'PTRATIO', 'B', 'LSTAT', 'RM2', 'LSTAT2', 'ZN2', 'INDUS2', 'PTRATIO2', 'RAD2', 'NOX2', 'RAD3', 'INDUS3', 'PTRATIO3', 'PTRATIO4', 'PTRATIO5', 'PTRATIO5', 'PTRATIO6', 'NOX_INDUS', 'NOX_INDUS', 'B_LSTAT', 'CRIM_CHAS', 'CRIM_RM', 'CRIM_AGE', 'CRIM_TAX', 'CRIM_PTRATIO', 'CHAS_INDUS', 'CHAS_NOX', 'CHAS_AGE', 'CHAS_LSTAT', 'LSTAT_AGE', 'LSTAT_ZN', 'LSTAT_INDUS', 'LSTAT_NOX', 'LSTAT_RM', 'LSTAT_DIS', 'LSTAT_RAD', 'LSTAT_PTRATIO', 'RM_ZN', 'RM_INDUS', 'RM_DIS', 'AGE2', 'RM_B', 'INDUS_ZN', 'INDUS_RAD', 'INDUS_TAX', 'INDUS_PTRATIO', 'NOX_ZN', 'ZN_DIS', 'ZN_TAX', 'ZN_PTRATIO', 'ZN_B', 'AGE_DIS']\n"
     ]
    }
   ],
   "source": [
    "columns.append('AGE_DIS')\n",
    "print(columns)"
   ]
  },
  {
   "cell_type": "code",
   "execution_count": 156,
   "id": "e2d080e9",
   "metadata": {},
   "outputs": [
    {
     "name": "stdout",
     "output_type": "stream",
     "text": [
      "learning error: 12.799144128841121\n",
      "generalization Error: 5.809395297830927\n",
      "Error: 10.689302079234347\n"
     ]
    }
   ],
   "source": [
    "dwo_poli['AGE_RAD'] = dwo_poli['AGE'] * (dwo_poli['RAD'] ** 3)\n",
    "X = dwo_poli[columns + ['AGE_RAD']]\n",
    "y = dwo_poli['MEDV']\n",
    "training(X, y)"
   ]
  },
  {
   "cell_type": "code",
   "execution_count": 157,
   "id": "8bd9ce05",
   "metadata": {},
   "outputs": [
    {
     "name": "stdout",
     "output_type": "stream",
     "text": [
      "['CRIM', 'ZN', 'INDUS', 'CHAS', 'NOX', 'RM', 'AGE', 'DIS', 'RAD', 'TAX', 'PTRATIO', 'B', 'LSTAT', 'RM2', 'LSTAT2', 'ZN2', 'INDUS2', 'PTRATIO2', 'RAD2', 'NOX2', 'RAD3', 'INDUS3', 'PTRATIO3', 'PTRATIO4', 'PTRATIO5', 'PTRATIO5', 'PTRATIO6', 'NOX_INDUS', 'NOX_INDUS', 'B_LSTAT', 'CRIM_CHAS', 'CRIM_RM', 'CRIM_AGE', 'CRIM_TAX', 'CRIM_PTRATIO', 'CHAS_INDUS', 'CHAS_NOX', 'CHAS_AGE', 'CHAS_LSTAT', 'LSTAT_AGE', 'LSTAT_ZN', 'LSTAT_INDUS', 'LSTAT_NOX', 'LSTAT_RM', 'LSTAT_DIS', 'LSTAT_RAD', 'LSTAT_PTRATIO', 'RM_ZN', 'RM_INDUS', 'RM_DIS', 'AGE2', 'RM_B', 'INDUS_ZN', 'INDUS_RAD', 'INDUS_TAX', 'INDUS_PTRATIO', 'NOX_ZN', 'ZN_DIS', 'ZN_TAX', 'ZN_PTRATIO', 'ZN_B', 'AGE_DIS', 'AGE_RAD', 'DIS_PTRATIO', 'AGE_RAD']\n"
     ]
    }
   ],
   "source": [
    "columns.append('AGE_RAD')\n",
    "print(columns)"
   ]
  },
  {
   "cell_type": "code",
   "execution_count": 163,
   "id": "9498a8f8",
   "metadata": {},
   "outputs": [
    {
     "name": "stdout",
     "output_type": "stream",
     "text": [
      "learning error: 12.82509407777621\n",
      "generalization Error: 5.825930350871057\n",
      "Error: 10.712410160209357\n"
     ]
    }
   ],
   "source": [
    "dwo_poli['DIS_B'] = (dwo_poli['DIS'] ** 3) / dwo_poli['B']\n",
    "X = dwo_poli[columns + ['DIS_B']]\n",
    "y = dwo_poli['MEDV']\n",
    "training(X, y)"
   ]
  },
  {
   "cell_type": "code",
   "execution_count": 164,
   "id": "8dc6d1ad",
   "metadata": {},
   "outputs": [
    {
     "name": "stdout",
     "output_type": "stream",
     "text": [
      "['CRIM', 'ZN', 'INDUS', 'CHAS', 'NOX', 'RM', 'AGE', 'DIS', 'RAD', 'TAX', 'PTRATIO', 'B', 'LSTAT', 'RM2', 'LSTAT2', 'ZN2', 'INDUS2', 'PTRATIO2', 'RAD2', 'NOX2', 'RAD3', 'INDUS3', 'PTRATIO3', 'PTRATIO4', 'PTRATIO5', 'PTRATIO5', 'PTRATIO6', 'NOX_INDUS', 'NOX_INDUS', 'B_LSTAT', 'CRIM_CHAS', 'CRIM_RM', 'CRIM_AGE', 'CRIM_TAX', 'CRIM_PTRATIO', 'CHAS_INDUS', 'CHAS_NOX', 'CHAS_AGE', 'CHAS_LSTAT', 'LSTAT_AGE', 'LSTAT_ZN', 'LSTAT_INDUS', 'LSTAT_NOX', 'LSTAT_RM', 'LSTAT_DIS', 'LSTAT_RAD', 'LSTAT_PTRATIO', 'RM_ZN', 'RM_INDUS', 'RM_DIS', 'AGE2', 'RM_B', 'INDUS_ZN', 'INDUS_RAD', 'INDUS_TAX', 'INDUS_PTRATIO', 'NOX_ZN', 'ZN_DIS', 'ZN_TAX', 'ZN_PTRATIO', 'ZN_B', 'AGE_DIS', 'AGE_RAD', 'DIS_PTRATIO', 'AGE_RAD', 'DIS_PTRATIO', 'DIS_B']\n"
     ]
    }
   ],
   "source": [
    "columns.append('DIS_B')\n",
    "print(columns)"
   ]
  },
  {
   "cell_type": "code",
   "execution_count": 165,
   "id": "ea9cd19e",
   "metadata": {},
   "outputs": [
    {
     "name": "stdout",
     "output_type": "stream",
     "text": [
      "learning error: 12.329284916165065\n",
      "generalization Error: 4.449227044667915\n",
      "Error: 9.950704819429783\n"
     ]
    }
   ],
   "source": [
    "dwo_poli['RAD_TAX'] = dwo_poli['TAX'] * (dwo_poli['RAD'] ** 2)\n",
    "X = dwo_poli[columns + ['RAD_TAX']]\n",
    "y = dwo_poli['MEDV']\n",
    "training(X, y)"
   ]
  },
  {
   "cell_type": "code",
   "execution_count": 166,
   "id": "f00262d7",
   "metadata": {},
   "outputs": [
    {
     "name": "stdout",
     "output_type": "stream",
     "text": [
      "['CRIM', 'ZN', 'INDUS', 'CHAS', 'NOX', 'RM', 'AGE', 'DIS', 'RAD', 'TAX', 'PTRATIO', 'B', 'LSTAT', 'RM2', 'LSTAT2', 'ZN2', 'INDUS2', 'PTRATIO2', 'RAD2', 'NOX2', 'RAD3', 'INDUS3', 'PTRATIO3', 'PTRATIO4', 'PTRATIO5', 'PTRATIO5', 'PTRATIO6', 'NOX_INDUS', 'NOX_INDUS', 'B_LSTAT', 'CRIM_CHAS', 'CRIM_RM', 'CRIM_AGE', 'CRIM_TAX', 'CRIM_PTRATIO', 'CHAS_INDUS', 'CHAS_NOX', 'CHAS_AGE', 'CHAS_LSTAT', 'LSTAT_AGE', 'LSTAT_ZN', 'LSTAT_INDUS', 'LSTAT_NOX', 'LSTAT_RM', 'LSTAT_DIS', 'LSTAT_RAD', 'LSTAT_PTRATIO', 'RM_ZN', 'RM_INDUS', 'RM_DIS', 'AGE2', 'RM_B', 'INDUS_ZN', 'INDUS_RAD', 'INDUS_TAX', 'INDUS_PTRATIO', 'NOX_ZN', 'ZN_DIS', 'ZN_TAX', 'ZN_PTRATIO', 'ZN_B', 'AGE_DIS', 'AGE_RAD', 'DIS_PTRATIO', 'AGE_RAD', 'DIS_PTRATIO', 'DIS_B', 'RAD_TAX']\n"
     ]
    }
   ],
   "source": [
    "columns.append('RAD_TAX')\n",
    "print(columns)"
   ]
  },
  {
   "cell_type": "code",
   "execution_count": 167,
   "id": "19085700",
   "metadata": {},
   "outputs": [
    {
     "name": "stdout",
     "output_type": "stream",
     "text": [
      "learning error: 12.319716244549952\n",
      "generalization Error: 4.448350123070054\n",
      "Error: 9.943759735602221\n"
     ]
    }
   ],
   "source": [
    "dwo_poli['RAD_TAX_again'] = (dwo_poli['RAD'] ** 2) / dwo_poli['TAX']\n",
    "X = dwo_poli[columns + ['RAD_TAX_again']]\n",
    "y = dwo_poli['MEDV']\n",
    "training(X, y)"
   ]
  },
  {
   "cell_type": "code",
   "execution_count": 168,
   "id": "dac2c2b6",
   "metadata": {},
   "outputs": [
    {
     "name": "stdout",
     "output_type": "stream",
     "text": [
      "['CRIM', 'ZN', 'INDUS', 'CHAS', 'NOX', 'RM', 'AGE', 'DIS', 'RAD', 'TAX', 'PTRATIO', 'B', 'LSTAT', 'RM2', 'LSTAT2', 'ZN2', 'INDUS2', 'PTRATIO2', 'RAD2', 'NOX2', 'RAD3', 'INDUS3', 'PTRATIO3', 'PTRATIO4', 'PTRATIO5', 'PTRATIO5', 'PTRATIO6', 'NOX_INDUS', 'NOX_INDUS', 'B_LSTAT', 'CRIM_CHAS', 'CRIM_RM', 'CRIM_AGE', 'CRIM_TAX', 'CRIM_PTRATIO', 'CHAS_INDUS', 'CHAS_NOX', 'CHAS_AGE', 'CHAS_LSTAT', 'LSTAT_AGE', 'LSTAT_ZN', 'LSTAT_INDUS', 'LSTAT_NOX', 'LSTAT_RM', 'LSTAT_DIS', 'LSTAT_RAD', 'LSTAT_PTRATIO', 'RM_ZN', 'RM_INDUS', 'RM_DIS', 'AGE2', 'RM_B', 'INDUS_ZN', 'INDUS_RAD', 'INDUS_TAX', 'INDUS_PTRATIO', 'NOX_ZN', 'ZN_DIS', 'ZN_TAX', 'ZN_PTRATIO', 'ZN_B', 'AGE_DIS', 'AGE_RAD', 'DIS_PTRATIO', 'AGE_RAD', 'DIS_PTRATIO', 'DIS_B', 'RAD_TAX', 'RAD_TAX_again']\n"
     ]
    }
   ],
   "source": [
    "columns.append('RAD_TAX_again')\n",
    "print(columns)"
   ]
  },
  {
   "cell_type": "code",
   "execution_count": 169,
   "id": "350690be",
   "metadata": {},
   "outputs": [
    {
     "name": "stdout",
     "output_type": "stream",
     "text": [
      "learning error: 12.285119039540747\n",
      "generalization Error: 4.417473943435635\n",
      "Error: 9.91028571484372\n"
     ]
    }
   ],
   "source": [
    "dwo_poli['RAD_B'] = (dwo_poli['B'] ** 4) / dwo_poli['RAD']\n",
    "X = dwo_poli[columns + ['RAD_B']]\n",
    "y = dwo_poli['MEDV']\n",
    "training(X, y)"
   ]
  },
  {
   "cell_type": "code",
   "execution_count": 170,
   "id": "c349b20c",
   "metadata": {},
   "outputs": [
    {
     "name": "stdout",
     "output_type": "stream",
     "text": [
      "['CRIM', 'ZN', 'INDUS', 'CHAS', 'NOX', 'RM', 'AGE', 'DIS', 'RAD', 'TAX', 'PTRATIO', 'B', 'LSTAT', 'RM2', 'LSTAT2', 'ZN2', 'INDUS2', 'PTRATIO2', 'RAD2', 'NOX2', 'RAD3', 'INDUS3', 'PTRATIO3', 'PTRATIO4', 'PTRATIO5', 'PTRATIO5', 'PTRATIO6', 'NOX_INDUS', 'NOX_INDUS', 'B_LSTAT', 'CRIM_CHAS', 'CRIM_RM', 'CRIM_AGE', 'CRIM_TAX', 'CRIM_PTRATIO', 'CHAS_INDUS', 'CHAS_NOX', 'CHAS_AGE', 'CHAS_LSTAT', 'LSTAT_AGE', 'LSTAT_ZN', 'LSTAT_INDUS', 'LSTAT_NOX', 'LSTAT_RM', 'LSTAT_DIS', 'LSTAT_RAD', 'LSTAT_PTRATIO', 'RM_ZN', 'RM_INDUS', 'RM_DIS', 'AGE2', 'RM_B', 'INDUS_ZN', 'INDUS_RAD', 'INDUS_TAX', 'INDUS_PTRATIO', 'NOX_ZN', 'ZN_DIS', 'ZN_TAX', 'ZN_PTRATIO', 'ZN_B', 'AGE_DIS', 'AGE_RAD', 'DIS_PTRATIO', 'AGE_RAD', 'DIS_PTRATIO', 'DIS_B', 'RAD_TAX', 'RAD_TAX_again', 'RAD_B']\n"
     ]
    }
   ],
   "source": [
    "columns.append('RAD_B')\n",
    "print(columns)"
   ]
  },
  {
   "cell_type": "code",
   "execution_count": 171,
   "id": "66968c66",
   "metadata": {},
   "outputs": [
    {
     "name": "stdout",
     "output_type": "stream",
     "text": [
      "learning error: 12.274479729662005\n",
      "generalization Error: 4.402655697818558\n",
      "Error: 9.898385001364293\n"
     ]
    }
   ],
   "source": [
    "dwo_poli['TAX_PTRATIO'] = (dwo_poli['PTRATIO'] ** 2) / dwo_poli['TAX']\n",
    "X = dwo_poli[columns + ['TAX_PTRATIO']]\n",
    "y = dwo_poli['MEDV']\n",
    "training(X, y)"
   ]
  },
  {
   "cell_type": "code",
   "execution_count": 172,
   "id": "05f6ddde",
   "metadata": {},
   "outputs": [
    {
     "name": "stdout",
     "output_type": "stream",
     "text": [
      "['CRIM', 'ZN', 'INDUS', 'CHAS', 'NOX', 'RM', 'AGE', 'DIS', 'RAD', 'TAX', 'PTRATIO', 'B', 'LSTAT', 'RM2', 'LSTAT2', 'ZN2', 'INDUS2', 'PTRATIO2', 'RAD2', 'NOX2', 'RAD3', 'INDUS3', 'PTRATIO3', 'PTRATIO4', 'PTRATIO5', 'PTRATIO5', 'PTRATIO6', 'NOX_INDUS', 'NOX_INDUS', 'B_LSTAT', 'CRIM_CHAS', 'CRIM_RM', 'CRIM_AGE', 'CRIM_TAX', 'CRIM_PTRATIO', 'CHAS_INDUS', 'CHAS_NOX', 'CHAS_AGE', 'CHAS_LSTAT', 'LSTAT_AGE', 'LSTAT_ZN', 'LSTAT_INDUS', 'LSTAT_NOX', 'LSTAT_RM', 'LSTAT_DIS', 'LSTAT_RAD', 'LSTAT_PTRATIO', 'RM_ZN', 'RM_INDUS', 'RM_DIS', 'AGE2', 'RM_B', 'INDUS_ZN', 'INDUS_RAD', 'INDUS_TAX', 'INDUS_PTRATIO', 'NOX_ZN', 'ZN_DIS', 'ZN_TAX', 'ZN_PTRATIO', 'ZN_B', 'AGE_DIS', 'AGE_RAD', 'DIS_PTRATIO', 'AGE_RAD', 'DIS_PTRATIO', 'DIS_B', 'RAD_TAX', 'RAD_TAX_again', 'RAD_B', 'TAX_PTRATIO']\n"
     ]
    }
   ],
   "source": [
    "columns.append('TAX_PTRATIO')\n",
    "print(columns)"
   ]
  },
  {
   "cell_type": "markdown",
   "id": "0e364796",
   "metadata": {},
   "source": [
    "Затем я провела несколько экспериментов с сочетаниями трех и более переменных. Из них удачными оказались два, оставила я в итоге один."
   ]
  },
  {
   "cell_type": "code",
   "execution_count": 174,
   "id": "b09a38e1",
   "metadata": {},
   "outputs": [
    {
     "name": "stdout",
     "output_type": "stream",
     "text": [
      "learning error: 12.189102308900823\n",
      "generalization Error: 4.52452327961012\n",
      "Error: 9.875564080346958\n"
     ]
    }
   ],
   "source": [
    "#Собрала все неблагополучные социальные факторы, предположила, что они все вместе отрицательно влияют на стоимость жилья.\n",
    "dwo_poli['CRIM_B_LSTAT'] = 1 / dwo_poli['CRIM'] / dwo_poli['B'] / (dwo_poli['LSTAT'] ** 2)\n",
    "X = dwo_poli[columns + ['CRIM_B_LSTAT']]\n",
    "y = dwo_poli['MEDV']\n",
    "training(X, y)"
   ]
  },
  {
   "cell_type": "code",
   "execution_count": 175,
   "id": "f4485a71",
   "metadata": {},
   "outputs": [
    {
     "name": "stdout",
     "output_type": "stream",
     "text": [
      "['CRIM', 'ZN', 'INDUS', 'CHAS', 'NOX', 'RM', 'AGE', 'DIS', 'RAD', 'TAX', 'PTRATIO', 'B', 'LSTAT', 'RM2', 'LSTAT2', 'ZN2', 'INDUS2', 'PTRATIO2', 'RAD2', 'NOX2', 'RAD3', 'INDUS3', 'PTRATIO3', 'PTRATIO4', 'PTRATIO5', 'PTRATIO5', 'PTRATIO6', 'NOX_INDUS', 'NOX_INDUS', 'B_LSTAT', 'CRIM_CHAS', 'CRIM_RM', 'CRIM_AGE', 'CRIM_TAX', 'CRIM_PTRATIO', 'CHAS_INDUS', 'CHAS_NOX', 'CHAS_AGE', 'CHAS_LSTAT', 'LSTAT_AGE', 'LSTAT_ZN', 'LSTAT_INDUS', 'LSTAT_NOX', 'LSTAT_RM', 'LSTAT_DIS', 'LSTAT_RAD', 'LSTAT_PTRATIO', 'RM_ZN', 'RM_INDUS', 'RM_DIS', 'AGE2', 'RM_B', 'INDUS_ZN', 'INDUS_RAD', 'INDUS_TAX', 'INDUS_PTRATIO', 'NOX_ZN', 'ZN_DIS', 'ZN_TAX', 'ZN_PTRATIO', 'ZN_B', 'AGE_DIS', 'AGE_RAD', 'DIS_PTRATIO', 'AGE_RAD', 'DIS_PTRATIO', 'DIS_B', 'RAD_TAX', 'RAD_TAX_again', 'RAD_B', 'TAX_PTRATIO', 'CRIM_B_LSTAT']\n"
     ]
    }
   ],
   "source": [
    "columns.append('CRIM_B_LSTAT')\n",
    "print(columns)"
   ]
  },
  {
   "cell_type": "code",
   "execution_count": 176,
   "id": "c17491c5",
   "metadata": {},
   "outputs": [
    {
     "name": "stdout",
     "output_type": "stream",
     "text": [
      "learning error: 12.050688013777865\n",
      "generalization Error: 4.524817210897345\n",
      "Error: 9.779018592785183\n"
     ]
    }
   ],
   "source": [
    "#Собрала факторы, которые показывают расположение района относительно важных объектов\n",
    "#(рядом с рекой находится много учебных заведений, центр города и т.д.)\n",
    "# Здесь признак показал неплохие результаты, но на финальном этапе его пришлось убрать\n",
    "dwo_poli['CHAS_DIS_RAD'] = dwo_poli['CHAS'] * (dwo_poli['DIS'] ** 4) * (dwo_poli['RAD'] ** 3)\n",
    "X = dwo_poli[columns + ['CHAS_DIS_RAD']]\n",
    "y = dwo_poli['MEDV']\n",
    "training(X, y)"
   ]
  },
  {
   "cell_type": "code",
   "execution_count": 177,
   "id": "cd0d7d84",
   "metadata": {},
   "outputs": [
    {
     "name": "stdout",
     "output_type": "stream",
     "text": [
      "['CRIM', 'ZN', 'INDUS', 'CHAS', 'NOX', 'RM', 'AGE', 'DIS', 'RAD', 'TAX', 'PTRATIO', 'B', 'LSTAT', 'RM2', 'LSTAT2', 'ZN2', 'INDUS2', 'PTRATIO2', 'RAD2', 'NOX2', 'RAD3', 'INDUS3', 'PTRATIO3', 'PTRATIO4', 'PTRATIO5', 'PTRATIO5', 'PTRATIO6', 'NOX_INDUS', 'NOX_INDUS', 'B_LSTAT', 'CRIM_CHAS', 'CRIM_RM', 'CRIM_AGE', 'CRIM_TAX', 'CRIM_PTRATIO', 'CHAS_INDUS', 'CHAS_NOX', 'CHAS_AGE', 'CHAS_LSTAT', 'LSTAT_AGE', 'LSTAT_ZN', 'LSTAT_INDUS', 'LSTAT_NOX', 'LSTAT_RM', 'LSTAT_DIS', 'LSTAT_RAD', 'LSTAT_PTRATIO', 'RM_ZN', 'RM_INDUS', 'RM_DIS', 'AGE2', 'RM_B', 'INDUS_ZN', 'INDUS_RAD', 'INDUS_TAX', 'INDUS_PTRATIO', 'NOX_ZN', 'ZN_DIS', 'ZN_TAX', 'ZN_PTRATIO', 'ZN_B', 'AGE_DIS', 'AGE_RAD', 'DIS_PTRATIO', 'AGE_RAD', 'DIS_PTRATIO', 'DIS_B', 'RAD_TAX', 'RAD_TAX_again', 'RAD_B', 'TAX_PTRATIO', 'CRIM_B_LSTAT', 'CHAS_DIS_RAD']\n"
     ]
    }
   ],
   "source": [
    "columns.append('CHAS_DIS_RAD')\n",
    "print(columns)"
   ]
  },
  {
   "cell_type": "markdown",
   "id": "6d190161",
   "metadata": {},
   "source": [
    "Для меня открытием стала непредсказуемость модели. Когда я в первый раз дошла до этого места, ошибка на тестовой выборке составляла примерно 4,27. После того, как все мои прекрасные новые признаки оказались в одной функции, ошибка подскочила в два раза, и пришлось что-то дополнительно придумывать, чтобы ее снизить.\n",
    "\n",
    "Когда я второй раз прошлась по ноутбуку, признаки, которые прекрасно работали в прошлый раз, повышали ошибку, на которую раньше влияли положительно. Отсюда непоследовательность: вроде бы ошибка повышается, а признак признается хорошим.\n",
    "\n",
    "В целом задача выполнена: MSE значительно снизилась, MSE на тестовой выборке вообще отличная. Но модель получилась очень сложной, а ее результат - нестабильным."
   ]
  },
  {
   "cell_type": "code",
   "execution_count": null,
   "id": "610286c0",
   "metadata": {},
   "outputs": [],
   "source": []
  }
 ],
 "metadata": {
  "kernelspec": {
   "display_name": "Python 3",
   "language": "python",
   "name": "python3"
  },
  "language_info": {
   "codemirror_mode": {
    "name": "ipython",
    "version": 3
   },
   "file_extension": ".py",
   "mimetype": "text/x-python",
   "name": "python",
   "nbconvert_exporter": "python",
   "pygments_lexer": "ipython3",
   "version": "3.9.4"
  }
 },
 "nbformat": 4,
 "nbformat_minor": 5
}
